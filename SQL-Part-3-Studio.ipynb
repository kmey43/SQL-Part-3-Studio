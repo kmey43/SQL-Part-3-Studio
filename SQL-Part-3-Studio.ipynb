{
    "metadata": {
        "kernelspec": {
            "name": "SQL",
            "display_name": "SQL",
            "language": "sql"
        },
        "language_info": {
            "name": "sql",
            "version": ""
        },
        "extensions": {
            "azuredatastudio": {
                "version": 1,
                "views": []
            }
        }
    },
    "nbformat_minor": 2,
    "nbformat": 4,
    "cells": [
        {
            "cell_type": "markdown",
            "source": [
                "# SQL Part 3 Studio\n",
                "\n",
                "### Let's practice your SQL quering skills!  For each question, work along in the notebook adding your query and answering the questions. \n",
                "\n",
                "### **DataSet**\n",
                "\n",
                "### <span style=\"font-size: 14px; font-family: -apple-system, BlinkMacSystemFont, sans-serif;\">We will be using the Goodbooks-10k dataset from the exercises in the prep work.&nbsp; Feel free reference your previous notebooks.</span>\n",
                "\n",
                "- The dataset can be found here: [goodbooks-10k](https://www.kaggle.com/zygmunt/goodbooks-10k)\n",
                "- You can access the **BooksDB** in the Launchcode server.\n",
                "\n",
                "### **Business Issue**\n",
                "\n",
                "You are an employee at a small independet bookstore and you have been tasked to increase sales.  You decide to use the BooksDB to find books and themes to highlight in fun promotions throughout each month / season.  We will be starting with March and then you will have a chance to explore another month of your choosing.  We want to come up with a list of events/ promotions to run each month.  If you are looking for ideas to include in your promotions:\n",
                "\n",
                "- [https://www.calendarr.com/united-states/calendar-2022/](https://www.calendarr.com/united-states/calendar-2022/)\n",
                "- [https://www.holidayinsights.com/moreholidays/](https://www.holidayinsights.com/moreholidays/)\n",
                "    - Click on a month and it will take you to a more detailed page"
            ],
            "metadata": {
                "azdata_cell_guid": "b9034d8a-b631-48bf-a895-1012a6ffa784"
            },
            "attachments": {}
        },
        {
            "cell_type": "markdown",
            "source": [
                "## Part 1:  March - Women's History Month, Dr Seuss Day(3/2), National Pie Day3/14, St Patrick's Day (3/17), Season - Spring"
            ],
            "metadata": {
                "azdata_cell_guid": "6e55eb1c-4a14-4076-90d2-95ed17a6309f"
            },
            "attachments": {}
        },
        {
            "cell_type": "markdown",
            "source": [
                "### **Event 1:** Women's History Month\n",
                "\n",
                "Goal: Highlight Popular Womans Authors based on ratings from the Good Reads DB.\n",
                "\n",
                "### **Write a query that returns tag\\_id, the number of times each tag\\_id is used and the tag\\_name.**  \n",
                "\n",
                "### Use the GROUP BY and HAVING clause to narrow your focus.\n",
                "\n",
                "Try multiple keywords, ie woman vs female (female ended up giving better results)"
            ],
            "metadata": {
                "azdata_cell_guid": "d220c097-e9cf-4edd-9abe-312d071217b7"
            },
            "attachments": {}
        },
        {
            "cell_type": "code",
            "source": [
                "select\r\n",
                "authors,\r\n",
                "bt.tag_id,\r\n",
                "tag_name,\r\n",
                "count(bt.tag_id) as tag_count\r\n",
                "\r\n",
                "from booksdb.dbo.books b\r\n",
                "join booksdb.dbo.book_tags bt on bt.goodreads_book_id=b.book_id\r\n",
                "join booksdb.dbo.tags t on t.tag_id=bt.tag_id\r\n",
                "join booksdb.dbo.ratings r on r.book_id=b.book_id\r\n",
                "\r\n",
                "where lower(tag_name) like '%woman%' or lower(tag_name) like '%female%' or lower(tag_name) like '%women%'\r\n",
                "and rating = 5\r\n",
                "\r\n",
                "group by authors, bt.tag_id, tag_name\r\n",
                "\r\n",
                "having count(bt.tag_id) >150\r\n",
                "\r\n",
                "order by authors, tag_name\r\n",
                "\r\n",
                "\r\n",
                ""
            ],
            "metadata": {
                "azdata_cell_guid": "e0b750e1-96bd-4406-afe2-1a7b509bb3f3",
                "language": "sql"
            },
            "outputs": [
                {
                    "output_type": "display_data",
                    "data": {
                        "text/html": "(27 rows affected)"
                    },
                    "metadata": {}
                },
                {
                    "output_type": "display_data",
                    "data": {
                        "text/html": "Total execution time: 00:00:03.678"
                    },
                    "metadata": {}
                },
                {
                    "output_type": "execute_result",
                    "metadata": {},
                    "execution_count": 32,
                    "data": {
                        "application/vnd.dataresource+json": {
                            "schema": {
                                "fields": [
                                    {
                                        "name": "authors"
                                    },
                                    {
                                        "name": "tag_id"
                                    },
                                    {
                                        "name": "tag_name"
                                    },
                                    {
                                        "name": "tag_count"
                                    }
                                ]
                            },
                            "data": [
                                {
                                    "authors": "Alexander McCall Smith",
                                    "tag_id": "11658",
                                    "tag_name": "female-protagonist",
                                    "tag_count": "196"
                                },
                                {
                                    "authors": "Alexander McCall Smith",
                                    "tag_id": "32686",
                                    "tag_name": "women",
                                    "tag_count": "227"
                                },
                                {
                                    "authors": "Amy Tan",
                                    "tag_id": "11644",
                                    "tag_name": "female-authors",
                                    "tag_count": "184"
                                },
                                {
                                    "authors": "Annie Proulx",
                                    "tag_id": "11643",
                                    "tag_name": "female-author",
                                    "tag_count": "200"
                                },
                                {
                                    "authors": "Annie Proulx",
                                    "tag_id": "11644",
                                    "tag_name": "female-authors",
                                    "tag_count": "200"
                                },
                                {
                                    "authors": "Candace Bushnell",
                                    "tag_id": "11643",
                                    "tag_name": "female-author",
                                    "tag_count": "193"
                                },
                                {
                                    "authors": "Candace Bushnell",
                                    "tag_id": "11644",
                                    "tag_name": "female-authors",
                                    "tag_count": "193"
                                },
                                {
                                    "authors": "Janet Evanovich",
                                    "tag_id": "32686",
                                    "tag_name": "women",
                                    "tag_count": "221"
                                },
                                {
                                    "authors": "Joan Didion",
                                    "tag_id": "11643",
                                    "tag_name": "female-author",
                                    "tag_count": "199"
                                },
                                {
                                    "authors": "Joan Didion",
                                    "tag_id": "11644",
                                    "tag_name": "female-authors",
                                    "tag_count": "199"
                                },
                                {
                                    "authors": "Laura Ingalls Wilder, Garth Williams",
                                    "tag_id": "11643",
                                    "tag_name": "female-author",
                                    "tag_count": "561"
                                },
                                {
                                    "authors": "Marian Keyes",
                                    "tag_id": "11643",
                                    "tag_name": "female-author",
                                    "tag_count": "172"
                                },
                                {
                                    "authors": "Marian Keyes",
                                    "tag_id": "11644",
                                    "tag_name": "female-authors",
                                    "tag_count": "370"
                                },
                                {
                                    "authors": "Marian Keyes",
                                    "tag_id": "32686",
                                    "tag_name": "women",
                                    "tag_count": "158"
                                },
                                {
                                    "authors": "Marian Keyes",
                                    "tag_id": "32708",
                                    "tag_name": "women-s-fiction",
                                    "tag_count": "158"
                                },
                                {
                                    "authors": "Marjane Satrapi, Anjali Singh",
                                    "tag_id": "11643",
                                    "tag_name": "female-author",
                                    "tag_count": "187"
                                },
                                {
                                    "authors": "Marjane Satrapi, Anjali Singh",
                                    "tag_id": "11644",
                                    "tag_name": "female-authors",
                                    "tag_count": "187"
                                },
                                {
                                    "authors": "Marjane Satrapi, Anjali Singh",
                                    "tag_id": "11658",
                                    "tag_name": "female-protagonist",
                                    "tag_count": "187"
                                },
                                {
                                    "authors": "Patricia Cornwell",
                                    "tag_id": "11643",
                                    "tag_name": "female-author",
                                    "tag_count": "497"
                                },
                                {
                                    "authors": "Robin McKinley",
                                    "tag_id": "11643",
                                    "tag_name": "female-author",
                                    "tag_count": "292"
                                },
                                {
                                    "authors": "Robin McKinley",
                                    "tag_id": "11658",
                                    "tag_name": "female-protagonist",
                                    "tag_count": "292"
                                },
                                {
                                    "authors": "Toni Morrison",
                                    "tag_id": "11643",
                                    "tag_name": "female-author",
                                    "tag_count": "194"
                                },
                                {
                                    "authors": "Toni Morrison",
                                    "tag_id": "11644",
                                    "tag_name": "female-authors",
                                    "tag_count": "194"
                                },
                                {
                                    "authors": "Tracy Chevalier",
                                    "tag_id": "11643",
                                    "tag_name": "female-author",
                                    "tag_count": "200"
                                },
                                {
                                    "authors": "Tracy Chevalier",
                                    "tag_id": "11644",
                                    "tag_name": "female-authors",
                                    "tag_count": "300"
                                },
                                {
                                    "authors": "Zadie Smith",
                                    "tag_id": "11643",
                                    "tag_name": "female-author",
                                    "tag_count": "300"
                                },
                                {
                                    "authors": "Zadie Smith",
                                    "tag_id": "11644",
                                    "tag_name": "female-authors",
                                    "tag_count": "300"
                                }
                            ]
                        },
                        "text/html": [
                            "<table>",
                            "<tr><th>authors</th><th>tag_id</th><th>tag_name</th><th>tag_count</th></tr>",
                            "<tr><td>Alexander McCall Smith</td><td>11658</td><td>female-protagonist</td><td>196</td></tr>",
                            "<tr><td>Alexander McCall Smith</td><td>32686</td><td>women</td><td>227</td></tr>",
                            "<tr><td>Amy Tan</td><td>11644</td><td>female-authors</td><td>184</td></tr>",
                            "<tr><td>Annie Proulx</td><td>11643</td><td>female-author</td><td>200</td></tr>",
                            "<tr><td>Annie Proulx</td><td>11644</td><td>female-authors</td><td>200</td></tr>",
                            "<tr><td>Candace Bushnell</td><td>11643</td><td>female-author</td><td>193</td></tr>",
                            "<tr><td>Candace Bushnell</td><td>11644</td><td>female-authors</td><td>193</td></tr>",
                            "<tr><td>Janet Evanovich</td><td>32686</td><td>women</td><td>221</td></tr>",
                            "<tr><td>Joan Didion</td><td>11643</td><td>female-author</td><td>199</td></tr>",
                            "<tr><td>Joan Didion</td><td>11644</td><td>female-authors</td><td>199</td></tr>",
                            "<tr><td>Laura Ingalls Wilder, Garth Williams</td><td>11643</td><td>female-author</td><td>561</td></tr>",
                            "<tr><td>Marian Keyes</td><td>11643</td><td>female-author</td><td>172</td></tr>",
                            "<tr><td>Marian Keyes</td><td>11644</td><td>female-authors</td><td>370</td></tr>",
                            "<tr><td>Marian Keyes</td><td>32686</td><td>women</td><td>158</td></tr>",
                            "<tr><td>Marian Keyes</td><td>32708</td><td>women-s-fiction</td><td>158</td></tr>",
                            "<tr><td>Marjane Satrapi, Anjali Singh</td><td>11643</td><td>female-author</td><td>187</td></tr>",
                            "<tr><td>Marjane Satrapi, Anjali Singh</td><td>11644</td><td>female-authors</td><td>187</td></tr>",
                            "<tr><td>Marjane Satrapi, Anjali Singh</td><td>11658</td><td>female-protagonist</td><td>187</td></tr>",
                            "<tr><td>Patricia Cornwell</td><td>11643</td><td>female-author</td><td>497</td></tr>",
                            "<tr><td>Robin McKinley</td><td>11643</td><td>female-author</td><td>292</td></tr>",
                            "<tr><td>Robin McKinley</td><td>11658</td><td>female-protagonist</td><td>292</td></tr>",
                            "<tr><td>Toni Morrison</td><td>11643</td><td>female-author</td><td>194</td></tr>",
                            "<tr><td>Toni Morrison</td><td>11644</td><td>female-authors</td><td>194</td></tr>",
                            "<tr><td>Tracy Chevalier</td><td>11643</td><td>female-author</td><td>200</td></tr>",
                            "<tr><td>Tracy Chevalier</td><td>11644</td><td>female-authors</td><td>300</td></tr>",
                            "<tr><td>Zadie Smith</td><td>11643</td><td>female-author</td><td>300</td></tr>",
                            "<tr><td>Zadie Smith</td><td>11644</td><td>female-authors</td><td>300</td></tr>",
                            "</table>"
                        ]
                    }
                }
            ],
            "execution_count": 32
        },
        {
            "cell_type": "code",
            "source": [
                "select\r\n",
                "bt.tag_id,\r\n",
                "tag_name,\r\n",
                "count(bt.tag_id) as tag_count\r\n",
                "\r\n",
                "from BooksDB.dbo.book_tags bt\r\n",
                "join booksdb.dbo.tags t on bt.tag_id=t.tag_id\r\n",
                "\r\n",
                "where lower(tag_name) like '%woman%' or lower(tag_name) like '%female%' or lower(tag_name) like '%women%'\r\n",
                "group by bt.tag_id,tag_name\r\n",
                "\r\n",
                "order by tag_count desc"
            ],
            "metadata": {
                "language": "sql",
                "azdata_cell_guid": "05dbc72c-605c-4214-8933-98a907e52a58"
            },
            "outputs": [
                {
                    "output_type": "display_data",
                    "data": {
                        "text/html": "(151 rows affected)"
                    },
                    "metadata": {}
                },
                {
                    "output_type": "display_data",
                    "data": {
                        "text/html": "Total execution time: 00:00:00.298"
                    },
                    "metadata": {}
                },
                {
                    "output_type": "execute_result",
                    "metadata": {},
                    "execution_count": 19,
                    "data": {
                        "application/vnd.dataresource+json": {
                            "schema": {
                                "fields": [
                                    {
                                        "name": "tag_id"
                                    },
                                    {
                                        "name": "tag_name"
                                    },
                                    {
                                        "name": "tag_count"
                                    }
                                ]
                            },
                            "data": [
                                {
                                    "tag_id": "32686",
                                    "tag_name": "women",
                                    "tag_count": "1062"
                                },
                                {
                                    "tag_id": "11643",
                                    "tag_name": "female-author",
                                    "tag_count": "997"
                                },
                                {
                                    "tag_id": "11644",
                                    "tag_name": "female-authors",
                                    "tag_count": "721"
                                },
                                {
                                    "tag_id": "32708",
                                    "tag_name": "women-s-fiction",
                                    "tag_count": "438"
                                },
                                {
                                    "tag_id": "32724",
                                    "tag_name": "women-writers",
                                    "tag_count": "373"
                                },
                                {
                                    "tag_id": "32726",
                                    "tag_name": "womens-fiction",
                                    "tag_count": "368"
                                },
                                {
                                    "tag_id": "32688",
                                    "tag_name": "women-authors",
                                    "tag_count": "324"
                                },
                                {
                                    "tag_id": "11658",
                                    "tag_name": "female-protagonist",
                                    "tag_count": "171"
                                },
                                {
                                    "tag_id": "28839",
                                    "tag_name": "strong-women",
                                    "tag_count": "71"
                                },
                                {
                                    "tag_id": "11646",
                                    "tag_name": "female-detective",
                                    "tag_count": "32"
                                },
                                {
                                    "tag_id": "32720",
                                    "tag_name": "women-s-studies",
                                    "tag_count": "30"
                                },
                                {
                                    "tag_id": "32735",
                                    "tag_name": "womens-studies",
                                    "tag_count": "21"
                                },
                                {
                                    "tag_id": "11662",
                                    "tag_name": "female-writers",
                                    "tag_count": "18"
                                },
                                {
                                    "tag_id": "11656",
                                    "tag_name": "female-pov",
                                    "tag_count": "17"
                                },
                                {
                                    "tag_id": "11642",
                                    "tag_name": "female",
                                    "tag_count": "17"
                                },
                                {
                                    "tag_id": "32717",
                                    "tag_name": "women-s-murder-club-series",
                                    "tag_count": "15"
                                },
                                {
                                    "tag_id": "16122",
                                    "tag_name": "james-patterson-women-s-murder-club",
                                    "tag_count": "15"
                                },
                                {
                                    "tag_id": "32716",
                                    "tag_name": "women-s-murder-club",
                                    "tag_count": "15"
                                },
                                {
                                    "tag_id": "32732",
                                    "tag_name": "womens-murder-club",
                                    "tag_count": "15"
                                },
                                {
                                    "tag_id": "11652",
                                    "tag_name": "female-lead",
                                    "tag_count": "14"
                                },
                                {
                                    "tag_id": "32711",
                                    "tag_name": "women-s-issues",
                                    "tag_count": "14"
                                },
                                {
                                    "tag_id": "32681",
                                    "tag_name": "woman-s-murder-club",
                                    "tag_count": "14"
                                },
                                {
                                    "tag_id": "32733",
                                    "tag_name": "womens-murder-club-series",
                                    "tag_count": "14"
                                },
                                {
                                    "tag_id": "32725",
                                    "tag_name": "womens",
                                    "tag_count": "13"
                                },
                                {
                                    "tag_id": "3514",
                                    "tag_name": "author-female",
                                    "tag_count": "12"
                                },
                                {
                                    "tag_id": "16123",
                                    "tag_name": "james-patterson-womens-murder-club",
                                    "tag_count": "12"
                                },
                                {
                                    "tag_id": "32729",
                                    "tag_name": "womens-issues",
                                    "tag_count": "11"
                                },
                                {
                                    "tag_id": "28834",
                                    "tag_name": "strong-female-lead",
                                    "tag_count": "10"
                                },
                                {
                                    "tag_id": "16121",
                                    "tag_name": "james-patterson-women-s-murder-cl",
                                    "tag_count": "10"
                                },
                                {
                                    "tag_id": "32683",
                                    "tag_name": "womanhood",
                                    "tag_count": "10"
                                },
                                {
                                    "tag_id": "11647",
                                    "tag_name": "female-detectives",
                                    "tag_count": "9"
                                },
                                {
                                    "tag_id": "32702",
                                    "tag_name": "women-of-the-otherworld",
                                    "tag_count": "9"
                                },
                                {
                                    "tag_id": "19038",
                                    "tag_name": "man-woman",
                                    "tag_count": "8"
                                },
                                {
                                    "tag_id": "32703",
                                    "tag_name": "women-of-the-otherworld-series",
                                    "tag_count": "8"
                                },
                                {
                                    "tag_id": "32685",
                                    "tag_name": "womans-murder-club",
                                    "tag_count": "8"
                                },
                                {
                                    "tag_id": "5129",
                                    "tag_name": "books-by-women",
                                    "tag_count": "7"
                                },
                                {
                                    "tag_id": "7195",
                                    "tag_name": "christian-women",
                                    "tag_count": "7"
                                },
                                {
                                    "tag_id": "32704",
                                    "tag_name": "women-of-the-underworld",
                                    "tag_count": "6"
                                },
                                {
                                    "tag_id": "27324",
                                    "tag_name": "series-women-of-the-otherworld",
                                    "tag_count": "6"
                                },
                                {
                                    "tag_id": "32719",
                                    "tag_name": "women-s-rights",
                                    "tag_count": "6"
                                },
                                {
                                    "tag_id": "32721",
                                    "tag_name": "women-studies",
                                    "tag_count": "6"
                                },
                                {
                                    "tag_id": "4455",
                                    "tag_name": "biblical-womanhood",
                                    "tag_count": "6"
                                },
                                {
                                    "tag_id": "32710",
                                    "tag_name": "women-s-history",
                                    "tag_count": "6"
                                },
                                {
                                    "tag_id": "32698",
                                    "tag_name": "women-murder-club",
                                    "tag_count": "6"
                                },
                                {
                                    "tag_id": "32706",
                                    "tag_name": "women-s",
                                    "tag_count": "5"
                                },
                                {
                                    "tag_id": "25408",
                                    "tag_name": "readwomen2014",
                                    "tag_count": "5"
                                },
                                {
                                    "tag_id": "1149",
                                    "tag_name": "500-women",
                                    "tag_count": "5"
                                },
                                {
                                    "tag_id": "12328",
                                    "tag_name": "for-women",
                                    "tag_count": "5"
                                },
                                {
                                    "tag_id": "22269",
                                    "tag_name": "older-man-younger-woman",
                                    "tag_count": "5"
                                },
                                {
                                    "tag_id": "32712",
                                    "tag_name": "women-s-lit",
                                    "tag_count": "5"
                                },
                                {
                                    "tag_id": "18423",
                                    "tag_name": "little-women",
                                    "tag_count": "4"
                                },
                                {
                                    "tag_id": "22271",
                                    "tag_name": "older-woman-younger-man",
                                    "tag_count": "4"
                                },
                                {
                                    "tag_id": "11650",
                                    "tag_name": "female-friendship",
                                    "tag_count": "4"
                                },
                                {
                                    "tag_id": "28830",
                                    "tag_name": "strong-female",
                                    "tag_count": "4"
                                },
                                {
                                    "tag_id": "4603",
                                    "tag_name": "biographies-of-women",
                                    "tag_count": "4"
                                },
                                {
                                    "tag_id": "32740",
                                    "tag_name": "wonder-woman",
                                    "tag_count": "4"
                                },
                                {
                                    "tag_id": "6038",
                                    "tag_name": "by-women",
                                    "tag_count": "4"
                                },
                                {
                                    "tag_id": "32718",
                                    "tag_name": "women-s-prize-for-fiction",
                                    "tag_count": "3"
                                },
                                {
                                    "tag_id": "28833",
                                    "tag_name": "strong-female-characters",
                                    "tag_count": "3"
                                },
                                {
                                    "tag_id": "32695",
                                    "tag_name": "women-in-translation",
                                    "tag_count": "3"
                                },
                                {
                                    "tag_id": "32730",
                                    "tag_name": "womens-lit",
                                    "tag_count": "3"
                                },
                                {
                                    "tag_id": "7194",
                                    "tag_name": "christian-woman",
                                    "tag_count": "2"
                                },
                                {
                                    "tag_id": "5132",
                                    "tag_name": "books-every-woman-should-read",
                                    "tag_count": "2"
                                },
                                {
                                    "tag_id": "32709",
                                    "tag_name": "women-s-health",
                                    "tag_count": "2"
                                },
                                {
                                    "tag_id": "23671",
                                    "tag_name": "pioneer-woman",
                                    "tag_count": "2"
                                },
                                {
                                    "tag_id": "32700",
                                    "tag_name": "women-of-color",
                                    "tag_count": "2"
                                },
                                {
                                    "tag_id": "32690",
                                    "tag_name": "women-feminism",
                                    "tag_count": "2"
                                },
                                {
                                    "tag_id": "32680",
                                    "tag_name": "woman-s-fiction",
                                    "tag_count": "2"
                                },
                                {
                                    "tag_id": "13810",
                                    "tag_name": "gutsy-women",
                                    "tag_count": "2"
                                },
                                {
                                    "tag_id": "32692",
                                    "tag_name": "women-friends",
                                    "tag_count": "2"
                                },
                                {
                                    "tag_id": "12694",
                                    "tag_name": "funny-women",
                                    "tag_count": "2"
                                },
                                {
                                    "tag_id": "32691",
                                    "tag_name": "women-fiction",
                                    "tag_count": "2"
                                },
                                {
                                    "tag_id": "11645",
                                    "tag_name": "female-biographies",
                                    "tag_count": "2"
                                },
                                {
                                    "tag_id": "1082",
                                    "tag_name": "4-women-intertwined-stories",
                                    "tag_count": "1"
                                },
                                {
                                    "tag_id": "10986",
                                    "tag_name": "every-woman-should-read",
                                    "tag_count": "1"
                                },
                                {
                                    "tag_id": "7033",
                                    "tag_name": "chinese-women",
                                    "tag_count": "1"
                                },
                                {
                                    "tag_id": "32679",
                                    "tag_name": "woman-author",
                                    "tag_count": "1"
                                },
                                {
                                    "tag_id": "32727",
                                    "tag_name": "womens-fiction-chick-lit",
                                    "tag_count": "1"
                                },
                                {
                                    "tag_id": "4309",
                                    "tag_name": "best-adult-female-friendship-books",
                                    "tag_count": "1"
                                },
                                {
                                    "tag_id": "3476",
                                    "tag_name": "australian-women-writers",
                                    "tag_count": "1"
                                },
                                {
                                    "tag_id": "14494",
                                    "tag_name": "historical-fiction-civil-war-women",
                                    "tag_count": "1"
                                },
                                {
                                    "tag_id": "32705",
                                    "tag_name": "women-read",
                                    "tag_count": "1"
                                },
                                {
                                    "tag_id": "27824",
                                    "tag_name": "single-women",
                                    "tag_count": "1"
                                },
                                {
                                    "tag_id": "19771",
                                    "tag_name": "men-women",
                                    "tag_count": "1"
                                },
                                {
                                    "tag_id": "32722",
                                    "tag_name": "women-words-wine",
                                    "tag_count": "1"
                                },
                                {
                                    "tag_id": "23672",
                                    "tag_name": "pioneer-women",
                                    "tag_count": "1"
                                },
                                {
                                    "tag_id": "937",
                                    "tag_name": "21-books-every-woman-should-read",
                                    "tag_count": "1"
                                },
                                {
                                    "tag_id": "32684",
                                    "tag_name": "womans-literature",
                                    "tag_count": "1"
                                },
                                {
                                    "tag_id": "28832",
                                    "tag_name": "strong-female-character-s",
                                    "tag_count": "1"
                                },
                                {
                                    "tag_id": "25409",
                                    "tag_name": "readwomen2016",
                                    "tag_count": "1"
                                },
                                {
                                    "tag_id": "28836",
                                    "tag_name": "strong-female-supporting-characters",
                                    "tag_count": "1"
                                },
                                {
                                    "tag_id": "17079",
                                    "tag_name": "kick-ass-female",
                                    "tag_count": "1"
                                },
                                {
                                    "tag_id": "1503",
                                    "tag_name": "abused-women",
                                    "tag_count": "1"
                                },
                                {
                                    "tag_id": "32731",
                                    "tag_name": "womens-lit-to-read",
                                    "tag_count": "1"
                                },
                                {
                                    "tag_id": "20722",
                                    "tag_name": "muslim-women",
                                    "tag_count": "1"
                                },
                                {
                                    "tag_id": "23892",
                                    "tag_name": "policewomen",
                                    "tag_count": "1"
                                },
                                {
                                    "tag_id": "10308",
                                    "tag_name": "education-for-women",
                                    "tag_count": "1"
                                },
                                {
                                    "tag_id": "27325",
                                    "tag_name": "series-womens-murder-club",
                                    "tag_count": "1"
                                },
                                {
                                    "tag_id": "32699",
                                    "tag_name": "women-of-a-certain-age",
                                    "tag_count": "1"
                                },
                                {
                                    "tag_id": "19757",
                                    "tag_name": "memorable-woman-characters",
                                    "tag_count": "1"
                                },
                                {
                                    "tag_id": "32701",
                                    "tag_name": "women-of-faith",
                                    "tag_count": "1"
                                },
                                {
                                    "tag_id": "19772",
                                    "tag_name": "men-women-relations",
                                    "tag_count": "1"
                                },
                                {
                                    "tag_id": "15869",
                                    "tag_name": "islamic-women",
                                    "tag_count": "1"
                                },
                                {
                                    "tag_id": "11653",
                                    "tag_name": "female-main-character",
                                    "tag_count": "1"
                                },
                                {
                                    "tag_id": "11649",
                                    "tag_name": "female-fiction",
                                    "tag_count": "1"
                                },
                                {
                                    "tag_id": "12601",
                                    "tag_name": "friendship-women",
                                    "tag_count": "1"
                                },
                                {
                                    "tag_id": "11651",
                                    "tag_name": "female-genre-authors",
                                    "tag_count": "1"
                                },
                                {
                                    "tag_id": "32734",
                                    "tag_name": "womens-stories",
                                    "tag_count": "1"
                                },
                                {
                                    "tag_id": "1387",
                                    "tag_name": "a-woman-after-gods-own-heart",
                                    "tag_count": "1"
                                },
                                {
                                    "tag_id": "4006",
                                    "tag_name": "batwoman",
                                    "tag_count": "1"
                                },
                                {
                                    "tag_id": "23125",
                                    "tag_name": "patterson-womens-murder-club",
                                    "tag_count": "1"
                                },
                                {
                                    "tag_id": "4729",
                                    "tag_name": "black-ops-woman-team-cia-sean-case",
                                    "tag_count": "1"
                                },
                                {
                                    "tag_id": "32689",
                                    "tag_name": "women-entrepeneurs",
                                    "tag_count": "1"
                                },
                                {
                                    "tag_id": "452",
                                    "tag_name": "1960s-women-s-status",
                                    "tag_count": "1"
                                },
                                {
                                    "tag_id": "11655",
                                    "tag_name": "female-pi",
                                    "tag_count": "1"
                                },
                                {
                                    "tag_id": "29914",
                                    "tag_name": "the-life-of-women-in-royal-family-o",
                                    "tag_count": "1"
                                },
                                {
                                    "tag_id": "24455",
                                    "tag_name": "protagonist-female",
                                    "tag_count": "1"
                                },
                                {
                                    "tag_id": "7332",
                                    "tag_name": "cis-women",
                                    "tag_count": "1"
                                },
                                {
                                    "tag_id": "32715",
                                    "tag_name": "women-s-murder",
                                    "tag_count": "1"
                                },
                                {
                                    "tag_id": "11654",
                                    "tag_name": "female-persuasion",
                                    "tag_count": "1"
                                },
                                {
                                    "tag_id": "1386",
                                    "tag_name": "a-woman-after-god-s-own-heart",
                                    "tag_count": "1"
                                },
                                {
                                    "tag_id": "22740",
                                    "tag_name": "own-written-by-women",
                                    "tag_count": "1"
                                },
                                {
                                    "tag_id": "2824",
                                    "tag_name": "arab-women",
                                    "tag_count": "1"
                                },
                                {
                                    "tag_id": "32723",
                                    "tag_name": "women-write-big-books",
                                    "tag_count": "1"
                                },
                                {
                                    "tag_id": "6267",
                                    "tag_name": "career-women",
                                    "tag_count": "1"
                                },
                                {
                                    "tag_id": "32713",
                                    "tag_name": "women-s-literature",
                                    "tag_count": "1"
                                },
                                {
                                    "tag_id": "32728",
                                    "tag_name": "womens-health",
                                    "tag_count": "1"
                                },
                                {
                                    "tag_id": "891",
                                    "tag_name": "2017-read-women",
                                    "tag_count": "1"
                                },
                                {
                                    "tag_id": "23124",
                                    "tag_name": "patterson-women-s-murder-club",
                                    "tag_count": "1"
                                },
                                {
                                    "tag_id": "23891",
                                    "tag_name": "policewoman-potential-victim",
                                    "tag_count": "1"
                                },
                                {
                                    "tag_id": "32696",
                                    "tag_name": "women-in-war",
                                    "tag_count": "1"
                                },
                                {
                                    "tag_id": "4622",
                                    "tag_name": "biography-women",
                                    "tag_count": "1"
                                },
                                {
                                    "tag_id": "3162",
                                    "tag_name": "artist-women-bio",
                                    "tag_count": "1"
                                },
                                {
                                    "tag_id": "11648",
                                    "tag_name": "female-doctor",
                                    "tag_count": "1"
                                },
                                {
                                    "tag_id": "28835",
                                    "tag_name": "strong-female-protagonist",
                                    "tag_count": "1"
                                },
                                {
                                    "tag_id": "32694",
                                    "tag_name": "women-in-medicine",
                                    "tag_count": "1"
                                },
                                {
                                    "tag_id": "32707",
                                    "tag_name": "women-s-bible-study",
                                    "tag_count": "1"
                                },
                                {
                                    "tag_id": "32714",
                                    "tag_name": "women-s-ministry",
                                    "tag_count": "1"
                                },
                                {
                                    "tag_id": "1741",
                                    "tag_name": "afghan-female-entrepreneur-under-ta",
                                    "tag_count": "1"
                                },
                                {
                                    "tag_id": "11660",
                                    "tag_name": "female-spy",
                                    "tag_count": "1"
                                },
                                {
                                    "tag_id": "15331",
                                    "tag_name": "important-female-authors",
                                    "tag_count": "1"
                                },
                                {
                                    "tag_id": "29324",
                                    "tag_name": "tbr-ax-female",
                                    "tag_count": "1"
                                },
                                {
                                    "tag_id": "28831",
                                    "tag_name": "strong-female-character",
                                    "tag_count": "1"
                                },
                                {
                                    "tag_id": "11659",
                                    "tag_name": "female-serial-killer",
                                    "tag_count": "1"
                                },
                                {
                                    "tag_id": "11657",
                                    "tag_name": "female-povs",
                                    "tag_count": "1"
                                },
                                {
                                    "tag_id": "32682",
                                    "tag_name": "woman-trans-agender-authors",
                                    "tag_count": "1"
                                },
                                {
                                    "tag_id": "32687",
                                    "tag_name": "women-and-religion",
                                    "tag_count": "1"
                                },
                                {
                                    "tag_id": "22270",
                                    "tag_name": "older-woman",
                                    "tag_count": "1"
                                },
                                {
                                    "tag_id": "32697",
                                    "tag_name": "women-literature",
                                    "tag_count": "1"
                                },
                                {
                                    "tag_id": "11661",
                                    "tag_name": "female-writer",
                                    "tag_count": "1"
                                },
                                {
                                    "tag_id": "32693",
                                    "tag_name": "women-friendships",
                                    "tag_count": "1"
                                }
                            ]
                        },
                        "text/html": [
                            "<table>",
                            "<tr><th>tag_id</th><th>tag_name</th><th>tag_count</th></tr>",
                            "<tr><td>32686</td><td>women</td><td>1062</td></tr>",
                            "<tr><td>11643</td><td>female-author</td><td>997</td></tr>",
                            "<tr><td>11644</td><td>female-authors</td><td>721</td></tr>",
                            "<tr><td>32708</td><td>women-s-fiction</td><td>438</td></tr>",
                            "<tr><td>32724</td><td>women-writers</td><td>373</td></tr>",
                            "<tr><td>32726</td><td>womens-fiction</td><td>368</td></tr>",
                            "<tr><td>32688</td><td>women-authors</td><td>324</td></tr>",
                            "<tr><td>11658</td><td>female-protagonist</td><td>171</td></tr>",
                            "<tr><td>28839</td><td>strong-women</td><td>71</td></tr>",
                            "<tr><td>11646</td><td>female-detective</td><td>32</td></tr>",
                            "<tr><td>32720</td><td>women-s-studies</td><td>30</td></tr>",
                            "<tr><td>32735</td><td>womens-studies</td><td>21</td></tr>",
                            "<tr><td>11662</td><td>female-writers</td><td>18</td></tr>",
                            "<tr><td>11656</td><td>female-pov</td><td>17</td></tr>",
                            "<tr><td>11642</td><td>female</td><td>17</td></tr>",
                            "<tr><td>32717</td><td>women-s-murder-club-series</td><td>15</td></tr>",
                            "<tr><td>16122</td><td>james-patterson-women-s-murder-club</td><td>15</td></tr>",
                            "<tr><td>32716</td><td>women-s-murder-club</td><td>15</td></tr>",
                            "<tr><td>32732</td><td>womens-murder-club</td><td>15</td></tr>",
                            "<tr><td>11652</td><td>female-lead</td><td>14</td></tr>",
                            "<tr><td>32711</td><td>women-s-issues</td><td>14</td></tr>",
                            "<tr><td>32681</td><td>woman-s-murder-club</td><td>14</td></tr>",
                            "<tr><td>32733</td><td>womens-murder-club-series</td><td>14</td></tr>",
                            "<tr><td>32725</td><td>womens</td><td>13</td></tr>",
                            "<tr><td>3514</td><td>author-female</td><td>12</td></tr>",
                            "<tr><td>16123</td><td>james-patterson-womens-murder-club</td><td>12</td></tr>",
                            "<tr><td>32729</td><td>womens-issues</td><td>11</td></tr>",
                            "<tr><td>28834</td><td>strong-female-lead</td><td>10</td></tr>",
                            "<tr><td>16121</td><td>james-patterson-women-s-murder-cl</td><td>10</td></tr>",
                            "<tr><td>32683</td><td>womanhood</td><td>10</td></tr>",
                            "<tr><td>11647</td><td>female-detectives</td><td>9</td></tr>",
                            "<tr><td>32702</td><td>women-of-the-otherworld</td><td>9</td></tr>",
                            "<tr><td>19038</td><td>man-woman</td><td>8</td></tr>",
                            "<tr><td>32703</td><td>women-of-the-otherworld-series</td><td>8</td></tr>",
                            "<tr><td>32685</td><td>womans-murder-club</td><td>8</td></tr>",
                            "<tr><td>5129</td><td>books-by-women</td><td>7</td></tr>",
                            "<tr><td>7195</td><td>christian-women</td><td>7</td></tr>",
                            "<tr><td>32704</td><td>women-of-the-underworld</td><td>6</td></tr>",
                            "<tr><td>27324</td><td>series-women-of-the-otherworld</td><td>6</td></tr>",
                            "<tr><td>32719</td><td>women-s-rights</td><td>6</td></tr>",
                            "<tr><td>32721</td><td>women-studies</td><td>6</td></tr>",
                            "<tr><td>4455</td><td>biblical-womanhood</td><td>6</td></tr>",
                            "<tr><td>32710</td><td>women-s-history</td><td>6</td></tr>",
                            "<tr><td>32698</td><td>women-murder-club</td><td>6</td></tr>",
                            "<tr><td>32706</td><td>women-s</td><td>5</td></tr>",
                            "<tr><td>25408</td><td>readwomen2014</td><td>5</td></tr>",
                            "<tr><td>1149</td><td>500-women</td><td>5</td></tr>",
                            "<tr><td>12328</td><td>for-women</td><td>5</td></tr>",
                            "<tr><td>22269</td><td>older-man-younger-woman</td><td>5</td></tr>",
                            "<tr><td>32712</td><td>women-s-lit</td><td>5</td></tr>",
                            "<tr><td>18423</td><td>little-women</td><td>4</td></tr>",
                            "<tr><td>22271</td><td>older-woman-younger-man</td><td>4</td></tr>",
                            "<tr><td>11650</td><td>female-friendship</td><td>4</td></tr>",
                            "<tr><td>28830</td><td>strong-female</td><td>4</td></tr>",
                            "<tr><td>4603</td><td>biographies-of-women</td><td>4</td></tr>",
                            "<tr><td>32740</td><td>wonder-woman</td><td>4</td></tr>",
                            "<tr><td>6038</td><td>by-women</td><td>4</td></tr>",
                            "<tr><td>32718</td><td>women-s-prize-for-fiction</td><td>3</td></tr>",
                            "<tr><td>28833</td><td>strong-female-characters</td><td>3</td></tr>",
                            "<tr><td>32695</td><td>women-in-translation</td><td>3</td></tr>",
                            "<tr><td>32730</td><td>womens-lit</td><td>3</td></tr>",
                            "<tr><td>7194</td><td>christian-woman</td><td>2</td></tr>",
                            "<tr><td>5132</td><td>books-every-woman-should-read</td><td>2</td></tr>",
                            "<tr><td>32709</td><td>women-s-health</td><td>2</td></tr>",
                            "<tr><td>23671</td><td>pioneer-woman</td><td>2</td></tr>",
                            "<tr><td>32700</td><td>women-of-color</td><td>2</td></tr>",
                            "<tr><td>32690</td><td>women-feminism</td><td>2</td></tr>",
                            "<tr><td>32680</td><td>woman-s-fiction</td><td>2</td></tr>",
                            "<tr><td>13810</td><td>gutsy-women</td><td>2</td></tr>",
                            "<tr><td>32692</td><td>women-friends</td><td>2</td></tr>",
                            "<tr><td>12694</td><td>funny-women</td><td>2</td></tr>",
                            "<tr><td>32691</td><td>women-fiction</td><td>2</td></tr>",
                            "<tr><td>11645</td><td>female-biographies</td><td>2</td></tr>",
                            "<tr><td>1082</td><td>4-women-intertwined-stories</td><td>1</td></tr>",
                            "<tr><td>10986</td><td>every-woman-should-read</td><td>1</td></tr>",
                            "<tr><td>7033</td><td>chinese-women</td><td>1</td></tr>",
                            "<tr><td>32679</td><td>woman-author</td><td>1</td></tr>",
                            "<tr><td>32727</td><td>womens-fiction-chick-lit</td><td>1</td></tr>",
                            "<tr><td>4309</td><td>best-adult-female-friendship-books</td><td>1</td></tr>",
                            "<tr><td>3476</td><td>australian-women-writers</td><td>1</td></tr>",
                            "<tr><td>14494</td><td>historical-fiction-civil-war-women</td><td>1</td></tr>",
                            "<tr><td>32705</td><td>women-read</td><td>1</td></tr>",
                            "<tr><td>27824</td><td>single-women</td><td>1</td></tr>",
                            "<tr><td>19771</td><td>men-women</td><td>1</td></tr>",
                            "<tr><td>32722</td><td>women-words-wine</td><td>1</td></tr>",
                            "<tr><td>23672</td><td>pioneer-women</td><td>1</td></tr>",
                            "<tr><td>937</td><td>21-books-every-woman-should-read</td><td>1</td></tr>",
                            "<tr><td>32684</td><td>womans-literature</td><td>1</td></tr>",
                            "<tr><td>28832</td><td>strong-female-character-s</td><td>1</td></tr>",
                            "<tr><td>25409</td><td>readwomen2016</td><td>1</td></tr>",
                            "<tr><td>28836</td><td>strong-female-supporting-characters</td><td>1</td></tr>",
                            "<tr><td>17079</td><td>kick-ass-female</td><td>1</td></tr>",
                            "<tr><td>1503</td><td>abused-women</td><td>1</td></tr>",
                            "<tr><td>32731</td><td>womens-lit-to-read</td><td>1</td></tr>",
                            "<tr><td>20722</td><td>muslim-women</td><td>1</td></tr>",
                            "<tr><td>23892</td><td>policewomen</td><td>1</td></tr>",
                            "<tr><td>10308</td><td>education-for-women</td><td>1</td></tr>",
                            "<tr><td>27325</td><td>series-womens-murder-club</td><td>1</td></tr>",
                            "<tr><td>32699</td><td>women-of-a-certain-age</td><td>1</td></tr>",
                            "<tr><td>19757</td><td>memorable-woman-characters</td><td>1</td></tr>",
                            "<tr><td>32701</td><td>women-of-faith</td><td>1</td></tr>",
                            "<tr><td>19772</td><td>men-women-relations</td><td>1</td></tr>",
                            "<tr><td>15869</td><td>islamic-women</td><td>1</td></tr>",
                            "<tr><td>11653</td><td>female-main-character</td><td>1</td></tr>",
                            "<tr><td>11649</td><td>female-fiction</td><td>1</td></tr>",
                            "<tr><td>12601</td><td>friendship-women</td><td>1</td></tr>",
                            "<tr><td>11651</td><td>female-genre-authors</td><td>1</td></tr>",
                            "<tr><td>32734</td><td>womens-stories</td><td>1</td></tr>",
                            "<tr><td>1387</td><td>a-woman-after-gods-own-heart</td><td>1</td></tr>",
                            "<tr><td>4006</td><td>batwoman</td><td>1</td></tr>",
                            "<tr><td>23125</td><td>patterson-womens-murder-club</td><td>1</td></tr>",
                            "<tr><td>4729</td><td>black-ops-woman-team-cia-sean-case</td><td>1</td></tr>",
                            "<tr><td>32689</td><td>women-entrepeneurs</td><td>1</td></tr>",
                            "<tr><td>452</td><td>1960s-women-s-status</td><td>1</td></tr>",
                            "<tr><td>11655</td><td>female-pi</td><td>1</td></tr>",
                            "<tr><td>29914</td><td>the-life-of-women-in-royal-family-o</td><td>1</td></tr>",
                            "<tr><td>24455</td><td>protagonist-female</td><td>1</td></tr>",
                            "<tr><td>7332</td><td>cis-women</td><td>1</td></tr>",
                            "<tr><td>32715</td><td>women-s-murder</td><td>1</td></tr>",
                            "<tr><td>11654</td><td>female-persuasion</td><td>1</td></tr>",
                            "<tr><td>1386</td><td>a-woman-after-god-s-own-heart</td><td>1</td></tr>",
                            "<tr><td>22740</td><td>own-written-by-women</td><td>1</td></tr>",
                            "<tr><td>2824</td><td>arab-women</td><td>1</td></tr>",
                            "<tr><td>32723</td><td>women-write-big-books</td><td>1</td></tr>",
                            "<tr><td>6267</td><td>career-women</td><td>1</td></tr>",
                            "<tr><td>32713</td><td>women-s-literature</td><td>1</td></tr>",
                            "<tr><td>32728</td><td>womens-health</td><td>1</td></tr>",
                            "<tr><td>891</td><td>2017-read-women</td><td>1</td></tr>",
                            "<tr><td>23124</td><td>patterson-women-s-murder-club</td><td>1</td></tr>",
                            "<tr><td>23891</td><td>policewoman-potential-victim</td><td>1</td></tr>",
                            "<tr><td>32696</td><td>women-in-war</td><td>1</td></tr>",
                            "<tr><td>4622</td><td>biography-women</td><td>1</td></tr>",
                            "<tr><td>3162</td><td>artist-women-bio</td><td>1</td></tr>",
                            "<tr><td>11648</td><td>female-doctor</td><td>1</td></tr>",
                            "<tr><td>28835</td><td>strong-female-protagonist</td><td>1</td></tr>",
                            "<tr><td>32694</td><td>women-in-medicine</td><td>1</td></tr>",
                            "<tr><td>32707</td><td>women-s-bible-study</td><td>1</td></tr>",
                            "<tr><td>32714</td><td>women-s-ministry</td><td>1</td></tr>",
                            "<tr><td>1741</td><td>afghan-female-entrepreneur-under-ta</td><td>1</td></tr>",
                            "<tr><td>11660</td><td>female-spy</td><td>1</td></tr>",
                            "<tr><td>15331</td><td>important-female-authors</td><td>1</td></tr>",
                            "<tr><td>29324</td><td>tbr-ax-female</td><td>1</td></tr>",
                            "<tr><td>28831</td><td>strong-female-character</td><td>1</td></tr>",
                            "<tr><td>11659</td><td>female-serial-killer</td><td>1</td></tr>",
                            "<tr><td>11657</td><td>female-povs</td><td>1</td></tr>",
                            "<tr><td>32682</td><td>woman-trans-agender-authors</td><td>1</td></tr>",
                            "<tr><td>32687</td><td>women-and-religion</td><td>1</td></tr>",
                            "<tr><td>22270</td><td>older-woman</td><td>1</td></tr>",
                            "<tr><td>32697</td><td>women-literature</td><td>1</td></tr>",
                            "<tr><td>11661</td><td>female-writer</td><td>1</td></tr>",
                            "<tr><td>32693</td><td>women-friendships</td><td>1</td></tr>",
                            "</table>"
                        ]
                    }
                }
            ],
            "execution_count": 19
        },
        {
            "cell_type": "markdown",
            "source": [
                "### **Which keyword(s) and tag(s) would you like to explore more?**"
            ],
            "metadata": {
                "azdata_cell_guid": "e9acd8b5-a62b-4ac0-bd07-19915b379ba6"
            },
            "attachments": {}
        },
        {
            "cell_type": "markdown",
            "source": [
                "### **Write a query to return authors, titles, ratings and** **selected tag(s)\\_id.**"
            ],
            "metadata": {
                "azdata_cell_guid": "59b84464-c0bc-4dac-9e02-0c803765b063"
            },
            "attachments": {}
        },
        {
            "cell_type": "code",
            "source": [
                "-- Solution\r\n",
                "select\r\n",
                "title,\r\n",
                "authors,\r\n",
                "bt.tag_id,\r\n",
                "tag_name,\r\n",
                "count(bt.tag_id) as tag_count\r\n",
                "\r\n",
                "from booksdb.dbo.books b\r\n",
                "join booksdb.dbo.book_tags bt on bt.goodreads_book_id=b.book_id\r\n",
                "join booksdb.dbo.tags t on t.tag_id=bt.tag_id\r\n",
                "join booksdb.dbo.ratings r on r.book_id=b.book_id\r\n",
                "\r\n",
                "where lower(tag_name) like '%woman%' or lower(tag_name) like '%female%' or lower(tag_name) like '%women%'\r\n",
                "and rating = 5\r\n",
                "\r\n",
                "group by title, bt.tag_id, tag_name, authors\r\n",
                "\r\n",
                "--having count(bt.tag_id) >150\r\n",
                "\r\n",
                "order by tag_count, title"
            ],
            "metadata": {
                "azdata_cell_guid": "51ffeaaf-6dde-4906-95f3-eb8757babf27",
                "tags": [],
                "language": "sql"
            },
            "outputs": [
                {
                    "output_type": "display_data",
                    "data": {
                        "text/html": "(480 rows affected)"
                    },
                    "metadata": {}
                },
                {
                    "output_type": "display_data",
                    "data": {
                        "text/html": "Total execution time: 00:00:02.514"
                    },
                    "metadata": {}
                },
                {
                    "output_type": "execute_result",
                    "metadata": {},
                    "execution_count": 38,
                    "data": {
                        "application/vnd.dataresource+json": {
                            "schema": {
                                "fields": [
                                    {
                                        "name": "title"
                                    },
                                    {
                                        "name": "authors"
                                    },
                                    {
                                        "name": "tag_id"
                                    },
                                    {
                                        "name": "tag_name"
                                    },
                                    {
                                        "name": "tag_count"
                                    }
                                ]
                            },
                            "data": [
                                {
                                    "title": "The Pilot's Wife",
                                    "authors": "Anita Shreve",
                                    "tag_id": "32686",
                                    "tag_name": "women",
                                    "tag_count": "7"
                                },
                                {
                                    "title": "The Pilot's Wife",
                                    "authors": "Anita Shreve",
                                    "tag_id": "32708",
                                    "tag_name": "women-s-fiction",
                                    "tag_count": "7"
                                },
                                {
                                    "title": "The Pilot's Wife",
                                    "authors": "Anita Shreve",
                                    "tag_id": "32726",
                                    "tag_name": "womens-fiction",
                                    "tag_count": "7"
                                },
                                {
                                    "title": "I Feel Bad about My Neck: And Other Thoughts on Being a Woman",
                                    "authors": "Nora Ephron",
                                    "tag_id": "32686",
                                    "tag_name": "women",
                                    "tag_count": "8"
                                },
                                {
                                    "title": "I Feel Bad about My Neck: And Other Thoughts on Being a Woman",
                                    "authors": "Nora Ephron",
                                    "tag_id": "32724",
                                    "tag_name": "women-writers",
                                    "tag_count": "8"
                                },
                                {
                                    "title": "I Feel Bad about My Neck: And Other Thoughts on Being a Woman",
                                    "authors": "Nora Ephron",
                                    "tag_id": "32729",
                                    "tag_name": "womens-issues",
                                    "tag_count": "8"
                                },
                                {
                                    "title": "Confessions of a Shopaholic (Shopaholic, #1)",
                                    "authors": "Sophie Kinsella",
                                    "tag_id": "32708",
                                    "tag_name": "women-s-fiction",
                                    "tag_count": "9"
                                },
                                {
                                    "title": "Confessions of a Shopaholic (Shopaholic, #1)",
                                    "authors": "Sophie Kinsella",
                                    "tag_id": "32726",
                                    "tag_name": "womens-fiction",
                                    "tag_count": "9"
                                },
                                {
                                    "title": "Emma",
                                    "authors": "Jane Austen, Fiona Stafford",
                                    "tag_id": "32686",
                                    "tag_name": "women",
                                    "tag_count": "9"
                                },
                                {
                                    "title": "Desert Flower",
                                    "authors": "Waris Dirie, Cathleen Miller",
                                    "tag_id": "32686",
                                    "tag_name": "women",
                                    "tag_count": "10"
                                },
                                {
                                    "title": "The House of the Spirits",
                                    "authors": "Isabel Allende, Magda Bogin",
                                    "tag_id": "32686",
                                    "tag_name": "women",
                                    "tag_count": "11"
                                },
                                {
                                    "title": "The House of the Spirits",
                                    "authors": "Isabel Allende, Magda Bogin",
                                    "tag_id": "32688",
                                    "tag_name": "women-authors",
                                    "tag_count": "11"
                                },
                                {
                                    "title": "The House of the Spirits",
                                    "authors": "Isabel Allende, Magda Bogin",
                                    "tag_id": "32724",
                                    "tag_name": "women-writers",
                                    "tag_count": "11"
                                },
                                {
                                    "title": "Ahab's Wife, or The Star-Gazer",
                                    "authors": "Sena Jeter Naslund",
                                    "tag_id": "28839",
                                    "tag_name": "strong-women",
                                    "tag_count": "12"
                                },
                                {
                                    "title": "Ahab's Wife, or The Star-Gazer",
                                    "authors": "Sena Jeter Naslund",
                                    "tag_id": "32686",
                                    "tag_name": "women",
                                    "tag_count": "12"
                                },
                                {
                                    "title": "Ahab's Wife, or The Star-Gazer",
                                    "authors": "Sena Jeter Naslund",
                                    "tag_id": "32688",
                                    "tag_name": "women-authors",
                                    "tag_count": "12"
                                },
                                {
                                    "title": "Suzanne's Diary for Nicholas",
                                    "authors": "James Patterson",
                                    "tag_id": "32726",
                                    "tag_name": "womens-fiction",
                                    "tag_count": "12"
                                },
                                {
                                    "title": "The Broom of the System",
                                    "authors": "David Foster Wallace",
                                    "tag_id": "32686",
                                    "tag_name": "women",
                                    "tag_count": "12"
                                },
                                {
                                    "title": "The God of Small Things",
                                    "authors": "Arundhati Roy",
                                    "tag_id": "32686",
                                    "tag_name": "women",
                                    "tag_count": "12"
                                },
                                {
                                    "title": "The God of Small Things",
                                    "authors": "Arundhati Roy",
                                    "tag_id": "32724",
                                    "tag_name": "women-writers",
                                    "tag_count": "12"
                                },
                                {
                                    "title": "Midwives",
                                    "authors": "Chris Bohjalian",
                                    "tag_id": "32686",
                                    "tag_name": "women",
                                    "tag_count": "13"
                                },
                                {
                                    "title": "Midwives",
                                    "authors": "Chris Bohjalian",
                                    "tag_id": "32708",
                                    "tag_name": "women-s-fiction",
                                    "tag_count": "13"
                                },
                                {
                                    "title": "Fried Green Tomatoes at the Whistle Stop Cafe",
                                    "authors": "Fannie Flagg",
                                    "tag_id": "28839",
                                    "tag_name": "strong-women",
                                    "tag_count": "14"
                                },
                                {
                                    "title": "Fried Green Tomatoes at the Whistle Stop Cafe",
                                    "authors": "Fannie Flagg",
                                    "tag_id": "32686",
                                    "tag_name": "women",
                                    "tag_count": "14"
                                },
                                {
                                    "title": "Fried Green Tomatoes at the Whistle Stop Cafe",
                                    "authors": "Fannie Flagg",
                                    "tag_id": "32708",
                                    "tag_name": "women-s-fiction",
                                    "tag_count": "14"
                                },
                                {
                                    "title": "Fried Green Tomatoes at the Whistle Stop Cafe",
                                    "authors": "Fannie Flagg",
                                    "tag_id": "32724",
                                    "tag_name": "women-writers",
                                    "tag_count": "14"
                                },
                                {
                                    "title": "Fried Green Tomatoes at the Whistle Stop Cafe",
                                    "authors": "Fannie Flagg",
                                    "tag_id": "32726",
                                    "tag_name": "womens-fiction",
                                    "tag_count": "14"
                                },
                                {
                                    "title": "The Pillars of Creation (Sword of Truth, #7)",
                                    "authors": "Terry Goodkind",
                                    "tag_id": "32686",
                                    "tag_name": "women",
                                    "tag_count": "14"
                                },
                                {
                                    "title": "The Wedding (The Notebook, #2)",
                                    "authors": "Nicholas Sparks",
                                    "tag_id": "32708",
                                    "tag_name": "women-s-fiction",
                                    "tag_count": "14"
                                },
                                {
                                    "title": "The Wedding (The Notebook, #2)",
                                    "authors": "Nicholas Sparks",
                                    "tag_id": "32726",
                                    "tag_name": "womens-fiction",
                                    "tag_count": "14"
                                },
                                {
                                    "title": "Black and Blue",
                                    "authors": "Anna Quindlen",
                                    "tag_id": "32686",
                                    "tag_name": "women",
                                    "tag_count": "15"
                                },
                                {
                                    "title": "Black and Blue",
                                    "authors": "Anna Quindlen",
                                    "tag_id": "32708",
                                    "tag_name": "women-s-fiction",
                                    "tag_count": "15"
                                },
                                {
                                    "title": "Black and Blue",
                                    "authors": "Anna Quindlen",
                                    "tag_id": "32726",
                                    "tag_name": "womens-fiction",
                                    "tag_count": "15"
                                },
                                {
                                    "title": "Shopaholic Takes Manhattan (Shopaholic, #2)",
                                    "authors": "Sophie Kinsella",
                                    "tag_id": "32708",
                                    "tag_name": "women-s-fiction",
                                    "tag_count": "15"
                                },
                                {
                                    "title": "Shopaholic Takes Manhattan (Shopaholic, #2)",
                                    "authors": "Sophie Kinsella",
                                    "tag_id": "32726",
                                    "tag_name": "womens-fiction",
                                    "tag_count": "15"
                                },
                                {
                                    "title": "Olivia Joules and the Overactive Imagination",
                                    "authors": "Helen Fielding",
                                    "tag_id": "32708",
                                    "tag_name": "women-s-fiction",
                                    "tag_count": "16"
                                },
                                {
                                    "title": "Olivia Joules and the Overactive Imagination",
                                    "authors": "Helen Fielding",
                                    "tag_id": "32724",
                                    "tag_name": "women-writers",
                                    "tag_count": "16"
                                },
                                {
                                    "title": "Persepolis 2: The Story of a Return (Persepolis, #2)",
                                    "authors": "Marjane Satrapi, Anjali Singh",
                                    "tag_id": "32686",
                                    "tag_name": "women",
                                    "tag_count": "16"
                                },
                                {
                                    "title": "Persuasion",
                                    "authors": "Jane Austen, James Kinsley, Deidre Shauna Lynch",
                                    "tag_id": "32686",
                                    "tag_name": "women",
                                    "tag_count": "16"
                                },
                                {
                                    "title": "Watermelon (Walsh Family, #1)",
                                    "authors": "Marian Keyes",
                                    "tag_id": "32686",
                                    "tag_name": "women",
                                    "tag_count": "16"
                                },
                                {
                                    "title": "Watermelon (Walsh Family, #1)",
                                    "authors": "Marian Keyes",
                                    "tag_id": "32708",
                                    "tag_name": "women-s-fiction",
                                    "tag_count": "16"
                                },
                                {
                                    "title": "Watermelon (Walsh Family, #1)",
                                    "authors": "Marian Keyes",
                                    "tag_id": "32726",
                                    "tag_name": "womens-fiction",
                                    "tag_count": "16"
                                },
                                {
                                    "title": "Fear of Flying",
                                    "authors": "Erica Jong",
                                    "tag_id": "32686",
                                    "tag_name": "women",
                                    "tag_count": "17"
                                },
                                {
                                    "title": "Fear of Flying",
                                    "authors": "Erica Jong",
                                    "tag_id": "32688",
                                    "tag_name": "women-authors",
                                    "tag_count": "17"
                                },
                                {
                                    "title": "Fear of Flying",
                                    "authors": "Erica Jong",
                                    "tag_id": "32720",
                                    "tag_name": "women-s-studies",
                                    "tag_count": "17"
                                },
                                {
                                    "title": "Fear of Flying",
                                    "authors": "Erica Jong",
                                    "tag_id": "32724",
                                    "tag_name": "women-writers",
                                    "tag_count": "17"
                                },
                                {
                                    "title": "Fear of Flying",
                                    "authors": "Erica Jong",
                                    "tag_id": "32729",
                                    "tag_name": "womens-issues",
                                    "tag_count": "17"
                                },
                                {
                                    "title": "Memoirs of a Geisha",
                                    "authors": "Arthur Golden",
                                    "tag_id": "32686",
                                    "tag_name": "women",
                                    "tag_count": "17"
                                },
                                {
                                    "title": "Pardonable Lies (Maisie Dobbs, #3)",
                                    "authors": "Jacqueline Winspear",
                                    "tag_id": "32686",
                                    "tag_name": "women",
                                    "tag_count": "17"
                                },
                                {
                                    "title": "Pardonable Lies (Maisie Dobbs, #3)",
                                    "authors": "Jacqueline Winspear",
                                    "tag_id": "32724",
                                    "tag_name": "women-writers",
                                    "tag_count": "17"
                                },
                                {
                                    "title": "The Joy Luck Club",
                                    "authors": "Amy Tan",
                                    "tag_id": "32686",
                                    "tag_name": "women",
                                    "tag_count": "17"
                                },
                                {
                                    "title": "The Joy Luck Club",
                                    "authors": "Amy Tan",
                                    "tag_id": "32708",
                                    "tag_name": "women-s-fiction",
                                    "tag_count": "17"
                                },
                                {
                                    "title": "The Joy Luck Club",
                                    "authors": "Amy Tan",
                                    "tag_id": "32724",
                                    "tag_name": "women-writers",
                                    "tag_count": "17"
                                },
                                {
                                    "title": "Forever Amber ",
                                    "authors": "Kathleen Winsor",
                                    "tag_id": "32686",
                                    "tag_name": "women",
                                    "tag_count": "18"
                                },
                                {
                                    "title": "Mother of Pearl",
                                    "authors": "Melinda Haynes",
                                    "tag_id": "32726",
                                    "tag_name": "womens-fiction",
                                    "tag_count": "18"
                                },
                                {
                                    "title": "Reading Lolita in Tehran",
                                    "authors": "Azar Nafisi",
                                    "tag_id": "32686",
                                    "tag_name": "women",
                                    "tag_count": "18"
                                },
                                {
                                    "title": "Tara Road",
                                    "authors": "Maeve Binchy",
                                    "tag_id": "32686",
                                    "tag_name": "women",
                                    "tag_count": "18"
                                },
                                {
                                    "title": "Tara Road",
                                    "authors": "Maeve Binchy",
                                    "tag_id": "32708",
                                    "tag_name": "women-s-fiction",
                                    "tag_count": "18"
                                },
                                {
                                    "title": "Tara Road",
                                    "authors": "Maeve Binchy",
                                    "tag_id": "32726",
                                    "tag_name": "womens-fiction",
                                    "tag_count": "18"
                                },
                                {
                                    "title": "The Stories of Eva Luna",
                                    "authors": "Isabel Allende",
                                    "tag_id": "32686",
                                    "tag_name": "women",
                                    "tag_count": "18"
                                },
                                {
                                    "title": "The Stories of Eva Luna",
                                    "authors": "Isabel Allende",
                                    "tag_id": "32688",
                                    "tag_name": "women-authors",
                                    "tag_count": "18"
                                },
                                {
                                    "title": "The Stories of Eva Luna",
                                    "authors": "Isabel Allende",
                                    "tag_id": "32724",
                                    "tag_name": "women-writers",
                                    "tag_count": "18"
                                },
                                {
                                    "title": "Shopaholic Ties the Knot (Shopaholic, #3)",
                                    "authors": "Sophie Kinsella",
                                    "tag_id": "32708",
                                    "tag_name": "women-s-fiction",
                                    "tag_count": "19"
                                },
                                {
                                    "title": "Shopaholic Ties the Knot (Shopaholic, #3)",
                                    "authors": "Sophie Kinsella",
                                    "tag_id": "32726",
                                    "tag_name": "womens-fiction",
                                    "tag_count": "19"
                                },
                                {
                                    "title": "The Virgin Blue",
                                    "authors": "Tracy Chevalier",
                                    "tag_id": "32686",
                                    "tag_name": "women",
                                    "tag_count": "19"
                                },
                                {
                                    "title": "Truth and Beauty",
                                    "authors": "Ann Patchett",
                                    "tag_id": "32686",
                                    "tag_name": "women",
                                    "tag_count": "19"
                                },
                                {
                                    "title": "Truth and Beauty",
                                    "authors": "Ann Patchett",
                                    "tag_id": "32724",
                                    "tag_name": "women-writers",
                                    "tag_count": "19"
                                },
                                {
                                    "title": "Inés of My Soul",
                                    "authors": "Isabel Allende, Margaret Sayers Peden",
                                    "tag_id": "32686",
                                    "tag_name": "women",
                                    "tag_count": "20"
                                },
                                {
                                    "title": "Inés of My Soul",
                                    "authors": "Isabel Allende, Margaret Sayers Peden",
                                    "tag_id": "32724",
                                    "tag_name": "women-writers",
                                    "tag_count": "20"
                                },
                                {
                                    "title": "The Red Tent",
                                    "authors": "Anita Diamant",
                                    "tag_id": "28839",
                                    "tag_name": "strong-women",
                                    "tag_count": "20"
                                },
                                {
                                    "title": "The Red Tent",
                                    "authors": "Anita Diamant",
                                    "tag_id": "32688",
                                    "tag_name": "women-authors",
                                    "tag_count": "20"
                                },
                                {
                                    "title": "The Red Tent",
                                    "authors": "Anita Diamant",
                                    "tag_id": "32724",
                                    "tag_name": "women-writers",
                                    "tag_count": "20"
                                },
                                {
                                    "title": "The Shipping News",
                                    "authors": "Annie Proulx",
                                    "tag_id": "32686",
                                    "tag_name": "women",
                                    "tag_count": "20"
                                },
                                {
                                    "title": "The Shipping News",
                                    "authors": "Annie Proulx",
                                    "tag_id": "32688",
                                    "tag_name": "women-authors",
                                    "tag_count": "20"
                                },
                                {
                                    "title": "The Shipping News",
                                    "authors": "Annie Proulx",
                                    "tag_id": "32724",
                                    "tag_name": "women-writers",
                                    "tag_count": "20"
                                },
                                {
                                    "title": "Like Water for Chocolate",
                                    "authors": "Laura Esquivel, Thomas  Christensen, Carol Christensen",
                                    "tag_id": "32686",
                                    "tag_name": "women",
                                    "tag_count": "21"
                                },
                                {
                                    "title": "Like Water for Chocolate",
                                    "authors": "Laura Esquivel, Thomas  Christensen, Carol Christensen",
                                    "tag_id": "32688",
                                    "tag_name": "women-authors",
                                    "tag_count": "21"
                                },
                                {
                                    "title": "Like Water for Chocolate",
                                    "authors": "Laura Esquivel, Thomas  Christensen, Carol Christensen",
                                    "tag_id": "32724",
                                    "tag_name": "women-writers",
                                    "tag_count": "21"
                                },
                                {
                                    "title": "Little Women (Little Women, #1)",
                                    "authors": "Louisa May Alcott",
                                    "tag_id": "32686",
                                    "tag_name": "women",
                                    "tag_count": "21"
                                },
                                {
                                    "title": "Saving Fish from Drowning",
                                    "authors": "Amy Tan",
                                    "tag_id": "32686",
                                    "tag_name": "women",
                                    "tag_count": "21"
                                },
                                {
                                    "title": "Saving Fish from Drowning",
                                    "authors": "Amy Tan",
                                    "tag_id": "32724",
                                    "tag_name": "women-writers",
                                    "tag_count": "21"
                                },
                                {
                                    "title": "She's Come Undone",
                                    "authors": "Wally Lamb",
                                    "tag_id": "32686",
                                    "tag_name": "women",
                                    "tag_count": "21"
                                },
                                {
                                    "title": "The Heart of a Woman",
                                    "authors": "Maya Angelou",
                                    "tag_id": "32686",
                                    "tag_name": "women",
                                    "tag_count": "21"
                                },
                                {
                                    "title": "The Thorn Birds",
                                    "authors": "Colleen McCullough",
                                    "tag_id": "32686",
                                    "tag_name": "women",
                                    "tag_count": "21"
                                },
                                {
                                    "title": "The Thorn Birds",
                                    "authors": "Colleen McCullough",
                                    "tag_id": "32708",
                                    "tag_name": "women-s-fiction",
                                    "tag_count": "21"
                                },
                                {
                                    "title": "Wild Swans: Three Daughters of China",
                                    "authors": "Jung Chang",
                                    "tag_id": "32686",
                                    "tag_name": "women",
                                    "tag_count": "21"
                                },
                                {
                                    "title": "A Raisin in the Sun",
                                    "authors": "Lorraine Hansberry",
                                    "tag_id": "32686",
                                    "tag_name": "women",
                                    "tag_count": "22"
                                },
                                {
                                    "title": "A Raisin in the Sun",
                                    "authors": "Lorraine Hansberry",
                                    "tag_id": "32688",
                                    "tag_name": "women-authors",
                                    "tag_count": "22"
                                },
                                {
                                    "title": "A Raisin in the Sun",
                                    "authors": "Lorraine Hansberry",
                                    "tag_id": "32724",
                                    "tag_name": "women-writers",
                                    "tag_count": "22"
                                },
                                {
                                    "title": "West with the Night",
                                    "authors": "Beryl Markham",
                                    "tag_id": "28839",
                                    "tag_name": "strong-women",
                                    "tag_count": "22"
                                },
                                {
                                    "title": "West with the Night",
                                    "authors": "Beryl Markham",
                                    "tag_id": "32686",
                                    "tag_name": "women",
                                    "tag_count": "22"
                                },
                                {
                                    "title": "West with the Night",
                                    "authors": "Beryl Markham",
                                    "tag_id": "32688",
                                    "tag_name": "women-authors",
                                    "tag_count": "22"
                                },
                                {
                                    "title": "West with the Night",
                                    "authors": "Beryl Markham",
                                    "tag_id": "32724",
                                    "tag_name": "women-writers",
                                    "tag_count": "22"
                                },
                                {
                                    "title": "Digging to America",
                                    "authors": "Anne Tyler",
                                    "tag_id": "32686",
                                    "tag_name": "women",
                                    "tag_count": "23"
                                },
                                {
                                    "title": "Digging to America",
                                    "authors": "Anne Tyler",
                                    "tag_id": "32688",
                                    "tag_name": "women-authors",
                                    "tag_count": "23"
                                },
                                {
                                    "title": "Digging to America",
                                    "authors": "Anne Tyler",
                                    "tag_id": "32708",
                                    "tag_name": "women-s-fiction",
                                    "tag_count": "23"
                                },
                                {
                                    "title": "Paradise",
                                    "authors": "Toni Morrison",
                                    "tag_id": "32686",
                                    "tag_name": "women",
                                    "tag_count": "23"
                                },
                                {
                                    "title": "Paradise",
                                    "authors": "Toni Morrison",
                                    "tag_id": "32724",
                                    "tag_name": "women-writers",
                                    "tag_count": "23"
                                },
                                {
                                    "title": "The Egypt Game (Game, #1)",
                                    "authors": "Zilpha Keatley Snyder",
                                    "tag_id": "32688",
                                    "tag_name": "women-authors",
                                    "tag_count": "23"
                                },
                                {
                                    "title": "Even Cowgirls Get the Blues",
                                    "authors": "Tom Robbins",
                                    "tag_id": "32686",
                                    "tag_name": "women",
                                    "tag_count": "24"
                                },
                                {
                                    "title": "The Kalahari Typing School for Men (No. 1 Ladies' Detective Agency, #4)",
                                    "authors": "Alexander McCall Smith",
                                    "tag_id": "32686",
                                    "tag_name": "women",
                                    "tag_count": "24"
                                },
                                {
                                    "title": "The Other Side of the Story",
                                    "authors": "Marian Keyes",
                                    "tag_id": "32686",
                                    "tag_name": "women",
                                    "tag_count": "24"
                                },
                                {
                                    "title": "The Other Side of the Story",
                                    "authors": "Marian Keyes",
                                    "tag_id": "32708",
                                    "tag_name": "women-s-fiction",
                                    "tag_count": "24"
                                },
                                {
                                    "title": "The Way the Crow Flies",
                                    "authors": "Ann-Marie MacDonald",
                                    "tag_id": "32688",
                                    "tag_name": "women-authors",
                                    "tag_count": "24"
                                },
                                {
                                    "title": "While I Was Gone",
                                    "authors": "Sue Miller",
                                    "tag_id": "32686",
                                    "tag_name": "women",
                                    "tag_count": "24"
                                },
                                {
                                    "title": "While I Was Gone",
                                    "authors": "Sue Miller",
                                    "tag_id": "32688",
                                    "tag_name": "women-authors",
                                    "tag_count": "24"
                                },
                                {
                                    "title": "While I Was Gone",
                                    "authors": "Sue Miller",
                                    "tag_id": "32708",
                                    "tag_name": "women-s-fiction",
                                    "tag_count": "24"
                                },
                                {
                                    "title": "While I Was Gone",
                                    "authors": "Sue Miller",
                                    "tag_id": "32726",
                                    "tag_name": "womens-fiction",
                                    "tag_count": "24"
                                },
                                {
                                    "title": "Fall on Your Knees",
                                    "authors": "Ann-Marie MacDonald",
                                    "tag_id": "32686",
                                    "tag_name": "women",
                                    "tag_count": "25"
                                },
                                {
                                    "title": "The Confusion (The Baroque Cycle, #2)",
                                    "authors": "Neal Stephenson",
                                    "tag_id": "32686",
                                    "tag_name": "women",
                                    "tag_count": "25"
                                },
                                {
                                    "title": "The Lover",
                                    "authors": "Marguerite Duras, Barbara Bray, Maxine Hong Kingston",
                                    "tag_id": "32686",
                                    "tag_name": "women",
                                    "tag_count": "25"
                                },
                                {
                                    "title": "The Lover",
                                    "authors": "Marguerite Duras, Barbara Bray, Maxine Hong Kingston",
                                    "tag_id": "32724",
                                    "tag_name": "women-writers",
                                    "tag_count": "25"
                                },
                                {
                                    "title": "The Poisonwood Bible",
                                    "authors": "Barbara Kingsolver",
                                    "tag_id": "32686",
                                    "tag_name": "women",
                                    "tag_count": "25"
                                },
                                {
                                    "title": "Where the Heart Is",
                                    "authors": "Billie Letts",
                                    "tag_id": "32686",
                                    "tag_name": "women",
                                    "tag_count": "25"
                                },
                                {
                                    "title": "Where the Heart Is",
                                    "authors": "Billie Letts",
                                    "tag_id": "32708",
                                    "tag_name": "women-s-fiction",
                                    "tag_count": "25"
                                },
                                {
                                    "title": "Where the Heart Is",
                                    "authors": "Billie Letts",
                                    "tag_id": "32726",
                                    "tag_name": "womens-fiction",
                                    "tag_count": "25"
                                },
                                {
                                    "title": "White Teeth",
                                    "authors": "Zadie Smith",
                                    "tag_id": "32686",
                                    "tag_name": "women",
                                    "tag_count": "25"
                                },
                                {
                                    "title": "White Teeth",
                                    "authors": "Zadie Smith",
                                    "tag_id": "32688",
                                    "tag_name": "women-authors",
                                    "tag_count": "25"
                                },
                                {
                                    "title": "White Teeth",
                                    "authors": "Zadie Smith",
                                    "tag_id": "32724",
                                    "tag_name": "women-writers",
                                    "tag_count": "25"
                                },
                                {
                                    "title": "Breath, Eyes, Memory",
                                    "authors": "Edwidge Danticat",
                                    "tag_id": "32686",
                                    "tag_name": "women",
                                    "tag_count": "26"
                                },
                                {
                                    "title": "Breath, Eyes, Memory",
                                    "authors": "Edwidge Danticat",
                                    "tag_id": "32688",
                                    "tag_name": "women-authors",
                                    "tag_count": "26"
                                },
                                {
                                    "title": "Breath, Eyes, Memory",
                                    "authors": "Edwidge Danticat",
                                    "tag_id": "32724",
                                    "tag_name": "women-writers",
                                    "tag_count": "26"
                                },
                                {
                                    "title": "Ethan Frome",
                                    "authors": "Edith Wharton",
                                    "tag_id": "32686",
                                    "tag_name": "women",
                                    "tag_count": "26"
                                },
                                {
                                    "title": "Ethan Frome",
                                    "authors": "Edith Wharton",
                                    "tag_id": "32724",
                                    "tag_name": "women-writers",
                                    "tag_count": "26"
                                },
                                {
                                    "title": "The Clan of the Cave Bear (Earth's Children, #1)",
                                    "authors": "Jean M. Auel",
                                    "tag_id": "32686",
                                    "tag_name": "women",
                                    "tag_count": "26"
                                },
                                {
                                    "title": "The Devil Wears Prada (The Devil Wears Prada, #1)",
                                    "authors": "Lauren Weisberger",
                                    "tag_id": "32686",
                                    "tag_name": "women",
                                    "tag_count": "26"
                                },
                                {
                                    "title": "The Devil Wears Prada (The Devil Wears Prada, #1)",
                                    "authors": "Lauren Weisberger",
                                    "tag_id": "32708",
                                    "tag_name": "women-s-fiction",
                                    "tag_count": "26"
                                },
                                {
                                    "title": "The Devil Wears Prada (The Devil Wears Prada, #1)",
                                    "authors": "Lauren Weisberger",
                                    "tag_id": "32726",
                                    "tag_name": "womens-fiction",
                                    "tag_count": "26"
                                },
                                {
                                    "title": "The Jane Austen Book Club",
                                    "authors": "Karen Joy Fowler",
                                    "tag_id": "32686",
                                    "tag_name": "women",
                                    "tag_count": "26"
                                },
                                {
                                    "title": "The Jane Austen Book Club",
                                    "authors": "Karen Joy Fowler",
                                    "tag_id": "32708",
                                    "tag_name": "women-s-fiction",
                                    "tag_count": "26"
                                },
                                {
                                    "title": "The Jane Austen Book Club",
                                    "authors": "Karen Joy Fowler",
                                    "tag_id": "32724",
                                    "tag_name": "women-writers",
                                    "tag_count": "26"
                                },
                                {
                                    "title": "Year of Wonders",
                                    "authors": "Geraldine Brooks",
                                    "tag_id": "32686",
                                    "tag_name": "women",
                                    "tag_count": "26"
                                },
                                {
                                    "title": "Year of Wonders",
                                    "authors": "Geraldine Brooks",
                                    "tag_id": "32724",
                                    "tag_name": "women-writers",
                                    "tag_count": "26"
                                },
                                {
                                    "title": "Daniel Deronda",
                                    "authors": "George Eliot, Edmund White",
                                    "tag_id": "32686",
                                    "tag_name": "women",
                                    "tag_count": "27"
                                },
                                {
                                    "title": "Daniel Deronda",
                                    "authors": "George Eliot, Edmund White",
                                    "tag_id": "32724",
                                    "tag_name": "women-writers",
                                    "tag_count": "27"
                                },
                                {
                                    "title": "Messenger of Truth (Maisie Dobbs, #4)",
                                    "authors": "Jacqueline Winspear",
                                    "tag_id": "32686",
                                    "tag_name": "women",
                                    "tag_count": "27"
                                },
                                {
                                    "title": "Pride and Prejudice",
                                    "authors": "Jane Austen",
                                    "tag_id": "32686",
                                    "tag_name": "women",
                                    "tag_count": "27"
                                },
                                {
                                    "title": "Brokeback Mountain",
                                    "authors": "Annie Proulx",
                                    "tag_id": "32724",
                                    "tag_name": "women-writers",
                                    "tag_count": "28"
                                },
                                {
                                    "title": "Embroideries",
                                    "authors": "Marjane Satrapi, Anjali Singh",
                                    "tag_id": "32686",
                                    "tag_name": "women",
                                    "tag_count": "28"
                                },
                                {
                                    "title": "Embroideries",
                                    "authors": "Marjane Satrapi, Anjali Singh",
                                    "tag_id": "32724",
                                    "tag_name": "women-writers",
                                    "tag_count": "28"
                                },
                                {
                                    "title": "Hot Six (Stephanie Plum, #6)",
                                    "authors": "Janet Evanovich",
                                    "tag_id": "32686",
                                    "tag_name": "women",
                                    "tag_count": "28"
                                },
                                {
                                    "title": "The Deep End of the Ocean (Cappadora Family, #1)",
                                    "authors": "Jacquelyn Mitchard",
                                    "tag_id": "32708",
                                    "tag_name": "women-s-fiction",
                                    "tag_count": "28"
                                },
                                {
                                    "title": "The Deep End of the Ocean (Cappadora Family, #1)",
                                    "authors": "Jacquelyn Mitchard",
                                    "tag_id": "32726",
                                    "tag_name": "womens-fiction",
                                    "tag_count": "28"
                                },
                                {
                                    "title": "I am Charlotte Simmons",
                                    "authors": "Tom Wolfe",
                                    "tag_id": "32686",
                                    "tag_name": "women",
                                    "tag_count": "29"
                                },
                                {
                                    "title": "Jackdaws",
                                    "authors": "Ken Follett",
                                    "tag_id": "32686",
                                    "tag_name": "women",
                                    "tag_count": "29"
                                },
                                {
                                    "title": "Jackdaws",
                                    "authors": "Ken Follett",
                                    "tag_id": "32696",
                                    "tag_name": "women-in-war",
                                    "tag_count": "29"
                                },
                                {
                                    "title": "Lysistrata",
                                    "authors": "Aristophanes, Sarah Ruden",
                                    "tag_id": "32686",
                                    "tag_name": "women",
                                    "tag_count": "29"
                                },
                                {
                                    "title": "A Virtuous Woman",
                                    "authors": "Kaye Gibbons",
                                    "tag_id": "32686",
                                    "tag_name": "women",
                                    "tag_count": "30"
                                },
                                {
                                    "title": "A Virtuous Woman",
                                    "authors": "Kaye Gibbons",
                                    "tag_id": "32708",
                                    "tag_name": "women-s-fiction",
                                    "tag_count": "30"
                                },
                                {
                                    "title": "I Like You: Hospitality Under the Influence",
                                    "authors": "Amy Sedaris",
                                    "tag_id": "32724",
                                    "tag_name": "women-writers",
                                    "tag_count": "30"
                                },
                                {
                                    "title": "Slouching Towards Bethlehem",
                                    "authors": "Joan Didion",
                                    "tag_id": "32686",
                                    "tag_name": "women",
                                    "tag_count": "30"
                                },
                                {
                                    "title": "Slouching Towards Bethlehem",
                                    "authors": "Joan Didion",
                                    "tag_id": "32688",
                                    "tag_name": "women-authors",
                                    "tag_count": "30"
                                },
                                {
                                    "title": "Slouching Towards Bethlehem",
                                    "authors": "Joan Didion",
                                    "tag_id": "32724",
                                    "tag_name": "women-writers",
                                    "tag_count": "30"
                                },
                                {
                                    "title": "The First Four Years  (Little House, #9)",
                                    "authors": "Laura Ingalls Wilder, Garth Williams",
                                    "tag_id": "32724",
                                    "tag_name": "women-writers",
                                    "tag_count": "30"
                                },
                                {
                                    "title": "The Mermaid Chair",
                                    "authors": "Sue Monk Kidd",
                                    "tag_id": "32686",
                                    "tag_name": "women",
                                    "tag_count": "30"
                                },
                                {
                                    "title": "The Mermaid Chair",
                                    "authors": "Sue Monk Kidd",
                                    "tag_id": "32708",
                                    "tag_name": "women-s-fiction",
                                    "tag_count": "30"
                                },
                                {
                                    "title": "The Mermaid Chair",
                                    "authors": "Sue Monk Kidd",
                                    "tag_id": "32726",
                                    "tag_name": "womens-fiction",
                                    "tag_count": "30"
                                },
                                {
                                    "title": "The Rescue",
                                    "authors": "Nicholas Sparks",
                                    "tag_id": "32708",
                                    "tag_name": "women-s-fiction",
                                    "tag_count": "30"
                                },
                                {
                                    "title": "The Rescue",
                                    "authors": "Nicholas Sparks",
                                    "tag_id": "32726",
                                    "tag_name": "womens-fiction",
                                    "tag_count": "30"
                                },
                                {
                                    "title": "Emily of New Moon (Emily, #1)",
                                    "authors": "L.M. Montgomery",
                                    "tag_id": "32688",
                                    "tag_name": "women-authors",
                                    "tag_count": "31"
                                },
                                {
                                    "title": "From Russia With Love (James Bond, #5)",
                                    "authors": "Ian Fleming",
                                    "tag_id": "32686",
                                    "tag_name": "women",
                                    "tag_count": "31"
                                },
                                {
                                    "title": "Comfort Me with Apples: More Adventures at the Table",
                                    "authors": "Ruth Reichl",
                                    "tag_id": "32686",
                                    "tag_name": "women",
                                    "tag_count": "32"
                                },
                                {
                                    "title": "Play It as It Lays",
                                    "authors": "Joan Didion, David Thomson",
                                    "tag_id": "32686",
                                    "tag_name": "women",
                                    "tag_count": "32"
                                },
                                {
                                    "title": "Play It as It Lays",
                                    "authors": "Joan Didion, David Thomson",
                                    "tag_id": "32688",
                                    "tag_name": "women-authors",
                                    "tag_count": "32"
                                },
                                {
                                    "title": "Play It as It Lays",
                                    "authors": "Joan Didion, David Thomson",
                                    "tag_id": "32724",
                                    "tag_name": "women-writers",
                                    "tag_count": "32"
                                },
                                {
                                    "title": "The Diamond Age: or, A Young Lady's Illustrated Primer",
                                    "authors": "Neal Stephenson",
                                    "tag_id": "32686",
                                    "tag_name": "women",
                                    "tag_count": "32"
                                },
                                {
                                    "title": "Falling Angels",
                                    "authors": "Tracy Chevalier",
                                    "tag_id": "32686",
                                    "tag_name": "women",
                                    "tag_count": "33"
                                },
                                {
                                    "title": "Falling Angels",
                                    "authors": "Tracy Chevalier",
                                    "tag_id": "32724",
                                    "tag_name": "women-writers",
                                    "tag_count": "33"
                                },
                                {
                                    "title": "Open House",
                                    "authors": "Elizabeth Berg",
                                    "tag_id": "32686",
                                    "tag_name": "women",
                                    "tag_count": "33"
                                },
                                {
                                    "title": "Open House",
                                    "authors": "Elizabeth Berg",
                                    "tag_id": "32708",
                                    "tag_name": "women-s-fiction",
                                    "tag_count": "33"
                                },
                                {
                                    "title": "Open House",
                                    "authors": "Elizabeth Berg",
                                    "tag_id": "32726",
                                    "tag_name": "womens-fiction",
                                    "tag_count": "33"
                                },
                                {
                                    "title": "Persepolis: The Story of a Childhood (Persepolis, #1)",
                                    "authors": "Marjane Satrapi, Mattias Ripa",
                                    "tag_id": "32686",
                                    "tag_name": "women",
                                    "tag_count": "33"
                                },
                                {
                                    "title": "Persepolis: The Story of a Childhood (Persepolis, #1)",
                                    "authors": "Marjane Satrapi, Mattias Ripa",
                                    "tag_id": "32688",
                                    "tag_name": "women-authors",
                                    "tag_count": "33"
                                },
                                {
                                    "title": "Snow Flower and the Secret Fan",
                                    "authors": "Lisa See",
                                    "tag_id": "32686",
                                    "tag_name": "women",
                                    "tag_count": "33"
                                },
                                {
                                    "title": "The Good Earth (House of Earth, #1)",
                                    "authors": "Pearl S. Buck",
                                    "tag_id": "32686",
                                    "tag_name": "women",
                                    "tag_count": "33"
                                },
                                {
                                    "title": "Twelve Sharp (Stephanie Plum, #12)",
                                    "authors": "Janet Evanovich",
                                    "tag_id": "32686",
                                    "tag_name": "women",
                                    "tag_count": "33"
                                },
                                {
                                    "title": "Special Topics in Calamity Physics",
                                    "authors": "Marisha Pessl",
                                    "tag_id": "32724",
                                    "tag_name": "women-writers",
                                    "tag_count": "34"
                                },
                                {
                                    "title": "The Emperor's Children",
                                    "authors": "Claire Messud",
                                    "tag_id": "32686",
                                    "tag_name": "women",
                                    "tag_count": "34"
                                },
                                {
                                    "title": "The Emperor's Children",
                                    "authors": "Claire Messud",
                                    "tag_id": "32688",
                                    "tag_name": "women-authors",
                                    "tag_count": "34"
                                },
                                {
                                    "title": "The Year of Magical Thinking",
                                    "authors": "Joan Didion",
                                    "tag_id": "32686",
                                    "tag_name": "women",
                                    "tag_count": "34"
                                },
                                {
                                    "title": "The Year of Magical Thinking",
                                    "authors": "Joan Didion",
                                    "tag_id": "32688",
                                    "tag_name": "women-authors",
                                    "tag_count": "34"
                                },
                                {
                                    "title": "The Year of Magical Thinking",
                                    "authors": "Joan Didion",
                                    "tag_id": "32724",
                                    "tag_name": "women-writers",
                                    "tag_count": "34"
                                },
                                {
                                    "title": "A Map of the World",
                                    "authors": "Jane Hamilton, Frank  Muller, C.J. Critt",
                                    "tag_id": "32686",
                                    "tag_name": "women",
                                    "tag_count": "35"
                                },
                                {
                                    "title": "A Map of the World",
                                    "authors": "Jane Hamilton, Frank  Muller, C.J. Critt",
                                    "tag_id": "32726",
                                    "tag_name": "womens-fiction",
                                    "tag_count": "35"
                                },
                                {
                                    "title": "Cradle and All",
                                    "authors": "James Patterson",
                                    "tag_id": "32686",
                                    "tag_name": "women",
                                    "tag_count": "35"
                                },
                                {
                                    "title": "Here on Earth",
                                    "authors": "Alice Hoffman",
                                    "tag_id": "32686",
                                    "tag_name": "women",
                                    "tag_count": "35"
                                },
                                {
                                    "title": "Here on Earth",
                                    "authors": "Alice Hoffman",
                                    "tag_id": "32726",
                                    "tag_name": "womens-fiction",
                                    "tag_count": "35"
                                },
                                {
                                    "title": "In the Company of Cheerful Ladies (No. 1 Ladies' Detective Agency, #6)",
                                    "authors": "Alexander McCall Smith",
                                    "tag_id": "28839",
                                    "tag_name": "strong-women",
                                    "tag_count": "35"
                                },
                                {
                                    "title": "In the Company of Cheerful Ladies (No. 1 Ladies' Detective Agency, #6)",
                                    "authors": "Alexander McCall Smith",
                                    "tag_id": "32686",
                                    "tag_name": "women",
                                    "tag_count": "35"
                                },
                                {
                                    "title": "Lipstick Jungle",
                                    "authors": "Candace Bushnell",
                                    "tag_id": "32686",
                                    "tag_name": "women",
                                    "tag_count": "35"
                                },
                                {
                                    "title": "Lipstick Jungle",
                                    "authors": "Candace Bushnell",
                                    "tag_id": "32708",
                                    "tag_name": "women-s-fiction",
                                    "tag_count": "35"
                                },
                                {
                                    "title": "Lipstick Jungle",
                                    "authors": "Candace Bushnell",
                                    "tag_id": "32726",
                                    "tag_name": "womens-fiction",
                                    "tag_count": "35"
                                },
                                {
                                    "title": "Message in a Bottle",
                                    "authors": "Nicholas Sparks",
                                    "tag_id": "32726",
                                    "tag_name": "womens-fiction",
                                    "tag_count": "35"
                                },
                                {
                                    "title": "Songs in Ordinary Time",
                                    "authors": "Mary McGarry Morris",
                                    "tag_id": "32708",
                                    "tag_name": "women-s-fiction",
                                    "tag_count": "35"
                                },
                                {
                                    "title": "The Rapture of Canaan",
                                    "authors": "Sheri Reynolds",
                                    "tag_id": "32686",
                                    "tag_name": "women",
                                    "tag_count": "35"
                                },
                                {
                                    "title": "Holy Cow: An Indian Adventure",
                                    "authors": "Sarah Macdonald",
                                    "tag_id": "32686",
                                    "tag_name": "women",
                                    "tag_count": "36"
                                },
                                {
                                    "title": "Holy Cow: An Indian Adventure",
                                    "authors": "Sarah Macdonald",
                                    "tag_id": "32724",
                                    "tag_name": "women-writers",
                                    "tag_count": "36"
                                },
                                {
                                    "title": "Lucy Sullivan Is Getting Married",
                                    "authors": "Marian Keyes",
                                    "tag_id": "32686",
                                    "tag_name": "women",
                                    "tag_count": "36"
                                },
                                {
                                    "title": "Lucy Sullivan Is Getting Married",
                                    "authors": "Marian Keyes",
                                    "tag_id": "32708",
                                    "tag_name": "women-s-fiction",
                                    "tag_count": "36"
                                },
                                {
                                    "title": "Lucy Sullivan Is Getting Married",
                                    "authors": "Marian Keyes",
                                    "tag_id": "32726",
                                    "tag_name": "womens-fiction",
                                    "tag_count": "36"
                                },
                                {
                                    "title": "Persepolis, Volume 1",
                                    "authors": "Marjane Satrapi",
                                    "tag_id": "32686",
                                    "tag_name": "women",
                                    "tag_count": "36"
                                },
                                {
                                    "title": "Persepolis, Volume 1",
                                    "authors": "Marjane Satrapi",
                                    "tag_id": "32688",
                                    "tag_name": "women-authors",
                                    "tag_count": "36"
                                },
                                {
                                    "title": "The Good Husband of Zebra Drive (No. 1 Ladies' Detective Agency, #8)",
                                    "authors": "Alexander McCall Smith",
                                    "tag_id": "28839",
                                    "tag_name": "strong-women",
                                    "tag_count": "36"
                                },
                                {
                                    "title": "The Good Husband of Zebra Drive (No. 1 Ladies' Detective Agency, #8)",
                                    "authors": "Alexander McCall Smith",
                                    "tag_id": "32686",
                                    "tag_name": "women",
                                    "tag_count": "36"
                                },
                                {
                                    "title": "The Idiot Girls' Action-Adventure Club: True Tales from a Magnificent and Clumsy Life",
                                    "authors": "Laurie Notaro",
                                    "tag_id": "32686",
                                    "tag_name": "women",
                                    "tag_count": "36"
                                },
                                {
                                    "title": "The No. 1 Ladies' Detective Agency  (No. 1 Ladies' Detective Agency, #1)",
                                    "authors": "Alexander McCall Smith",
                                    "tag_id": "32686",
                                    "tag_name": "women",
                                    "tag_count": "36"
                                },
                                {
                                    "title": "The Autograph Man",
                                    "authors": "Zadie Smith",
                                    "tag_id": "32686",
                                    "tag_name": "women",
                                    "tag_count": "37"
                                },
                                {
                                    "title": "The Autograph Man",
                                    "authors": "Zadie Smith",
                                    "tag_id": "32724",
                                    "tag_name": "women-writers",
                                    "tag_count": "37"
                                },
                                {
                                    "title": "A Woman of Substance (Emma Harte Saga #1)",
                                    "authors": "Barbara Taylor Bradford",
                                    "tag_id": "28839",
                                    "tag_name": "strong-women",
                                    "tag_count": "38"
                                },
                                {
                                    "title": "A Woman of Substance (Emma Harte Saga #1)",
                                    "authors": "Barbara Taylor Bradford",
                                    "tag_id": "32686",
                                    "tag_name": "women",
                                    "tag_count": "38"
                                },
                                {
                                    "title": "A Woman of Substance (Emma Harte Saga #1)",
                                    "authors": "Barbara Taylor Bradford",
                                    "tag_id": "32708",
                                    "tag_name": "women-s-fiction",
                                    "tag_count": "38"
                                },
                                {
                                    "title": "A Woman of Substance (Emma Harte Saga #1)",
                                    "authors": "Barbara Taylor Bradford",
                                    "tag_id": "32724",
                                    "tag_name": "women-writers",
                                    "tag_count": "38"
                                },
                                {
                                    "title": "A Woman of Substance (Emma Harte Saga #1)",
                                    "authors": "Barbara Taylor Bradford",
                                    "tag_id": "32726",
                                    "tag_name": "womens-fiction",
                                    "tag_count": "38"
                                },
                                {
                                    "title": "Morality for Beautiful Girls (No. 1 Ladies' Detective Agency, #3)",
                                    "authors": "Alexander McCall Smith",
                                    "tag_id": "32686",
                                    "tag_name": "women",
                                    "tag_count": "38"
                                },
                                {
                                    "title": "Shopaholic & Baby (Shopaholic, #5)",
                                    "authors": "Sophie Kinsella",
                                    "tag_id": "32708",
                                    "tag_name": "women-s-fiction",
                                    "tag_count": "38"
                                },
                                {
                                    "title": "The Book of Ruth",
                                    "authors": "Jane Hamilton",
                                    "tag_id": "32686",
                                    "tag_name": "women",
                                    "tag_count": "38"
                                },
                                {
                                    "title": "The Book of Ruth",
                                    "authors": "Jane Hamilton",
                                    "tag_id": "32708",
                                    "tag_name": "women-s-fiction",
                                    "tag_count": "38"
                                },
                                {
                                    "title": "The Book of Ruth",
                                    "authors": "Jane Hamilton",
                                    "tag_id": "32712",
                                    "tag_name": "women-s-lit",
                                    "tag_count": "38"
                                },
                                {
                                    "title": "The Client",
                                    "authors": "John Grisham",
                                    "tag_id": "32686",
                                    "tag_name": "women",
                                    "tag_count": "38"
                                },
                                {
                                    "title": "The Glass Castle",
                                    "authors": "Jeannette Walls",
                                    "tag_id": "32686",
                                    "tag_name": "women",
                                    "tag_count": "38"
                                },
                                {
                                    "title": "Visions of Sugar Plums (Stephanie Plum, #8.5)",
                                    "authors": "Janet Evanovich",
                                    "tag_id": "32686",
                                    "tag_name": "women",
                                    "tag_count": "38"
                                },
                                {
                                    "title": "Anne Frank Remembered: The Story of the Woman Who Helped to Hide the Frank Family",
                                    "authors": "Miep Gies, Alison Leslie Gold",
                                    "tag_id": "32686",
                                    "tag_name": "women",
                                    "tag_count": "39"
                                },
                                {
                                    "title": "Beloved",
                                    "authors": "Toni Morrison",
                                    "tag_id": "32686",
                                    "tag_name": "women",
                                    "tag_count": "39"
                                },
                                {
                                    "title": "Beloved",
                                    "authors": "Toni Morrison",
                                    "tag_id": "32724",
                                    "tag_name": "women-writers",
                                    "tag_count": "39"
                                },
                                {
                                    "title": "Jewel",
                                    "authors": "Bret Lott",
                                    "tag_id": "28839",
                                    "tag_name": "strong-women",
                                    "tag_count": "39"
                                },
                                {
                                    "title": "Jewel",
                                    "authors": "Bret Lott",
                                    "tag_id": "32686",
                                    "tag_name": "women",
                                    "tag_count": "39"
                                },
                                {
                                    "title": "Plum Lovin' (Stephanie Plum, #12.5)",
                                    "authors": "Janet Evanovich",
                                    "tag_id": "32686",
                                    "tag_name": "women",
                                    "tag_count": "39"
                                },
                                {
                                    "title": "Regeneration (Regeneration, #1)",
                                    "authors": "Pat Barker",
                                    "tag_id": "32724",
                                    "tag_name": "women-writers",
                                    "tag_count": "39"
                                },
                                {
                                    "title": "Sickened: The Memoir of a Munchausen by Proxy Childhood",
                                    "authors": "Julie Gregory",
                                    "tag_id": "32686",
                                    "tag_name": "women",
                                    "tag_count": "39"
                                },
                                {
                                    "title": "The Crying of Lot 49",
                                    "authors": "Thomas Pynchon",
                                    "tag_id": "32686",
                                    "tag_name": "women",
                                    "tag_count": "39"
                                },
                                {
                                    "title": "Cane River",
                                    "authors": "Lalita Tademy",
                                    "tag_id": "32686",
                                    "tag_name": "women",
                                    "tag_count": "40"
                                },
                                {
                                    "title": "Last Chance Saloon",
                                    "authors": "Marian Keyes",
                                    "tag_id": "32686",
                                    "tag_name": "women",
                                    "tag_count": "40"
                                },
                                {
                                    "title": "Last Chance Saloon",
                                    "authors": "Marian Keyes",
                                    "tag_id": "32708",
                                    "tag_name": "women-s-fiction",
                                    "tag_count": "40"
                                },
                                {
                                    "title": "Last Chance Saloon",
                                    "authors": "Marian Keyes",
                                    "tag_id": "32726",
                                    "tag_name": "womens-fiction",
                                    "tag_count": "40"
                                },
                                {
                                    "title": "Nickel and Dimed: On (Not) Getting By in America",
                                    "authors": "Barbara Ehrenreich",
                                    "tag_id": "32686",
                                    "tag_name": "women",
                                    "tag_count": "40"
                                },
                                {
                                    "title": "Nickel and Dimed: On (Not) Getting By in America",
                                    "authors": "Barbara Ehrenreich",
                                    "tag_id": "32688",
                                    "tag_name": "women-authors",
                                    "tag_count": "40"
                                },
                                {
                                    "title": "Seven Up (Stephanie Plum, #7)",
                                    "authors": "Janet Evanovich",
                                    "tag_id": "32686",
                                    "tag_name": "women",
                                    "tag_count": "40"
                                },
                                {
                                    "title": "Interpreter of Maladies",
                                    "authors": "Jhumpa Lahiri",
                                    "tag_id": "32686",
                                    "tag_name": "women",
                                    "tag_count": "41"
                                },
                                {
                                    "title": "Interpreter of Maladies",
                                    "authors": "Jhumpa Lahiri",
                                    "tag_id": "32688",
                                    "tag_name": "women-authors",
                                    "tag_count": "41"
                                },
                                {
                                    "title": "Interpreter of Maladies",
                                    "authors": "Jhumpa Lahiri",
                                    "tag_id": "32724",
                                    "tag_name": "women-writers",
                                    "tag_count": "41"
                                },
                                {
                                    "title": "What Looks Like Crazy on an Ordinary Day (Idlewild, #1)",
                                    "authors": "Pearl Cleage",
                                    "tag_id": "32686",
                                    "tag_name": "women",
                                    "tag_count": "41"
                                },
                                {
                                    "title": "What Looks Like Crazy on an Ordinary Day (Idlewild, #1)",
                                    "authors": "Pearl Cleage",
                                    "tag_id": "32708",
                                    "tag_name": "women-s-fiction",
                                    "tag_count": "41"
                                },
                                {
                                    "title": "What Looks Like Crazy on an Ordinary Day (Idlewild, #1)",
                                    "authors": "Pearl Cleage",
                                    "tag_id": "32724",
                                    "tag_name": "women-writers",
                                    "tag_count": "41"
                                },
                                {
                                    "title": "What Looks Like Crazy on an Ordinary Day (Idlewild, #1)",
                                    "authors": "Pearl Cleage",
                                    "tag_id": "32725",
                                    "tag_name": "womens",
                                    "tag_count": "41"
                                },
                                {
                                    "title": "What Looks Like Crazy on an Ordinary Day (Idlewild, #1)",
                                    "authors": "Pearl Cleage",
                                    "tag_id": "32726",
                                    "tag_name": "womens-fiction",
                                    "tag_count": "41"
                                },
                                {
                                    "title": "Antigone (The Theban Plays, #3)",
                                    "authors": "Sophocles, J.E. Thomas",
                                    "tag_id": "32686",
                                    "tag_name": "women",
                                    "tag_count": "42"
                                },
                                {
                                    "title": "My Life in France",
                                    "authors": "Julia Child, Alex Prud'Homme",
                                    "tag_id": "32686",
                                    "tag_name": "women",
                                    "tag_count": "42"
                                },
                                {
                                    "title": "My Life in France",
                                    "authors": "Julia Child, Alex Prud'Homme",
                                    "tag_id": "32688",
                                    "tag_name": "women-authors",
                                    "tag_count": "42"
                                },
                                {
                                    "title": "Rachel's Holiday (Walsh Family, #2)",
                                    "authors": "Marian Keyes",
                                    "tag_id": "32686",
                                    "tag_name": "women",
                                    "tag_count": "42"
                                },
                                {
                                    "title": "Rachel's Holiday (Walsh Family, #2)",
                                    "authors": "Marian Keyes",
                                    "tag_id": "32708",
                                    "tag_name": "women-s-fiction",
                                    "tag_count": "42"
                                },
                                {
                                    "title": "Rachel's Holiday (Walsh Family, #2)",
                                    "authors": "Marian Keyes",
                                    "tag_id": "32726",
                                    "tag_name": "womens-fiction",
                                    "tag_count": "42"
                                },
                                {
                                    "title": "Anne Frank: Beyond the Diary - A Photographic Remembrance",
                                    "authors": "Ruud van der Rol, Rian Verhoeven, Anna Quindlen, Anne Frank, Tony Langham, Plym Peters",
                                    "tag_id": "28839",
                                    "tag_name": "strong-women",
                                    "tag_count": "43"
                                },
                                {
                                    "title": "Anne Frank: Beyond the Diary - A Photographic Remembrance",
                                    "authors": "Ruud van der Rol, Rian Verhoeven, Anna Quindlen, Anne Frank, Tony Langham, Plym Peters",
                                    "tag_id": "32686",
                                    "tag_name": "women",
                                    "tag_count": "43"
                                },
                                {
                                    "title": "High Five (Stephanie Plum, #5)",
                                    "authors": "Janet Evanovich",
                                    "tag_id": "32686",
                                    "tag_name": "women",
                                    "tag_count": "43"
                                },
                                {
                                    "title": "Sex and the City",
                                    "authors": "Candace Bushnell",
                                    "tag_id": "32686",
                                    "tag_name": "women",
                                    "tag_count": "43"
                                },
                                {
                                    "title": "Sex and the City",
                                    "authors": "Candace Bushnell",
                                    "tag_id": "32708",
                                    "tag_name": "women-s-fiction",
                                    "tag_count": "43"
                                },
                                {
                                    "title": "Sex and the City",
                                    "authors": "Candace Bushnell",
                                    "tag_id": "32726",
                                    "tag_name": "womens-fiction",
                                    "tag_count": "43"
                                },
                                {
                                    "title": "Shopaholic and Sister (Shopaholic, #4)",
                                    "authors": "Sophie Kinsella",
                                    "tag_id": "32708",
                                    "tag_name": "women-s-fiction",
                                    "tag_count": "43"
                                },
                                {
                                    "title": "Shopaholic and Sister (Shopaholic, #4)",
                                    "authors": "Sophie Kinsella",
                                    "tag_id": "32726",
                                    "tag_name": "womens-fiction",
                                    "tag_count": "43"
                                },
                                {
                                    "title": "The Bookseller of Kabul",
                                    "authors": "Åsne Seierstad, Ingrid Christopherson",
                                    "tag_id": "32688",
                                    "tag_name": "women-authors",
                                    "tag_count": "43"
                                },
                                {
                                    "title": "On Beauty",
                                    "authors": "Zadie Smith",
                                    "tag_id": "32686",
                                    "tag_name": "women",
                                    "tag_count": "44"
                                },
                                {
                                    "title": "On Beauty",
                                    "authors": "Zadie Smith",
                                    "tag_id": "32724",
                                    "tag_name": "women-writers",
                                    "tag_count": "44"
                                },
                                {
                                    "title": "The Bell Jar",
                                    "authors": "Sylvia Plath",
                                    "tag_id": "32688",
                                    "tag_name": "women-authors",
                                    "tag_count": "44"
                                },
                                {
                                    "title": "We Were the Mulvaneys",
                                    "authors": "Joyce Carol Oates",
                                    "tag_id": "32686",
                                    "tag_name": "women",
                                    "tag_count": "44"
                                },
                                {
                                    "title": "Drowning Ruth",
                                    "authors": "Christina Schwarz",
                                    "tag_id": "32686",
                                    "tag_name": "women",
                                    "tag_count": "45"
                                },
                                {
                                    "title": "Drowning Ruth",
                                    "authors": "Christina Schwarz",
                                    "tag_id": "32708",
                                    "tag_name": "women-s-fiction",
                                    "tag_count": "45"
                                },
                                {
                                    "title": "Hard Eight (Stephanie Plum, #8)",
                                    "authors": "Janet Evanovich, Lorelei King",
                                    "tag_id": "32686",
                                    "tag_name": "women",
                                    "tag_count": "47"
                                },
                                {
                                    "title": "Madame Bovary",
                                    "authors": "Gustave Flaubert, Margaret Mauldon, Malcolm Bowie, Mark Overstall",
                                    "tag_id": "32686",
                                    "tag_name": "women",
                                    "tag_count": "47"
                                },
                                {
                                    "title": "Women in Love (Brangwen Family, #2)",
                                    "authors": "D.H. Lawrence",
                                    "tag_id": "32686",
                                    "tag_name": "women",
                                    "tag_count": "47"
                                },
                                {
                                    "title": "Little Altars Everywhere",
                                    "authors": "Rebecca Wells",
                                    "tag_id": "32686",
                                    "tag_name": "women",
                                    "tag_count": "50"
                                },
                                {
                                    "title": "Little Altars Everywhere",
                                    "authors": "Rebecca Wells",
                                    "tag_id": "32708",
                                    "tag_name": "women-s-fiction",
                                    "tag_count": "50"
                                },
                                {
                                    "title": "Little Altars Everywhere",
                                    "authors": "Rebecca Wells",
                                    "tag_id": "32726",
                                    "tag_name": "womens-fiction",
                                    "tag_count": "50"
                                },
                                {
                                    "title": "The History of Sexuality, Volume 1: An Introduction",
                                    "authors": "Michel Foucault, Robert Hurley",
                                    "tag_id": "32720",
                                    "tag_name": "women-s-studies",
                                    "tag_count": "50"
                                },
                                {
                                    "title": "Four Blondes",
                                    "authors": "Candace Bushnell",
                                    "tag_id": "32708",
                                    "tag_name": "women-s-fiction",
                                    "tag_count": "51"
                                },
                                {
                                    "title": "Four Blondes",
                                    "authors": "Candace Bushnell",
                                    "tag_id": "32724",
                                    "tag_name": "women-writers",
                                    "tag_count": "51"
                                },
                                {
                                    "title": "The Atonement Child",
                                    "authors": "Francine Rivers",
                                    "tag_id": "32686",
                                    "tag_name": "women",
                                    "tag_count": "52"
                                },
                                {
                                    "title": "The Atonement Child",
                                    "authors": "Francine Rivers",
                                    "tag_id": "32708",
                                    "tag_name": "women-s-fiction",
                                    "tag_count": "52"
                                },
                                {
                                    "title": "Assassination Vacation",
                                    "authors": "Sarah Vowell",
                                    "tag_id": "32688",
                                    "tag_name": "women-authors",
                                    "tag_count": "53"
                                },
                                {
                                    "title": "First They Killed My Father: A Daughter of Cambodia Remembers",
                                    "authors": "Loung Ung",
                                    "tag_id": "32686",
                                    "tag_name": "women",
                                    "tag_count": "57"
                                },
                                {
                                    "title": "First They Killed My Father: A Daughter of Cambodia Remembers",
                                    "authors": "Loung Ung",
                                    "tag_id": "32688",
                                    "tag_name": "women-authors",
                                    "tag_count": "57"
                                },
                                {
                                    "title": "Tears of the Giraffe (No. 1 Ladies' Detective Agency, #2)",
                                    "authors": "Alexander McCall Smith",
                                    "tag_id": "32686",
                                    "tag_name": "women",
                                    "tag_count": "58"
                                },
                                {
                                    "title": "Men Are from Mars, Women Are from Venus",
                                    "authors": "John Gray",
                                    "tag_id": "32686",
                                    "tag_name": "women",
                                    "tag_count": "59"
                                },
                                {
                                    "title": "Loving What Is: Four Questions That Can Change Your Life",
                                    "authors": "Byron Katie, Stephen Mitchell",
                                    "tag_id": "11643",
                                    "tag_name": "female-author",
                                    "tag_count": "60"
                                },
                                {
                                    "title": "Girl with a Pearl Earring",
                                    "authors": "Tracy Chevalier",
                                    "tag_id": "32686",
                                    "tag_name": "women",
                                    "tag_count": "62"
                                },
                                {
                                    "title": "Girl with a Pearl Earring",
                                    "authors": "Tracy Chevalier",
                                    "tag_id": "32688",
                                    "tag_name": "women-authors",
                                    "tag_count": "62"
                                },
                                {
                                    "title": "The Bookseller of Kabul",
                                    "authors": "Åsne Seierstad, Ingrid Christopherson",
                                    "tag_id": "11643",
                                    "tag_name": "female-author",
                                    "tag_count": "74"
                                },
                                {
                                    "title": "Fried Green Tomatoes at the Whistle Stop Cafe",
                                    "authors": "Fannie Flagg",
                                    "tag_id": "11643",
                                    "tag_name": "female-author",
                                    "tag_count": "77"
                                },
                                {
                                    "title": "Fried Green Tomatoes at the Whistle Stop Cafe",
                                    "authors": "Fannie Flagg",
                                    "tag_id": "11644",
                                    "tag_name": "female-authors",
                                    "tag_count": "77"
                                },
                                {
                                    "title": "Rachel's Holiday (Walsh Family, #2)",
                                    "authors": "Marian Keyes",
                                    "tag_id": "11643",
                                    "tag_name": "female-author",
                                    "tag_count": "78"
                                },
                                {
                                    "title": "Rachel's Holiday (Walsh Family, #2)",
                                    "authors": "Marian Keyes",
                                    "tag_id": "11644",
                                    "tag_name": "female-authors",
                                    "tag_count": "78"
                                },
                                {
                                    "title": "By the Shores of Silver Lake  (Little House, #5)",
                                    "authors": "Laura Ingalls Wilder, Garth Williams",
                                    "tag_id": "11643",
                                    "tag_name": "female-author",
                                    "tag_count": "84"
                                },
                                {
                                    "title": "The House of the Spirits",
                                    "authors": "Isabel Allende, Magda Bogin",
                                    "tag_id": "11643",
                                    "tag_name": "female-author",
                                    "tag_count": "84"
                                },
                                {
                                    "title": "The House of the Spirits",
                                    "authors": "Isabel Allende, Magda Bogin",
                                    "tag_id": "11644",
                                    "tag_name": "female-authors",
                                    "tag_count": "84"
                                },
                                {
                                    "title": "Little Town on the Prairie  (Little House, #7)",
                                    "authors": "Laura Ingalls Wilder, Garth Williams",
                                    "tag_id": "11643",
                                    "tag_name": "female-author",
                                    "tag_count": "86"
                                },
                                {
                                    "title": "Persepolis 2: The Story of a Return (Persepolis, #2)",
                                    "authors": "Marjane Satrapi, Anjali Singh",
                                    "tag_id": "11643",
                                    "tag_name": "female-author",
                                    "tag_count": "87"
                                },
                                {
                                    "title": "Persepolis 2: The Story of a Return (Persepolis, #2)",
                                    "authors": "Marjane Satrapi, Anjali Singh",
                                    "tag_id": "11644",
                                    "tag_name": "female-authors",
                                    "tag_count": "87"
                                },
                                {
                                    "title": "Persepolis 2: The Story of a Return (Persepolis, #2)",
                                    "authors": "Marjane Satrapi, Anjali Singh",
                                    "tag_id": "11658",
                                    "tag_name": "female-protagonist",
                                    "tag_count": "87"
                                },
                                {
                                    "title": "The Joy Luck Club",
                                    "authors": "Amy Tan",
                                    "tag_id": "11643",
                                    "tag_name": "female-author",
                                    "tag_count": "87"
                                },
                                {
                                    "title": "The Joy Luck Club",
                                    "authors": "Amy Tan",
                                    "tag_id": "11644",
                                    "tag_name": "female-authors",
                                    "tag_count": "87"
                                },
                                {
                                    "title": "Persepolis, Volume 1",
                                    "authors": "Marjane Satrapi",
                                    "tag_id": "11643",
                                    "tag_name": "female-author",
                                    "tag_count": "90"
                                },
                                {
                                    "title": "Persepolis, Volume 1",
                                    "authors": "Marjane Satrapi",
                                    "tag_id": "11644",
                                    "tag_name": "female-authors",
                                    "tag_count": "90"
                                },
                                {
                                    "title": "Emma",
                                    "authors": "Jane Austen, Fiona Stafford",
                                    "tag_id": "11643",
                                    "tag_name": "female-author",
                                    "tag_count": "91"
                                },
                                {
                                    "title": "Emma",
                                    "authors": "Jane Austen, Fiona Stafford",
                                    "tag_id": "11644",
                                    "tag_name": "female-authors",
                                    "tag_count": "91"
                                },
                                {
                                    "title": "On the Banks of Plum Creek  (Little House, #4)",
                                    "authors": "Laura Ingalls Wilder, Garth Williams",
                                    "tag_id": "11643",
                                    "tag_name": "female-author",
                                    "tag_count": "91"
                                },
                                {
                                    "title": "Crow Lake",
                                    "authors": "Mary Lawson",
                                    "tag_id": "11643",
                                    "tag_name": "female-author",
                                    "tag_count": "92"
                                },
                                {
                                    "title": "Desert Flower",
                                    "authors": "Waris Dirie, Cathleen Miller",
                                    "tag_id": "11644",
                                    "tag_name": "female-authors",
                                    "tag_count": "92"
                                },
                                {
                                    "title": "Rachael Ray 365: No Repeats: A Year of Deliciously Different Dinners",
                                    "authors": "Rachael Ray",
                                    "tag_id": "11644",
                                    "tag_name": "female-authors",
                                    "tag_count": "92"
                                },
                                {
                                    "title": "A Map of the World",
                                    "authors": "Jane Hamilton, Frank  Muller, C.J. Critt",
                                    "tag_id": "11644",
                                    "tag_name": "female-authors",
                                    "tag_count": "93"
                                },
                                {
                                    "title": "Four Blondes",
                                    "authors": "Candace Bushnell",
                                    "tag_id": "11643",
                                    "tag_name": "female-author",
                                    "tag_count": "93"
                                },
                                {
                                    "title": "Four Blondes",
                                    "authors": "Candace Bushnell",
                                    "tag_id": "11644",
                                    "tag_name": "female-authors",
                                    "tag_count": "93"
                                },
                                {
                                    "title": "Prep",
                                    "authors": "Curtis Sittenfeld",
                                    "tag_id": "11643",
                                    "tag_name": "female-author",
                                    "tag_count": "93"
                                },
                                {
                                    "title": "Prep",
                                    "authors": "Curtis Sittenfeld",
                                    "tag_id": "11644",
                                    "tag_name": "female-authors",
                                    "tag_count": "93"
                                },
                                {
                                    "title": "Sunshine",
                                    "authors": "Robin McKinley",
                                    "tag_id": "11643",
                                    "tag_name": "female-author",
                                    "tag_count": "93"
                                },
                                {
                                    "title": "Sunshine",
                                    "authors": "Robin McKinley",
                                    "tag_id": "11658",
                                    "tag_name": "female-protagonist",
                                    "tag_count": "93"
                                },
                                {
                                    "title": "Beloved",
                                    "authors": "Toni Morrison",
                                    "tag_id": "11643",
                                    "tag_name": "female-author",
                                    "tag_count": "94"
                                },
                                {
                                    "title": "Beloved",
                                    "authors": "Toni Morrison",
                                    "tag_id": "11644",
                                    "tag_name": "female-authors",
                                    "tag_count": "94"
                                },
                                {
                                    "title": "Lucy Sullivan Is Getting Married",
                                    "authors": "Marian Keyes",
                                    "tag_id": "11643",
                                    "tag_name": "female-author",
                                    "tag_count": "94"
                                },
                                {
                                    "title": "Watermelon (Walsh Family, #1)",
                                    "authors": "Marian Keyes",
                                    "tag_id": "11644",
                                    "tag_name": "female-authors",
                                    "tag_count": "95"
                                },
                                {
                                    "title": "Tears of the Giraffe (No. 1 Ladies' Detective Agency, #2)",
                                    "authors": "Alexander McCall Smith",
                                    "tag_id": "11658",
                                    "tag_name": "female-protagonist",
                                    "tag_count": "96"
                                },
                                {
                                    "title": "Fear of Flying",
                                    "authors": "Erica Jong",
                                    "tag_id": "11643",
                                    "tag_name": "female-author",
                                    "tag_count": "97"
                                },
                                {
                                    "title": "Fear of Flying",
                                    "authors": "Erica Jong",
                                    "tag_id": "11644",
                                    "tag_name": "female-authors",
                                    "tag_count": "97"
                                },
                                {
                                    "title": "Fear of Flying",
                                    "authors": "Erica Jong",
                                    "tag_id": "11662",
                                    "tag_name": "female-writers",
                                    "tag_count": "97"
                                },
                                {
                                    "title": "From Potter's Field (Kay Scarpetta, #6)",
                                    "authors": "Patricia Cornwell",
                                    "tag_id": "11643",
                                    "tag_name": "female-author",
                                    "tag_count": "97"
                                },
                                {
                                    "title": "I Feel Bad about My Neck: And Other Thoughts on Being a Woman",
                                    "authors": "Nora Ephron",
                                    "tag_id": "11643",
                                    "tag_name": "female-author",
                                    "tag_count": "97"
                                },
                                {
                                    "title": "I Feel Bad about My Neck: And Other Thoughts on Being a Woman",
                                    "authors": "Nora Ephron",
                                    "tag_id": "11644",
                                    "tag_name": "female-authors",
                                    "tag_count": "97"
                                },
                                {
                                    "title": "Last Chance Saloon",
                                    "authors": "Marian Keyes",
                                    "tag_id": "11644",
                                    "tag_name": "female-authors",
                                    "tag_count": "97"
                                },
                                {
                                    "title": "Saving Fish from Drowning",
                                    "authors": "Amy Tan",
                                    "tag_id": "11644",
                                    "tag_name": "female-authors",
                                    "tag_count": "97"
                                },
                                {
                                    "title": "The God of Small Things",
                                    "authors": "Arundhati Roy",
                                    "tag_id": "11643",
                                    "tag_name": "female-author",
                                    "tag_count": "98"
                                },
                                {
                                    "title": "The God of Small Things",
                                    "authors": "Arundhati Roy",
                                    "tag_id": "11644",
                                    "tag_name": "female-authors",
                                    "tag_count": "98"
                                },
                                {
                                    "title": "Witches Abroad (Discworld, #12; Witches #3)",
                                    "authors": "Terry Pratchett",
                                    "tag_id": "11658",
                                    "tag_name": "female-protagonist",
                                    "tag_count": "98"
                                },
                                {
                                    "title": "How to Make Love Like a Porn Star: A Cautionary Tale",
                                    "authors": "Jenna Jameson, Neil Strauss",
                                    "tag_id": "11643",
                                    "tag_name": "female-author",
                                    "tag_count": "99"
                                },
                                {
                                    "title": "Messenger of Truth (Maisie Dobbs, #4)",
                                    "authors": "Jacqueline Winspear",
                                    "tag_id": "11643",
                                    "tag_name": "female-author",
                                    "tag_count": "99"
                                },
                                {
                                    "title": "Persepolis: The Story of a Childhood (Persepolis, #1)",
                                    "authors": "Marjane Satrapi, Mattias Ripa",
                                    "tag_id": "11643",
                                    "tag_name": "female-author",
                                    "tag_count": "99"
                                },
                                {
                                    "title": "Persepolis: The Story of a Childhood (Persepolis, #1)",
                                    "authors": "Marjane Satrapi, Mattias Ripa",
                                    "tag_id": "11644",
                                    "tag_name": "female-authors",
                                    "tag_count": "99"
                                },
                                {
                                    "title": "Reading Lolita in Tehran",
                                    "authors": "Azar Nafisi",
                                    "tag_id": "11643",
                                    "tag_name": "female-author",
                                    "tag_count": "99"
                                },
                                {
                                    "title": "Reading Lolita in Tehran",
                                    "authors": "Azar Nafisi",
                                    "tag_id": "11644",
                                    "tag_name": "female-authors",
                                    "tag_count": "99"
                                },
                                {
                                    "title": "Rose Daughter",
                                    "authors": "Robin McKinley",
                                    "tag_id": "11643",
                                    "tag_name": "female-author",
                                    "tag_count": "99"
                                },
                                {
                                    "title": "Rose Daughter",
                                    "authors": "Robin McKinley",
                                    "tag_id": "11658",
                                    "tag_name": "female-protagonist",
                                    "tag_count": "99"
                                },
                                {
                                    "title": "The Rapture of Canaan",
                                    "authors": "Sheri Reynolds",
                                    "tag_id": "11644",
                                    "tag_name": "female-authors",
                                    "tag_count": "99"
                                },
                                {
                                    "title": "The Year of Magical Thinking",
                                    "authors": "Joan Didion",
                                    "tag_id": "11643",
                                    "tag_name": "female-author",
                                    "tag_count": "99"
                                },
                                {
                                    "title": "The Year of Magical Thinking",
                                    "authors": "Joan Didion",
                                    "tag_id": "11644",
                                    "tag_name": "female-authors",
                                    "tag_count": "99"
                                },
                                {
                                    "title": "A History of God: The 4,000-Year Quest of Judaism, Christianity, and Islam",
                                    "authors": "Karen Armstrong",
                                    "tag_id": "11643",
                                    "tag_name": "female-author",
                                    "tag_count": "100"
                                },
                                {
                                    "title": "A Raisin in the Sun",
                                    "authors": "Lorraine Hansberry",
                                    "tag_id": "11643",
                                    "tag_name": "female-author",
                                    "tag_count": "100"
                                },
                                {
                                    "title": "A Raisin in the Sun",
                                    "authors": "Lorraine Hansberry",
                                    "tag_id": "11644",
                                    "tag_name": "female-authors",
                                    "tag_count": "100"
                                },
                                {
                                    "title": "A Virtuous Woman",
                                    "authors": "Kaye Gibbons",
                                    "tag_id": "32684",
                                    "tag_name": "womans-literature",
                                    "tag_count": "100"
                                },
                                {
                                    "title": "About a Boy",
                                    "authors": "Nick Hornby",
                                    "tag_id": "19038",
                                    "tag_name": "man-woman",
                                    "tag_count": "100"
                                },
                                {
                                    "title": "Ahab's Wife, or The Star-Gazer",
                                    "authors": "Sena Jeter Naslund",
                                    "tag_id": "11643",
                                    "tag_name": "female-author",
                                    "tag_count": "100"
                                },
                                {
                                    "title": "Anthem",
                                    "authors": "Ayn Rand",
                                    "tag_id": "11643",
                                    "tag_name": "female-author",
                                    "tag_count": "100"
                                },
                                {
                                    "title": "Anthem",
                                    "authors": "Ayn Rand",
                                    "tag_id": "11644",
                                    "tag_name": "female-authors",
                                    "tag_count": "100"
                                },
                                {
                                    "title": "Assassination Vacation",
                                    "authors": "Sarah Vowell",
                                    "tag_id": "11643",
                                    "tag_name": "female-author",
                                    "tag_count": "100"
                                },
                                {
                                    "title": "Assassination Vacation",
                                    "authors": "Sarah Vowell",
                                    "tag_id": "11644",
                                    "tag_name": "female-authors",
                                    "tag_count": "100"
                                },
                                {
                                    "title": "Bel Canto",
                                    "authors": "Ann Patchett",
                                    "tag_id": "11644",
                                    "tag_name": "female-authors",
                                    "tag_count": "100"
                                },
                                {
                                    "title": "Betsy-Tacy (Betsy-Tacy, #1)",
                                    "authors": "Maud Hart Lovelace, Lois Lenski",
                                    "tag_id": "11643",
                                    "tag_name": "female-author",
                                    "tag_count": "100"
                                },
                                {
                                    "title": "Black Beauty",
                                    "authors": "Anna Sewell",
                                    "tag_id": "11644",
                                    "tag_name": "female-authors",
                                    "tag_count": "100"
                                },
                                {
                                    "title": "Breath, Eyes, Memory",
                                    "authors": "Edwidge Danticat",
                                    "tag_id": "11643",
                                    "tag_name": "female-author",
                                    "tag_count": "100"
                                },
                                {
                                    "title": "Breath, Eyes, Memory",
                                    "authors": "Edwidge Danticat",
                                    "tag_id": "11644",
                                    "tag_name": "female-authors",
                                    "tag_count": "100"
                                },
                                {
                                    "title": "Brokeback Mountain",
                                    "authors": "Annie Proulx",
                                    "tag_id": "11643",
                                    "tag_name": "female-author",
                                    "tag_count": "100"
                                },
                                {
                                    "title": "Brokeback Mountain",
                                    "authors": "Annie Proulx",
                                    "tag_id": "11644",
                                    "tag_name": "female-authors",
                                    "tag_count": "100"
                                },
                                {
                                    "title": "Cause of Death (Kay Scarpetta, #7)",
                                    "authors": "Patricia Cornwell",
                                    "tag_id": "11643",
                                    "tag_name": "female-author",
                                    "tag_count": "100"
                                },
                                {
                                    "title": "City of the Beasts (Eagle and Jaguar, #1)",
                                    "authors": "Isabel Allende, Margaret Sayers Peden",
                                    "tag_id": "11643",
                                    "tag_name": "female-author",
                                    "tag_count": "100"
                                },
                                {
                                    "title": "Cover Her Face (Adam Dalgliesh #1)",
                                    "authors": "P.D. James",
                                    "tag_id": "11643",
                                    "tag_name": "female-author",
                                    "tag_count": "100"
                                },
                                {
                                    "title": "Cover Her Face (Adam Dalgliesh #1)",
                                    "authors": "P.D. James",
                                    "tag_id": "11644",
                                    "tag_name": "female-authors",
                                    "tag_count": "100"
                                },
                                {
                                    "title": "Daniel Deronda",
                                    "authors": "George Eliot, Edmund White",
                                    "tag_id": "11643",
                                    "tag_name": "female-author",
                                    "tag_count": "100"
                                },
                                {
                                    "title": "Daniel Deronda",
                                    "authors": "George Eliot, Edmund White",
                                    "tag_id": "11644",
                                    "tag_name": "female-authors",
                                    "tag_count": "100"
                                },
                                {
                                    "title": "Deerskin",
                                    "authors": "Robin McKinley",
                                    "tag_id": "11643",
                                    "tag_name": "female-author",
                                    "tag_count": "100"
                                },
                                {
                                    "title": "Deerskin",
                                    "authors": "Robin McKinley",
                                    "tag_id": "11658",
                                    "tag_name": "female-protagonist",
                                    "tag_count": "100"
                                },
                                {
                                    "title": "Drowning Ruth",
                                    "authors": "Christina Schwarz",
                                    "tag_id": "11643",
                                    "tag_name": "female-author",
                                    "tag_count": "100"
                                },
                                {
                                    "title": "Eats, Shoots & Leaves: The Zero Tolerance Approach to Punctuation",
                                    "authors": "Lynne Truss",
                                    "tag_id": "11643",
                                    "tag_name": "female-author",
                                    "tag_count": "100"
                                },
                                {
                                    "title": "Embroideries",
                                    "authors": "Marjane Satrapi, Anjali Singh",
                                    "tag_id": "11643",
                                    "tag_name": "female-author",
                                    "tag_count": "100"
                                },
                                {
                                    "title": "Embroideries",
                                    "authors": "Marjane Satrapi, Anjali Singh",
                                    "tag_id": "11644",
                                    "tag_name": "female-authors",
                                    "tag_count": "100"
                                },
                                {
                                    "title": "Embroideries",
                                    "authors": "Marjane Satrapi, Anjali Singh",
                                    "tag_id": "11658",
                                    "tag_name": "female-protagonist",
                                    "tag_count": "100"
                                },
                                {
                                    "title": "Emily of New Moon (Emily, #1)",
                                    "authors": "L.M. Montgomery",
                                    "tag_id": "11643",
                                    "tag_name": "female-author",
                                    "tag_count": "100"
                                },
                                {
                                    "title": "Ethan Frome",
                                    "authors": "Edith Wharton",
                                    "tag_id": "11643",
                                    "tag_name": "female-author",
                                    "tag_count": "100"
                                },
                                {
                                    "title": "Ethan Frome",
                                    "authors": "Edith Wharton",
                                    "tag_id": "11644",
                                    "tag_name": "female-authors",
                                    "tag_count": "100"
                                },
                                {
                                    "title": "Fall on Your Knees",
                                    "authors": "Ann-Marie MacDonald",
                                    "tag_id": "11644",
                                    "tag_name": "female-authors",
                                    "tag_count": "100"
                                },
                                {
                                    "title": "Falling Angels",
                                    "authors": "Tracy Chevalier",
                                    "tag_id": "11643",
                                    "tag_name": "female-author",
                                    "tag_count": "100"
                                },
                                {
                                    "title": "Falling Angels",
                                    "authors": "Tracy Chevalier",
                                    "tag_id": "11644",
                                    "tag_name": "female-authors",
                                    "tag_count": "100"
                                },
                                {
                                    "title": "Farmer Boy (Little House, #3)",
                                    "authors": "Laura Ingalls Wilder, Garth Williams",
                                    "tag_id": "11643",
                                    "tag_name": "female-author",
                                    "tag_count": "100"
                                },
                                {
                                    "title": "Fire Sea (The Death Gate Cycle, #3)",
                                    "authors": "Margaret Weis, Tracy Hickman",
                                    "tag_id": "11643",
                                    "tag_name": "female-author",
                                    "tag_count": "100"
                                },
                                {
                                    "title": "First They Killed My Father: A Daughter of Cambodia Remembers",
                                    "authors": "Loung Ung",
                                    "tag_id": "11643",
                                    "tag_name": "female-author",
                                    "tag_count": "100"
                                },
                                {
                                    "title": "First They Killed My Father: A Daughter of Cambodia Remembers",
                                    "authors": "Loung Ung",
                                    "tag_id": "11644",
                                    "tag_name": "female-authors",
                                    "tag_count": "100"
                                },
                                {
                                    "title": "Forever Amber ",
                                    "authors": "Kathleen Winsor",
                                    "tag_id": "11643",
                                    "tag_name": "female-author",
                                    "tag_count": "100"
                                },
                                {
                                    "title": "Fullmetal Alchemist, Vol. 1 (Fullmetal Alchemist, #1)",
                                    "authors": "Hiromu Arakawa, Akira Watanabe",
                                    "tag_id": "11644",
                                    "tag_name": "female-authors",
                                    "tag_count": "100"
                                },
                                {
                                    "title": "Girl with a Pearl Earring",
                                    "authors": "Tracy Chevalier",
                                    "tag_id": "11643",
                                    "tag_name": "female-author",
                                    "tag_count": "100"
                                },
                                {
                                    "title": "Girl with a Pearl Earring",
                                    "authors": "Tracy Chevalier",
                                    "tag_id": "11644",
                                    "tag_name": "female-authors",
                                    "tag_count": "100"
                                },
                                {
                                    "title": "Harry Potter and the Order of the Phoenix (Harry Potter, #5)",
                                    "authors": "J.K. Rowling, Mary GrandPré",
                                    "tag_id": "11643",
                                    "tag_name": "female-author",
                                    "tag_count": "100"
                                },
                                {
                                    "title": "Harry Potter Schoolbooks Box Set: Two Classic Books from the Library of Hogwarts School of Witchcraft and Wizardry",
                                    "authors": "J.K. Rowling",
                                    "tag_id": "11643",
                                    "tag_name": "female-author",
                                    "tag_count": "100"
                                },
                                {
                                    "title": "Heidi",
                                    "authors": "Johanna Spyri, Angelo  Rinaldi, Beverly Cleary",
                                    "tag_id": "11643",
                                    "tag_name": "female-author",
                                    "tag_count": "100"
                                },
                                {
                                    "title": "Heidi",
                                    "authors": "Johanna Spyri, Angelo  Rinaldi, Beverly Cleary",
                                    "tag_id": "11644",
                                    "tag_name": "female-authors",
                                    "tag_count": "100"
                                },
                                {
                                    "title": "Holy Cow: An Indian Adventure",
                                    "authors": "Sarah Macdonald",
                                    "tag_id": "11644",
                                    "tag_name": "female-authors",
                                    "tag_count": "100"
                                },
                                {
                                    "title": "Howl's Moving Castle (Howl's Moving Castle, #1)",
                                    "authors": "Diana Wynne Jones",
                                    "tag_id": "11643",
                                    "tag_name": "female-author",
                                    "tag_count": "100"
                                },
                                {
                                    "title": "Howl's Moving Castle (Howl's Moving Castle, #1)",
                                    "authors": "Diana Wynne Jones",
                                    "tag_id": "11644",
                                    "tag_name": "female-authors",
                                    "tag_count": "100"
                                },
                                {
                                    "title": "Howl's Moving Castle (Howl's Moving Castle, #1)",
                                    "authors": "Diana Wynne Jones",
                                    "tag_id": "11658",
                                    "tag_name": "female-protagonist",
                                    "tag_count": "100"
                                },
                                {
                                    "title": "I Hope They Serve Beer in Hell (Tucker Max, #1)",
                                    "authors": "Tucker Max",
                                    "tag_id": "19038",
                                    "tag_name": "man-woman",
                                    "tag_count": "100"
                                },
                                {
                                    "title": "I Like You: Hospitality Under the Influence",
                                    "authors": "Amy Sedaris",
                                    "tag_id": "11643",
                                    "tag_name": "female-author",
                                    "tag_count": "100"
                                },
                                {
                                    "title": "Icy Sparks",
                                    "authors": "Gwyn Hyman Rubio",
                                    "tag_id": "11644",
                                    "tag_name": "female-authors",
                                    "tag_count": "100"
                                },
                                {
                                    "title": "Inés of My Soul",
                                    "authors": "Isabel Allende, Margaret Sayers Peden",
                                    "tag_id": "11644",
                                    "tag_name": "female-authors",
                                    "tag_count": "100"
                                },
                                {
                                    "title": "Interpreter of Maladies",
                                    "authors": "Jhumpa Lahiri",
                                    "tag_id": "11643",
                                    "tag_name": "female-author",
                                    "tag_count": "100"
                                },
                                {
                                    "title": "Interpreter of Maladies",
                                    "authors": "Jhumpa Lahiri",
                                    "tag_id": "11644",
                                    "tag_name": "female-authors",
                                    "tag_count": "100"
                                },
                                {
                                    "title": "Jackdaws",
                                    "authors": "Ken Follett",
                                    "tag_id": "11642",
                                    "tag_name": "female",
                                    "tag_count": "100"
                                },
                                {
                                    "title": "Like Water for Chocolate",
                                    "authors": "Laura Esquivel, Thomas  Christensen, Carol Christensen",
                                    "tag_id": "11644",
                                    "tag_name": "female-authors",
                                    "tag_count": "100"
                                },
                                {
                                    "title": "Little Altars Everywhere",
                                    "authors": "Rebecca Wells",
                                    "tag_id": "11643",
                                    "tag_name": "female-author",
                                    "tag_count": "100"
                                },
                                {
                                    "title": "Little House in the Big Woods (Little House, #1)",
                                    "authors": "Laura Ingalls Wilder, Garth Williams",
                                    "tag_id": "11643",
                                    "tag_name": "female-author",
                                    "tag_count": "100"
                                },
                                {
                                    "title": "Little Women (Little Women, #1)",
                                    "authors": "Louisa May Alcott",
                                    "tag_id": "11644",
                                    "tag_name": "female-authors",
                                    "tag_count": "100"
                                },
                                {
                                    "title": "Longitude: The True Story of a Lone Genius Who Solved the Greatest Scientific Problem of His Time",
                                    "authors": "Dava Sobel, Neil Armstrong",
                                    "tag_id": "11643",
                                    "tag_name": "female-author",
                                    "tag_count": "100"
                                },
                                {
                                    "title": "Mother of Pearl",
                                    "authors": "Melinda Haynes",
                                    "tag_id": "11644",
                                    "tag_name": "female-authors",
                                    "tag_count": "100"
                                },
                                {
                                    "title": "Nickel and Dimed: On (Not) Getting By in America",
                                    "authors": "Barbara Ehrenreich",
                                    "tag_id": "11643",
                                    "tag_name": "female-author",
                                    "tag_count": "100"
                                },
                                {
                                    "title": "Nickel and Dimed: On (Not) Getting By in America",
                                    "authors": "Barbara Ehrenreich",
                                    "tag_id": "11644",
                                    "tag_name": "female-authors",
                                    "tag_count": "100"
                                },
                                {
                                    "title": "No Logo",
                                    "authors": "Naomi Klein",
                                    "tag_id": "11643",
                                    "tag_name": "female-author",
                                    "tag_count": "100"
                                },
                                {
                                    "title": "No Logo",
                                    "authors": "Naomi Klein",
                                    "tag_id": "11644",
                                    "tag_name": "female-authors",
                                    "tag_count": "100"
                                },
                                {
                                    "title": "Olivia Joules and the Overactive Imagination",
                                    "authors": "Helen Fielding",
                                    "tag_id": "11643",
                                    "tag_name": "female-author",
                                    "tag_count": "100"
                                },
                                {
                                    "title": "On Beauty",
                                    "authors": "Zadie Smith",
                                    "tag_id": "11643",
                                    "tag_name": "female-author",
                                    "tag_count": "100"
                                },
                                {
                                    "title": "On Beauty",
                                    "authors": "Zadie Smith",
                                    "tag_id": "11644",
                                    "tag_name": "female-authors",
                                    "tag_count": "100"
                                },
                                {
                                    "title": "Open House",
                                    "authors": "Elizabeth Berg",
                                    "tag_id": "11644",
                                    "tag_name": "female-authors",
                                    "tag_count": "100"
                                },
                                {
                                    "title": "Paradise",
                                    "authors": "Toni Morrison",
                                    "tag_id": "11643",
                                    "tag_name": "female-author",
                                    "tag_count": "100"
                                },
                                {
                                    "title": "Paradise",
                                    "authors": "Toni Morrison",
                                    "tag_id": "11644",
                                    "tag_name": "female-authors",
                                    "tag_count": "100"
                                },
                                {
                                    "title": "Persuasion",
                                    "authors": "Jane Austen, James Kinsley, Deidre Shauna Lynch",
                                    "tag_id": "11643",
                                    "tag_name": "female-author",
                                    "tag_count": "100"
                                },
                                {
                                    "title": "Persuasion",
                                    "authors": "Jane Austen, James Kinsley, Deidre Shauna Lynch",
                                    "tag_id": "11644",
                                    "tag_name": "female-authors",
                                    "tag_count": "100"
                                },
                                {
                                    "title": "Play It as It Lays",
                                    "authors": "Joan Didion, David Thomson",
                                    "tag_id": "11643",
                                    "tag_name": "female-author",
                                    "tag_count": "100"
                                },
                                {
                                    "title": "Play It as It Lays",
                                    "authors": "Joan Didion, David Thomson",
                                    "tag_id": "11644",
                                    "tag_name": "female-authors",
                                    "tag_count": "100"
                                },
                                {
                                    "title": "Play It as It Lays",
                                    "authors": "Joan Didion, David Thomson",
                                    "tag_id": "11662",
                                    "tag_name": "female-writers",
                                    "tag_count": "100"
                                },
                                {
                                    "title": "Point of Origin (Kay Scarpetta, #9)",
                                    "authors": "Patricia Cornwell",
                                    "tag_id": "11643",
                                    "tag_name": "female-author",
                                    "tag_count": "100"
                                },
                                {
                                    "title": "Postmortem (Kay Scarpetta, #1)",
                                    "authors": "Patricia Cornwell",
                                    "tag_id": "11643",
                                    "tag_name": "female-author",
                                    "tag_count": "100"
                                },
                                {
                                    "title": "Pygmalion & My Fair Lady",
                                    "authors": "George Bernard Shaw, Alan Jay Lerner",
                                    "tag_id": "28832",
                                    "tag_name": "strong-female-character-s",
                                    "tag_count": "100"
                                },
                                {
                                    "title": "Regeneration (Regeneration, #1)",
                                    "authors": "Pat Barker",
                                    "tag_id": "11643",
                                    "tag_name": "female-author",
                                    "tag_count": "100"
                                },
                                {
                                    "title": "Regeneration (Regeneration, #1)",
                                    "authors": "Pat Barker",
                                    "tag_id": "11644",
                                    "tag_name": "female-authors",
                                    "tag_count": "100"
                                },
                                {
                                    "title": "Sex and the City",
                                    "authors": "Candace Bushnell",
                                    "tag_id": "11643",
                                    "tag_name": "female-author",
                                    "tag_count": "100"
                                },
                                {
                                    "title": "Sex and the City",
                                    "authors": "Candace Bushnell",
                                    "tag_id": "11644",
                                    "tag_name": "female-authors",
                                    "tag_count": "100"
                                },
                                {
                                    "title": "Sickened: The Memoir of a Munchausen by Proxy Childhood",
                                    "authors": "Julie Gregory",
                                    "tag_id": "11644",
                                    "tag_name": "female-authors",
                                    "tag_count": "100"
                                },
                                {
                                    "title": "Slouching Towards Bethlehem",
                                    "authors": "Joan Didion",
                                    "tag_id": "11643",
                                    "tag_name": "female-author",
                                    "tag_count": "100"
                                },
                                {
                                    "title": "Slouching Towards Bethlehem",
                                    "authors": "Joan Didion",
                                    "tag_id": "11644",
                                    "tag_name": "female-authors",
                                    "tag_count": "100"
                                },
                                {
                                    "title": "Slouching Towards Bethlehem",
                                    "authors": "Joan Didion",
                                    "tag_id": "11662",
                                    "tag_name": "female-writers",
                                    "tag_count": "100"
                                },
                                {
                                    "title": "Snow Flower and the Secret Fan",
                                    "authors": "Lisa See",
                                    "tag_id": "11643",
                                    "tag_name": "female-author",
                                    "tag_count": "100"
                                },
                                {
                                    "title": "Snow Flower and the Secret Fan",
                                    "authors": "Lisa See",
                                    "tag_id": "11644",
                                    "tag_name": "female-authors",
                                    "tag_count": "100"
                                },
                                {
                                    "title": "Special Topics in Calamity Physics",
                                    "authors": "Marisha Pessl",
                                    "tag_id": "11643",
                                    "tag_name": "female-author",
                                    "tag_count": "100"
                                },
                                {
                                    "title": "Special Topics in Calamity Physics",
                                    "authors": "Marisha Pessl",
                                    "tag_id": "11644",
                                    "tag_name": "female-authors",
                                    "tag_count": "100"
                                },
                                {
                                    "title": "Tara Road",
                                    "authors": "Maeve Binchy",
                                    "tag_id": "11643",
                                    "tag_name": "female-author",
                                    "tag_count": "100"
                                },
                                {
                                    "title": "The Autograph Man",
                                    "authors": "Zadie Smith",
                                    "tag_id": "11643",
                                    "tag_name": "female-author",
                                    "tag_count": "100"
                                },
                                {
                                    "title": "The Autograph Man",
                                    "authors": "Zadie Smith",
                                    "tag_id": "11644",
                                    "tag_name": "female-authors",
                                    "tag_count": "100"
                                },
                                {
                                    "title": "The Body Farm (Kay Scarpetta, #5)",
                                    "authors": "Patricia Cornwell",
                                    "tag_id": "11643",
                                    "tag_name": "female-author",
                                    "tag_count": "100"
                                },
                                {
                                    "title": "The Clan of the Cave Bear (Earth's Children, #1)",
                                    "authors": "Jean M. Auel",
                                    "tag_id": "11643",
                                    "tag_name": "female-author",
                                    "tag_count": "100"
                                },
                                {
                                    "title": "The Devil Wears Prada (The Devil Wears Prada, #1)",
                                    "authors": "Lauren Weisberger",
                                    "tag_id": "11643",
                                    "tag_name": "female-author",
                                    "tag_count": "100"
                                },
                                {
                                    "title": "The Drama of the Gifted Child: The Search for the True Self",
                                    "authors": "Alice  Miller, Ruth Ward",
                                    "tag_id": "11643",
                                    "tag_name": "female-author",
                                    "tag_count": "100"
                                },
                                {
                                    "title": "The Drama of the Gifted Child: The Search for the True Self",
                                    "authors": "Alice  Miller, Ruth Ward",
                                    "tag_id": "11644",
                                    "tag_name": "female-authors",
                                    "tag_count": "100"
                                },
                                {
                                    "title": "The Emperor's Children",
                                    "authors": "Claire Messud",
                                    "tag_id": "11643",
                                    "tag_name": "female-author",
                                    "tag_count": "100"
                                },
                                {
                                    "title": "The Emperor's Children",
                                    "authors": "Claire Messud",
                                    "tag_id": "11644",
                                    "tag_name": "female-authors",
                                    "tag_count": "100"
                                },
                                {
                                    "title": "The Fountainhead",
                                    "authors": "Ayn Rand, Leonard Peikoff",
                                    "tag_id": "11644",
                                    "tag_name": "female-authors",
                                    "tag_count": "100"
                                },
                                {
                                    "title": "The Giver (The Giver, #1)",
                                    "authors": "Lois Lowry",
                                    "tag_id": "11643",
                                    "tag_name": "female-author",
                                    "tag_count": "100"
                                },
                                {
                                    "title": "The Good Earth (House of Earth, #1)",
                                    "authors": "Pearl S. Buck",
                                    "tag_id": "11643",
                                    "tag_name": "female-author",
                                    "tag_count": "100"
                                },
                                {
                                    "title": "The Good Earth (House of Earth, #1)",
                                    "authors": "Pearl S. Buck",
                                    "tag_id": "11644",
                                    "tag_name": "female-authors",
                                    "tag_count": "100"
                                },
                                {
                                    "title": "The Heart of a Woman",
                                    "authors": "Maya Angelou",
                                    "tag_id": "11644",
                                    "tag_name": "female-authors",
                                    "tag_count": "100"
                                },
                                {
                                    "title": "The History of Love",
                                    "authors": "Nicole Krauss",
                                    "tag_id": "11643",
                                    "tag_name": "female-author",
                                    "tag_count": "100"
                                },
                                {
                                    "title": "The History of Love",
                                    "authors": "Nicole Krauss",
                                    "tag_id": "11644",
                                    "tag_name": "female-authors",
                                    "tag_count": "100"
                                },
                                {
                                    "title": "The Jane Austen Book Club",
                                    "authors": "Karen Joy Fowler",
                                    "tag_id": "11643",
                                    "tag_name": "female-author",
                                    "tag_count": "100"
                                },
                                {
                                    "title": "The Long Winter (Little House, #6)",
                                    "authors": "Laura Ingalls Wilder, Garth Williams",
                                    "tag_id": "11643",
                                    "tag_name": "female-author",
                                    "tag_count": "100"
                                },
                                {
                                    "title": "The Lover",
                                    "authors": "Marguerite Duras, Barbara Bray, Maxine Hong Kingston",
                                    "tag_id": "11643",
                                    "tag_name": "female-author",
                                    "tag_count": "100"
                                },
                                {
                                    "title": "The Lover",
                                    "authors": "Marguerite Duras, Barbara Bray, Maxine Hong Kingston",
                                    "tag_id": "11644",
                                    "tag_name": "female-authors",
                                    "tag_count": "100"
                                },
                                {
                                    "title": "The No. 1 Ladies' Detective Agency  (No. 1 Ladies' Detective Agency, #1)",
                                    "authors": "Alexander McCall Smith",
                                    "tag_id": "11658",
                                    "tag_name": "female-protagonist",
                                    "tag_count": "100"
                                },
                                {
                                    "title": "The Other Side of the Story",
                                    "authors": "Marian Keyes",
                                    "tag_id": "11644",
                                    "tag_name": "female-authors",
                                    "tag_count": "100"
                                },
                                {
                                    "title": "The Poisonwood Bible",
                                    "authors": "Barbara Kingsolver",
                                    "tag_id": "11643",
                                    "tag_name": "female-author",
                                    "tag_count": "100"
                                },
                                {
                                    "title": "The Poisonwood Bible",
                                    "authors": "Barbara Kingsolver",
                                    "tag_id": "11644",
                                    "tag_name": "female-authors",
                                    "tag_count": "100"
                                },
                                {
                                    "title": "The Red Tent",
                                    "authors": "Anita Diamant",
                                    "tag_id": "11643",
                                    "tag_name": "female-author",
                                    "tag_count": "100"
                                },
                                {
                                    "title": "The Shipping News",
                                    "authors": "Annie Proulx",
                                    "tag_id": "11643",
                                    "tag_name": "female-author",
                                    "tag_count": "100"
                                },
                                {
                                    "title": "The Shipping News",
                                    "authors": "Annie Proulx",
                                    "tag_id": "11644",
                                    "tag_name": "female-authors",
                                    "tag_count": "100"
                                },
                                {
                                    "title": "The Stories of Eva Luna",
                                    "authors": "Isabel Allende",
                                    "tag_id": "11644",
                                    "tag_name": "female-authors",
                                    "tag_count": "100"
                                },
                                {
                                    "title": "The Thorn Birds",
                                    "authors": "Colleen McCullough",
                                    "tag_id": "11644",
                                    "tag_name": "female-authors",
                                    "tag_count": "100"
                                },
                                {
                                    "title": "The Virgin Blue",
                                    "authors": "Tracy Chevalier",
                                    "tag_id": "11644",
                                    "tag_name": "female-authors",
                                    "tag_count": "100"
                                },
                                {
                                    "title": "The Virgin Blue",
                                    "authors": "Tracy Chevalier",
                                    "tag_id": "11658",
                                    "tag_name": "female-protagonist",
                                    "tag_count": "100"
                                },
                                {
                                    "title": "We the Living",
                                    "authors": "Ayn Rand, Leonard Peikoff",
                                    "tag_id": "11643",
                                    "tag_name": "female-author",
                                    "tag_count": "100"
                                },
                                {
                                    "title": "We Were the Mulvaneys",
                                    "authors": "Joyce Carol Oates",
                                    "tag_id": "11643",
                                    "tag_name": "female-author",
                                    "tag_count": "100"
                                },
                                {
                                    "title": "We Were the Mulvaneys",
                                    "authors": "Joyce Carol Oates",
                                    "tag_id": "11644",
                                    "tag_name": "female-authors",
                                    "tag_count": "100"
                                },
                                {
                                    "title": "West with the Night",
                                    "authors": "Beryl Markham",
                                    "tag_id": "11644",
                                    "tag_name": "female-authors",
                                    "tag_count": "100"
                                },
                                {
                                    "title": "What Looks Like Crazy on an Ordinary Day (Idlewild, #1)",
                                    "authors": "Pearl Cleage",
                                    "tag_id": "11644",
                                    "tag_name": "female-authors",
                                    "tag_count": "100"
                                },
                                {
                                    "title": "White Teeth",
                                    "authors": "Zadie Smith",
                                    "tag_id": "11643",
                                    "tag_name": "female-author",
                                    "tag_count": "100"
                                },
                                {
                                    "title": "White Teeth",
                                    "authors": "Zadie Smith",
                                    "tag_id": "11644",
                                    "tag_name": "female-authors",
                                    "tag_count": "100"
                                },
                                {
                                    "title": "Wild Swans: Three Daughters of China",
                                    "authors": "Jung Chang",
                                    "tag_id": "11643",
                                    "tag_name": "female-author",
                                    "tag_count": "100"
                                },
                                {
                                    "title": "Wild Swans: Three Daughters of China",
                                    "authors": "Jung Chang",
                                    "tag_id": "11644",
                                    "tag_name": "female-authors",
                                    "tag_count": "100"
                                },
                                {
                                    "title": "Wuthering Heights",
                                    "authors": "Emily Brontë, Richard J. Dunn",
                                    "tag_id": "11643",
                                    "tag_name": "female-author",
                                    "tag_count": "100"
                                },
                                {
                                    "title": "Wuthering Heights",
                                    "authors": "Emily Brontë, Richard J. Dunn",
                                    "tag_id": "11644",
                                    "tag_name": "female-authors",
                                    "tag_count": "100"
                                },
                                {
                                    "title": "Year of Wonders",
                                    "authors": "Geraldine Brooks",
                                    "tag_id": "11643",
                                    "tag_name": "female-author",
                                    "tag_count": "100"
                                }
                            ]
                        },
                        "text/html": [
                            "<table>",
                            "<tr><th>title</th><th>authors</th><th>tag_id</th><th>tag_name</th><th>tag_count</th></tr>",
                            "<tr><td>The Pilot's Wife</td><td>Anita Shreve</td><td>32686</td><td>women</td><td>7</td></tr>",
                            "<tr><td>The Pilot's Wife</td><td>Anita Shreve</td><td>32708</td><td>women-s-fiction</td><td>7</td></tr>",
                            "<tr><td>The Pilot's Wife</td><td>Anita Shreve</td><td>32726</td><td>womens-fiction</td><td>7</td></tr>",
                            "<tr><td>I Feel Bad about My Neck: And Other Thoughts on Being a Woman</td><td>Nora Ephron</td><td>32686</td><td>women</td><td>8</td></tr>",
                            "<tr><td>I Feel Bad about My Neck: And Other Thoughts on Being a Woman</td><td>Nora Ephron</td><td>32724</td><td>women-writers</td><td>8</td></tr>",
                            "<tr><td>I Feel Bad about My Neck: And Other Thoughts on Being a Woman</td><td>Nora Ephron</td><td>32729</td><td>womens-issues</td><td>8</td></tr>",
                            "<tr><td>Confessions of a Shopaholic (Shopaholic, #1)</td><td>Sophie Kinsella</td><td>32708</td><td>women-s-fiction</td><td>9</td></tr>",
                            "<tr><td>Confessions of a Shopaholic (Shopaholic, #1)</td><td>Sophie Kinsella</td><td>32726</td><td>womens-fiction</td><td>9</td></tr>",
                            "<tr><td>Emma</td><td>Jane Austen, Fiona Stafford</td><td>32686</td><td>women</td><td>9</td></tr>",
                            "<tr><td>Desert Flower</td><td>Waris Dirie, Cathleen Miller</td><td>32686</td><td>women</td><td>10</td></tr>",
                            "<tr><td>The House of the Spirits</td><td>Isabel Allende, Magda Bogin</td><td>32686</td><td>women</td><td>11</td></tr>",
                            "<tr><td>The House of the Spirits</td><td>Isabel Allende, Magda Bogin</td><td>32688</td><td>women-authors</td><td>11</td></tr>",
                            "<tr><td>The House of the Spirits</td><td>Isabel Allende, Magda Bogin</td><td>32724</td><td>women-writers</td><td>11</td></tr>",
                            "<tr><td>Ahab's Wife, or The Star-Gazer</td><td>Sena Jeter Naslund</td><td>28839</td><td>strong-women</td><td>12</td></tr>",
                            "<tr><td>Ahab's Wife, or The Star-Gazer</td><td>Sena Jeter Naslund</td><td>32686</td><td>women</td><td>12</td></tr>",
                            "<tr><td>Ahab's Wife, or The Star-Gazer</td><td>Sena Jeter Naslund</td><td>32688</td><td>women-authors</td><td>12</td></tr>",
                            "<tr><td>Suzanne's Diary for Nicholas</td><td>James Patterson</td><td>32726</td><td>womens-fiction</td><td>12</td></tr>",
                            "<tr><td>The Broom of the System</td><td>David Foster Wallace</td><td>32686</td><td>women</td><td>12</td></tr>",
                            "<tr><td>The God of Small Things</td><td>Arundhati Roy</td><td>32686</td><td>women</td><td>12</td></tr>",
                            "<tr><td>The God of Small Things</td><td>Arundhati Roy</td><td>32724</td><td>women-writers</td><td>12</td></tr>",
                            "<tr><td>Midwives</td><td>Chris Bohjalian</td><td>32686</td><td>women</td><td>13</td></tr>",
                            "<tr><td>Midwives</td><td>Chris Bohjalian</td><td>32708</td><td>women-s-fiction</td><td>13</td></tr>",
                            "<tr><td>Fried Green Tomatoes at the Whistle Stop Cafe</td><td>Fannie Flagg</td><td>28839</td><td>strong-women</td><td>14</td></tr>",
                            "<tr><td>Fried Green Tomatoes at the Whistle Stop Cafe</td><td>Fannie Flagg</td><td>32686</td><td>women</td><td>14</td></tr>",
                            "<tr><td>Fried Green Tomatoes at the Whistle Stop Cafe</td><td>Fannie Flagg</td><td>32708</td><td>women-s-fiction</td><td>14</td></tr>",
                            "<tr><td>Fried Green Tomatoes at the Whistle Stop Cafe</td><td>Fannie Flagg</td><td>32724</td><td>women-writers</td><td>14</td></tr>",
                            "<tr><td>Fried Green Tomatoes at the Whistle Stop Cafe</td><td>Fannie Flagg</td><td>32726</td><td>womens-fiction</td><td>14</td></tr>",
                            "<tr><td>The Pillars of Creation (Sword of Truth, #7)</td><td>Terry Goodkind</td><td>32686</td><td>women</td><td>14</td></tr>",
                            "<tr><td>The Wedding (The Notebook, #2)</td><td>Nicholas Sparks</td><td>32708</td><td>women-s-fiction</td><td>14</td></tr>",
                            "<tr><td>The Wedding (The Notebook, #2)</td><td>Nicholas Sparks</td><td>32726</td><td>womens-fiction</td><td>14</td></tr>",
                            "<tr><td>Black and Blue</td><td>Anna Quindlen</td><td>32686</td><td>women</td><td>15</td></tr>",
                            "<tr><td>Black and Blue</td><td>Anna Quindlen</td><td>32708</td><td>women-s-fiction</td><td>15</td></tr>",
                            "<tr><td>Black and Blue</td><td>Anna Quindlen</td><td>32726</td><td>womens-fiction</td><td>15</td></tr>",
                            "<tr><td>Shopaholic Takes Manhattan (Shopaholic, #2)</td><td>Sophie Kinsella</td><td>32708</td><td>women-s-fiction</td><td>15</td></tr>",
                            "<tr><td>Shopaholic Takes Manhattan (Shopaholic, #2)</td><td>Sophie Kinsella</td><td>32726</td><td>womens-fiction</td><td>15</td></tr>",
                            "<tr><td>Olivia Joules and the Overactive Imagination</td><td>Helen Fielding</td><td>32708</td><td>women-s-fiction</td><td>16</td></tr>",
                            "<tr><td>Olivia Joules and the Overactive Imagination</td><td>Helen Fielding</td><td>32724</td><td>women-writers</td><td>16</td></tr>",
                            "<tr><td>Persepolis 2: The Story of a Return (Persepolis, #2)</td><td>Marjane Satrapi, Anjali Singh</td><td>32686</td><td>women</td><td>16</td></tr>",
                            "<tr><td>Persuasion</td><td>Jane Austen, James Kinsley, Deidre Shauna Lynch</td><td>32686</td><td>women</td><td>16</td></tr>",
                            "<tr><td>Watermelon (Walsh Family, #1)</td><td>Marian Keyes</td><td>32686</td><td>women</td><td>16</td></tr>",
                            "<tr><td>Watermelon (Walsh Family, #1)</td><td>Marian Keyes</td><td>32708</td><td>women-s-fiction</td><td>16</td></tr>",
                            "<tr><td>Watermelon (Walsh Family, #1)</td><td>Marian Keyes</td><td>32726</td><td>womens-fiction</td><td>16</td></tr>",
                            "<tr><td>Fear of Flying</td><td>Erica Jong</td><td>32686</td><td>women</td><td>17</td></tr>",
                            "<tr><td>Fear of Flying</td><td>Erica Jong</td><td>32688</td><td>women-authors</td><td>17</td></tr>",
                            "<tr><td>Fear of Flying</td><td>Erica Jong</td><td>32720</td><td>women-s-studies</td><td>17</td></tr>",
                            "<tr><td>Fear of Flying</td><td>Erica Jong</td><td>32724</td><td>women-writers</td><td>17</td></tr>",
                            "<tr><td>Fear of Flying</td><td>Erica Jong</td><td>32729</td><td>womens-issues</td><td>17</td></tr>",
                            "<tr><td>Memoirs of a Geisha</td><td>Arthur Golden</td><td>32686</td><td>women</td><td>17</td></tr>",
                            "<tr><td>Pardonable Lies (Maisie Dobbs, #3)</td><td>Jacqueline Winspear</td><td>32686</td><td>women</td><td>17</td></tr>",
                            "<tr><td>Pardonable Lies (Maisie Dobbs, #3)</td><td>Jacqueline Winspear</td><td>32724</td><td>women-writers</td><td>17</td></tr>",
                            "<tr><td>The Joy Luck Club</td><td>Amy Tan</td><td>32686</td><td>women</td><td>17</td></tr>",
                            "<tr><td>The Joy Luck Club</td><td>Amy Tan</td><td>32708</td><td>women-s-fiction</td><td>17</td></tr>",
                            "<tr><td>The Joy Luck Club</td><td>Amy Tan</td><td>32724</td><td>women-writers</td><td>17</td></tr>",
                            "<tr><td>Forever Amber </td><td>Kathleen Winsor</td><td>32686</td><td>women</td><td>18</td></tr>",
                            "<tr><td>Mother of Pearl</td><td>Melinda Haynes</td><td>32726</td><td>womens-fiction</td><td>18</td></tr>",
                            "<tr><td>Reading Lolita in Tehran</td><td>Azar Nafisi</td><td>32686</td><td>women</td><td>18</td></tr>",
                            "<tr><td>Tara Road</td><td>Maeve Binchy</td><td>32686</td><td>women</td><td>18</td></tr>",
                            "<tr><td>Tara Road</td><td>Maeve Binchy</td><td>32708</td><td>women-s-fiction</td><td>18</td></tr>",
                            "<tr><td>Tara Road</td><td>Maeve Binchy</td><td>32726</td><td>womens-fiction</td><td>18</td></tr>",
                            "<tr><td>The Stories of Eva Luna</td><td>Isabel Allende</td><td>32686</td><td>women</td><td>18</td></tr>",
                            "<tr><td>The Stories of Eva Luna</td><td>Isabel Allende</td><td>32688</td><td>women-authors</td><td>18</td></tr>",
                            "<tr><td>The Stories of Eva Luna</td><td>Isabel Allende</td><td>32724</td><td>women-writers</td><td>18</td></tr>",
                            "<tr><td>Shopaholic Ties the Knot (Shopaholic, #3)</td><td>Sophie Kinsella</td><td>32708</td><td>women-s-fiction</td><td>19</td></tr>",
                            "<tr><td>Shopaholic Ties the Knot (Shopaholic, #3)</td><td>Sophie Kinsella</td><td>32726</td><td>womens-fiction</td><td>19</td></tr>",
                            "<tr><td>The Virgin Blue</td><td>Tracy Chevalier</td><td>32686</td><td>women</td><td>19</td></tr>",
                            "<tr><td>Truth and Beauty</td><td>Ann Patchett</td><td>32686</td><td>women</td><td>19</td></tr>",
                            "<tr><td>Truth and Beauty</td><td>Ann Patchett</td><td>32724</td><td>women-writers</td><td>19</td></tr>",
                            "<tr><td>Inés of My Soul</td><td>Isabel Allende, Margaret Sayers Peden</td><td>32686</td><td>women</td><td>20</td></tr>",
                            "<tr><td>Inés of My Soul</td><td>Isabel Allende, Margaret Sayers Peden</td><td>32724</td><td>women-writers</td><td>20</td></tr>",
                            "<tr><td>The Red Tent</td><td>Anita Diamant</td><td>28839</td><td>strong-women</td><td>20</td></tr>",
                            "<tr><td>The Red Tent</td><td>Anita Diamant</td><td>32688</td><td>women-authors</td><td>20</td></tr>",
                            "<tr><td>The Red Tent</td><td>Anita Diamant</td><td>32724</td><td>women-writers</td><td>20</td></tr>",
                            "<tr><td>The Shipping News</td><td>Annie Proulx</td><td>32686</td><td>women</td><td>20</td></tr>",
                            "<tr><td>The Shipping News</td><td>Annie Proulx</td><td>32688</td><td>women-authors</td><td>20</td></tr>",
                            "<tr><td>The Shipping News</td><td>Annie Proulx</td><td>32724</td><td>women-writers</td><td>20</td></tr>",
                            "<tr><td>Like Water for Chocolate</td><td>Laura Esquivel, Thomas  Christensen, Carol Christensen</td><td>32686</td><td>women</td><td>21</td></tr>",
                            "<tr><td>Like Water for Chocolate</td><td>Laura Esquivel, Thomas  Christensen, Carol Christensen</td><td>32688</td><td>women-authors</td><td>21</td></tr>",
                            "<tr><td>Like Water for Chocolate</td><td>Laura Esquivel, Thomas  Christensen, Carol Christensen</td><td>32724</td><td>women-writers</td><td>21</td></tr>",
                            "<tr><td>Little Women (Little Women, #1)</td><td>Louisa May Alcott</td><td>32686</td><td>women</td><td>21</td></tr>",
                            "<tr><td>Saving Fish from Drowning</td><td>Amy Tan</td><td>32686</td><td>women</td><td>21</td></tr>",
                            "<tr><td>Saving Fish from Drowning</td><td>Amy Tan</td><td>32724</td><td>women-writers</td><td>21</td></tr>",
                            "<tr><td>She's Come Undone</td><td>Wally Lamb</td><td>32686</td><td>women</td><td>21</td></tr>",
                            "<tr><td>The Heart of a Woman</td><td>Maya Angelou</td><td>32686</td><td>women</td><td>21</td></tr>",
                            "<tr><td>The Thorn Birds</td><td>Colleen McCullough</td><td>32686</td><td>women</td><td>21</td></tr>",
                            "<tr><td>The Thorn Birds</td><td>Colleen McCullough</td><td>32708</td><td>women-s-fiction</td><td>21</td></tr>",
                            "<tr><td>Wild Swans: Three Daughters of China</td><td>Jung Chang</td><td>32686</td><td>women</td><td>21</td></tr>",
                            "<tr><td>A Raisin in the Sun</td><td>Lorraine Hansberry</td><td>32686</td><td>women</td><td>22</td></tr>",
                            "<tr><td>A Raisin in the Sun</td><td>Lorraine Hansberry</td><td>32688</td><td>women-authors</td><td>22</td></tr>",
                            "<tr><td>A Raisin in the Sun</td><td>Lorraine Hansberry</td><td>32724</td><td>women-writers</td><td>22</td></tr>",
                            "<tr><td>West with the Night</td><td>Beryl Markham</td><td>28839</td><td>strong-women</td><td>22</td></tr>",
                            "<tr><td>West with the Night</td><td>Beryl Markham</td><td>32686</td><td>women</td><td>22</td></tr>",
                            "<tr><td>West with the Night</td><td>Beryl Markham</td><td>32688</td><td>women-authors</td><td>22</td></tr>",
                            "<tr><td>West with the Night</td><td>Beryl Markham</td><td>32724</td><td>women-writers</td><td>22</td></tr>",
                            "<tr><td>Digging to America</td><td>Anne Tyler</td><td>32686</td><td>women</td><td>23</td></tr>",
                            "<tr><td>Digging to America</td><td>Anne Tyler</td><td>32688</td><td>women-authors</td><td>23</td></tr>",
                            "<tr><td>Digging to America</td><td>Anne Tyler</td><td>32708</td><td>women-s-fiction</td><td>23</td></tr>",
                            "<tr><td>Paradise</td><td>Toni Morrison</td><td>32686</td><td>women</td><td>23</td></tr>",
                            "<tr><td>Paradise</td><td>Toni Morrison</td><td>32724</td><td>women-writers</td><td>23</td></tr>",
                            "<tr><td>The Egypt Game (Game, #1)</td><td>Zilpha Keatley Snyder</td><td>32688</td><td>women-authors</td><td>23</td></tr>",
                            "<tr><td>Even Cowgirls Get the Blues</td><td>Tom Robbins</td><td>32686</td><td>women</td><td>24</td></tr>",
                            "<tr><td>The Kalahari Typing School for Men (No. 1 Ladies' Detective Agency, #4)</td><td>Alexander McCall Smith</td><td>32686</td><td>women</td><td>24</td></tr>",
                            "<tr><td>The Other Side of the Story</td><td>Marian Keyes</td><td>32686</td><td>women</td><td>24</td></tr>",
                            "<tr><td>The Other Side of the Story</td><td>Marian Keyes</td><td>32708</td><td>women-s-fiction</td><td>24</td></tr>",
                            "<tr><td>The Way the Crow Flies</td><td>Ann-Marie MacDonald</td><td>32688</td><td>women-authors</td><td>24</td></tr>",
                            "<tr><td>While I Was Gone</td><td>Sue Miller</td><td>32686</td><td>women</td><td>24</td></tr>",
                            "<tr><td>While I Was Gone</td><td>Sue Miller</td><td>32688</td><td>women-authors</td><td>24</td></tr>",
                            "<tr><td>While I Was Gone</td><td>Sue Miller</td><td>32708</td><td>women-s-fiction</td><td>24</td></tr>",
                            "<tr><td>While I Was Gone</td><td>Sue Miller</td><td>32726</td><td>womens-fiction</td><td>24</td></tr>",
                            "<tr><td>Fall on Your Knees</td><td>Ann-Marie MacDonald</td><td>32686</td><td>women</td><td>25</td></tr>",
                            "<tr><td>The Confusion (The Baroque Cycle, #2)</td><td>Neal Stephenson</td><td>32686</td><td>women</td><td>25</td></tr>",
                            "<tr><td>The Lover</td><td>Marguerite Duras, Barbara Bray, Maxine Hong Kingston</td><td>32686</td><td>women</td><td>25</td></tr>",
                            "<tr><td>The Lover</td><td>Marguerite Duras, Barbara Bray, Maxine Hong Kingston</td><td>32724</td><td>women-writers</td><td>25</td></tr>",
                            "<tr><td>The Poisonwood Bible</td><td>Barbara Kingsolver</td><td>32686</td><td>women</td><td>25</td></tr>",
                            "<tr><td>Where the Heart Is</td><td>Billie Letts</td><td>32686</td><td>women</td><td>25</td></tr>",
                            "<tr><td>Where the Heart Is</td><td>Billie Letts</td><td>32708</td><td>women-s-fiction</td><td>25</td></tr>",
                            "<tr><td>Where the Heart Is</td><td>Billie Letts</td><td>32726</td><td>womens-fiction</td><td>25</td></tr>",
                            "<tr><td>White Teeth</td><td>Zadie Smith</td><td>32686</td><td>women</td><td>25</td></tr>",
                            "<tr><td>White Teeth</td><td>Zadie Smith</td><td>32688</td><td>women-authors</td><td>25</td></tr>",
                            "<tr><td>White Teeth</td><td>Zadie Smith</td><td>32724</td><td>women-writers</td><td>25</td></tr>",
                            "<tr><td>Breath, Eyes, Memory</td><td>Edwidge Danticat</td><td>32686</td><td>women</td><td>26</td></tr>",
                            "<tr><td>Breath, Eyes, Memory</td><td>Edwidge Danticat</td><td>32688</td><td>women-authors</td><td>26</td></tr>",
                            "<tr><td>Breath, Eyes, Memory</td><td>Edwidge Danticat</td><td>32724</td><td>women-writers</td><td>26</td></tr>",
                            "<tr><td>Ethan Frome</td><td>Edith Wharton</td><td>32686</td><td>women</td><td>26</td></tr>",
                            "<tr><td>Ethan Frome</td><td>Edith Wharton</td><td>32724</td><td>women-writers</td><td>26</td></tr>",
                            "<tr><td>The Clan of the Cave Bear (Earth's Children, #1)</td><td>Jean M. Auel</td><td>32686</td><td>women</td><td>26</td></tr>",
                            "<tr><td>The Devil Wears Prada (The Devil Wears Prada, #1)</td><td>Lauren Weisberger</td><td>32686</td><td>women</td><td>26</td></tr>",
                            "<tr><td>The Devil Wears Prada (The Devil Wears Prada, #1)</td><td>Lauren Weisberger</td><td>32708</td><td>women-s-fiction</td><td>26</td></tr>",
                            "<tr><td>The Devil Wears Prada (The Devil Wears Prada, #1)</td><td>Lauren Weisberger</td><td>32726</td><td>womens-fiction</td><td>26</td></tr>",
                            "<tr><td>The Jane Austen Book Club</td><td>Karen Joy Fowler</td><td>32686</td><td>women</td><td>26</td></tr>",
                            "<tr><td>The Jane Austen Book Club</td><td>Karen Joy Fowler</td><td>32708</td><td>women-s-fiction</td><td>26</td></tr>",
                            "<tr><td>The Jane Austen Book Club</td><td>Karen Joy Fowler</td><td>32724</td><td>women-writers</td><td>26</td></tr>",
                            "<tr><td>Year of Wonders</td><td>Geraldine Brooks</td><td>32686</td><td>women</td><td>26</td></tr>",
                            "<tr><td>Year of Wonders</td><td>Geraldine Brooks</td><td>32724</td><td>women-writers</td><td>26</td></tr>",
                            "<tr><td>Daniel Deronda</td><td>George Eliot, Edmund White</td><td>32686</td><td>women</td><td>27</td></tr>",
                            "<tr><td>Daniel Deronda</td><td>George Eliot, Edmund White</td><td>32724</td><td>women-writers</td><td>27</td></tr>",
                            "<tr><td>Messenger of Truth (Maisie Dobbs, #4)</td><td>Jacqueline Winspear</td><td>32686</td><td>women</td><td>27</td></tr>",
                            "<tr><td>Pride and Prejudice</td><td>Jane Austen</td><td>32686</td><td>women</td><td>27</td></tr>",
                            "<tr><td>Brokeback Mountain</td><td>Annie Proulx</td><td>32724</td><td>women-writers</td><td>28</td></tr>",
                            "<tr><td>Embroideries</td><td>Marjane Satrapi, Anjali Singh</td><td>32686</td><td>women</td><td>28</td></tr>",
                            "<tr><td>Embroideries</td><td>Marjane Satrapi, Anjali Singh</td><td>32724</td><td>women-writers</td><td>28</td></tr>",
                            "<tr><td>Hot Six (Stephanie Plum, #6)</td><td>Janet Evanovich</td><td>32686</td><td>women</td><td>28</td></tr>",
                            "<tr><td>The Deep End of the Ocean (Cappadora Family, #1)</td><td>Jacquelyn Mitchard</td><td>32708</td><td>women-s-fiction</td><td>28</td></tr>",
                            "<tr><td>The Deep End of the Ocean (Cappadora Family, #1)</td><td>Jacquelyn Mitchard</td><td>32726</td><td>womens-fiction</td><td>28</td></tr>",
                            "<tr><td>I am Charlotte Simmons</td><td>Tom Wolfe</td><td>32686</td><td>women</td><td>29</td></tr>",
                            "<tr><td>Jackdaws</td><td>Ken Follett</td><td>32686</td><td>women</td><td>29</td></tr>",
                            "<tr><td>Jackdaws</td><td>Ken Follett</td><td>32696</td><td>women-in-war</td><td>29</td></tr>",
                            "<tr><td>Lysistrata</td><td>Aristophanes, Sarah Ruden</td><td>32686</td><td>women</td><td>29</td></tr>",
                            "<tr><td>A Virtuous Woman</td><td>Kaye Gibbons</td><td>32686</td><td>women</td><td>30</td></tr>",
                            "<tr><td>A Virtuous Woman</td><td>Kaye Gibbons</td><td>32708</td><td>women-s-fiction</td><td>30</td></tr>",
                            "<tr><td>I Like You: Hospitality Under the Influence</td><td>Amy Sedaris</td><td>32724</td><td>women-writers</td><td>30</td></tr>",
                            "<tr><td>Slouching Towards Bethlehem</td><td>Joan Didion</td><td>32686</td><td>women</td><td>30</td></tr>",
                            "<tr><td>Slouching Towards Bethlehem</td><td>Joan Didion</td><td>32688</td><td>women-authors</td><td>30</td></tr>",
                            "<tr><td>Slouching Towards Bethlehem</td><td>Joan Didion</td><td>32724</td><td>women-writers</td><td>30</td></tr>",
                            "<tr><td>The First Four Years  (Little House, #9)</td><td>Laura Ingalls Wilder, Garth Williams</td><td>32724</td><td>women-writers</td><td>30</td></tr>",
                            "<tr><td>The Mermaid Chair</td><td>Sue Monk Kidd</td><td>32686</td><td>women</td><td>30</td></tr>",
                            "<tr><td>The Mermaid Chair</td><td>Sue Monk Kidd</td><td>32708</td><td>women-s-fiction</td><td>30</td></tr>",
                            "<tr><td>The Mermaid Chair</td><td>Sue Monk Kidd</td><td>32726</td><td>womens-fiction</td><td>30</td></tr>",
                            "<tr><td>The Rescue</td><td>Nicholas Sparks</td><td>32708</td><td>women-s-fiction</td><td>30</td></tr>",
                            "<tr><td>The Rescue</td><td>Nicholas Sparks</td><td>32726</td><td>womens-fiction</td><td>30</td></tr>",
                            "<tr><td>Emily of New Moon (Emily, #1)</td><td>L.M. Montgomery</td><td>32688</td><td>women-authors</td><td>31</td></tr>",
                            "<tr><td>From Russia With Love (James Bond, #5)</td><td>Ian Fleming</td><td>32686</td><td>women</td><td>31</td></tr>",
                            "<tr><td>Comfort Me with Apples: More Adventures at the Table</td><td>Ruth Reichl</td><td>32686</td><td>women</td><td>32</td></tr>",
                            "<tr><td>Play It as It Lays</td><td>Joan Didion, David Thomson</td><td>32686</td><td>women</td><td>32</td></tr>",
                            "<tr><td>Play It as It Lays</td><td>Joan Didion, David Thomson</td><td>32688</td><td>women-authors</td><td>32</td></tr>",
                            "<tr><td>Play It as It Lays</td><td>Joan Didion, David Thomson</td><td>32724</td><td>women-writers</td><td>32</td></tr>",
                            "<tr><td>The Diamond Age: or, A Young Lady's Illustrated Primer</td><td>Neal Stephenson</td><td>32686</td><td>women</td><td>32</td></tr>",
                            "<tr><td>Falling Angels</td><td>Tracy Chevalier</td><td>32686</td><td>women</td><td>33</td></tr>",
                            "<tr><td>Falling Angels</td><td>Tracy Chevalier</td><td>32724</td><td>women-writers</td><td>33</td></tr>",
                            "<tr><td>Open House</td><td>Elizabeth Berg</td><td>32686</td><td>women</td><td>33</td></tr>",
                            "<tr><td>Open House</td><td>Elizabeth Berg</td><td>32708</td><td>women-s-fiction</td><td>33</td></tr>",
                            "<tr><td>Open House</td><td>Elizabeth Berg</td><td>32726</td><td>womens-fiction</td><td>33</td></tr>",
                            "<tr><td>Persepolis: The Story of a Childhood (Persepolis, #1)</td><td>Marjane Satrapi, Mattias Ripa</td><td>32686</td><td>women</td><td>33</td></tr>",
                            "<tr><td>Persepolis: The Story of a Childhood (Persepolis, #1)</td><td>Marjane Satrapi, Mattias Ripa</td><td>32688</td><td>women-authors</td><td>33</td></tr>",
                            "<tr><td>Snow Flower and the Secret Fan</td><td>Lisa See</td><td>32686</td><td>women</td><td>33</td></tr>",
                            "<tr><td>The Good Earth (House of Earth, #1)</td><td>Pearl S. Buck</td><td>32686</td><td>women</td><td>33</td></tr>",
                            "<tr><td>Twelve Sharp (Stephanie Plum, #12)</td><td>Janet Evanovich</td><td>32686</td><td>women</td><td>33</td></tr>",
                            "<tr><td>Special Topics in Calamity Physics</td><td>Marisha Pessl</td><td>32724</td><td>women-writers</td><td>34</td></tr>",
                            "<tr><td>The Emperor's Children</td><td>Claire Messud</td><td>32686</td><td>women</td><td>34</td></tr>",
                            "<tr><td>The Emperor's Children</td><td>Claire Messud</td><td>32688</td><td>women-authors</td><td>34</td></tr>",
                            "<tr><td>The Year of Magical Thinking</td><td>Joan Didion</td><td>32686</td><td>women</td><td>34</td></tr>",
                            "<tr><td>The Year of Magical Thinking</td><td>Joan Didion</td><td>32688</td><td>women-authors</td><td>34</td></tr>",
                            "<tr><td>The Year of Magical Thinking</td><td>Joan Didion</td><td>32724</td><td>women-writers</td><td>34</td></tr>",
                            "<tr><td>A Map of the World</td><td>Jane Hamilton, Frank  Muller, C.J. Critt</td><td>32686</td><td>women</td><td>35</td></tr>",
                            "<tr><td>A Map of the World</td><td>Jane Hamilton, Frank  Muller, C.J. Critt</td><td>32726</td><td>womens-fiction</td><td>35</td></tr>",
                            "<tr><td>Cradle and All</td><td>James Patterson</td><td>32686</td><td>women</td><td>35</td></tr>",
                            "<tr><td>Here on Earth</td><td>Alice Hoffman</td><td>32686</td><td>women</td><td>35</td></tr>",
                            "<tr><td>Here on Earth</td><td>Alice Hoffman</td><td>32726</td><td>womens-fiction</td><td>35</td></tr>",
                            "<tr><td>In the Company of Cheerful Ladies (No. 1 Ladies' Detective Agency, #6)</td><td>Alexander McCall Smith</td><td>28839</td><td>strong-women</td><td>35</td></tr>",
                            "<tr><td>In the Company of Cheerful Ladies (No. 1 Ladies' Detective Agency, #6)</td><td>Alexander McCall Smith</td><td>32686</td><td>women</td><td>35</td></tr>",
                            "<tr><td>Lipstick Jungle</td><td>Candace Bushnell</td><td>32686</td><td>women</td><td>35</td></tr>",
                            "<tr><td>Lipstick Jungle</td><td>Candace Bushnell</td><td>32708</td><td>women-s-fiction</td><td>35</td></tr>",
                            "<tr><td>Lipstick Jungle</td><td>Candace Bushnell</td><td>32726</td><td>womens-fiction</td><td>35</td></tr>",
                            "<tr><td>Message in a Bottle</td><td>Nicholas Sparks</td><td>32726</td><td>womens-fiction</td><td>35</td></tr>",
                            "<tr><td>Songs in Ordinary Time</td><td>Mary McGarry Morris</td><td>32708</td><td>women-s-fiction</td><td>35</td></tr>",
                            "<tr><td>The Rapture of Canaan</td><td>Sheri Reynolds</td><td>32686</td><td>women</td><td>35</td></tr>",
                            "<tr><td>Holy Cow: An Indian Adventure</td><td>Sarah Macdonald</td><td>32686</td><td>women</td><td>36</td></tr>",
                            "<tr><td>Holy Cow: An Indian Adventure</td><td>Sarah Macdonald</td><td>32724</td><td>women-writers</td><td>36</td></tr>",
                            "<tr><td>Lucy Sullivan Is Getting Married</td><td>Marian Keyes</td><td>32686</td><td>women</td><td>36</td></tr>",
                            "<tr><td>Lucy Sullivan Is Getting Married</td><td>Marian Keyes</td><td>32708</td><td>women-s-fiction</td><td>36</td></tr>",
                            "<tr><td>Lucy Sullivan Is Getting Married</td><td>Marian Keyes</td><td>32726</td><td>womens-fiction</td><td>36</td></tr>",
                            "<tr><td>Persepolis, Volume 1</td><td>Marjane Satrapi</td><td>32686</td><td>women</td><td>36</td></tr>",
                            "<tr><td>Persepolis, Volume 1</td><td>Marjane Satrapi</td><td>32688</td><td>women-authors</td><td>36</td></tr>",
                            "<tr><td>The Good Husband of Zebra Drive (No. 1 Ladies' Detective Agency, #8)</td><td>Alexander McCall Smith</td><td>28839</td><td>strong-women</td><td>36</td></tr>",
                            "<tr><td>The Good Husband of Zebra Drive (No. 1 Ladies' Detective Agency, #8)</td><td>Alexander McCall Smith</td><td>32686</td><td>women</td><td>36</td></tr>",
                            "<tr><td>The Idiot Girls' Action-Adventure Club: True Tales from a Magnificent and Clumsy Life</td><td>Laurie Notaro</td><td>32686</td><td>women</td><td>36</td></tr>",
                            "<tr><td>The No. 1 Ladies' Detective Agency  (No. 1 Ladies' Detective Agency, #1)</td><td>Alexander McCall Smith</td><td>32686</td><td>women</td><td>36</td></tr>",
                            "<tr><td>The Autograph Man</td><td>Zadie Smith</td><td>32686</td><td>women</td><td>37</td></tr>",
                            "<tr><td>The Autograph Man</td><td>Zadie Smith</td><td>32724</td><td>women-writers</td><td>37</td></tr>",
                            "<tr><td>A Woman of Substance (Emma Harte Saga #1)</td><td>Barbara Taylor Bradford</td><td>28839</td><td>strong-women</td><td>38</td></tr>",
                            "<tr><td>A Woman of Substance (Emma Harte Saga #1)</td><td>Barbara Taylor Bradford</td><td>32686</td><td>women</td><td>38</td></tr>",
                            "<tr><td>A Woman of Substance (Emma Harte Saga #1)</td><td>Barbara Taylor Bradford</td><td>32708</td><td>women-s-fiction</td><td>38</td></tr>",
                            "<tr><td>A Woman of Substance (Emma Harte Saga #1)</td><td>Barbara Taylor Bradford</td><td>32724</td><td>women-writers</td><td>38</td></tr>",
                            "<tr><td>A Woman of Substance (Emma Harte Saga #1)</td><td>Barbara Taylor Bradford</td><td>32726</td><td>womens-fiction</td><td>38</td></tr>",
                            "<tr><td>Morality for Beautiful Girls (No. 1 Ladies' Detective Agency, #3)</td><td>Alexander McCall Smith</td><td>32686</td><td>women</td><td>38</td></tr>",
                            "<tr><td>Shopaholic &amp; Baby (Shopaholic, #5)</td><td>Sophie Kinsella</td><td>32708</td><td>women-s-fiction</td><td>38</td></tr>",
                            "<tr><td>The Book of Ruth</td><td>Jane Hamilton</td><td>32686</td><td>women</td><td>38</td></tr>",
                            "<tr><td>The Book of Ruth</td><td>Jane Hamilton</td><td>32708</td><td>women-s-fiction</td><td>38</td></tr>",
                            "<tr><td>The Book of Ruth</td><td>Jane Hamilton</td><td>32712</td><td>women-s-lit</td><td>38</td></tr>",
                            "<tr><td>The Client</td><td>John Grisham</td><td>32686</td><td>women</td><td>38</td></tr>",
                            "<tr><td>The Glass Castle</td><td>Jeannette Walls</td><td>32686</td><td>women</td><td>38</td></tr>",
                            "<tr><td>Visions of Sugar Plums (Stephanie Plum, #8.5)</td><td>Janet Evanovich</td><td>32686</td><td>women</td><td>38</td></tr>",
                            "<tr><td>Anne Frank Remembered: The Story of the Woman Who Helped to Hide the Frank Family</td><td>Miep Gies, Alison Leslie Gold</td><td>32686</td><td>women</td><td>39</td></tr>",
                            "<tr><td>Beloved</td><td>Toni Morrison</td><td>32686</td><td>women</td><td>39</td></tr>",
                            "<tr><td>Beloved</td><td>Toni Morrison</td><td>32724</td><td>women-writers</td><td>39</td></tr>",
                            "<tr><td>Jewel</td><td>Bret Lott</td><td>28839</td><td>strong-women</td><td>39</td></tr>",
                            "<tr><td>Jewel</td><td>Bret Lott</td><td>32686</td><td>women</td><td>39</td></tr>",
                            "<tr><td>Plum Lovin' (Stephanie Plum, #12.5)</td><td>Janet Evanovich</td><td>32686</td><td>women</td><td>39</td></tr>",
                            "<tr><td>Regeneration (Regeneration, #1)</td><td>Pat Barker</td><td>32724</td><td>women-writers</td><td>39</td></tr>",
                            "<tr><td>Sickened: The Memoir of a Munchausen by Proxy Childhood</td><td>Julie Gregory</td><td>32686</td><td>women</td><td>39</td></tr>",
                            "<tr><td>The Crying of Lot 49</td><td>Thomas Pynchon</td><td>32686</td><td>women</td><td>39</td></tr>",
                            "<tr><td>Cane River</td><td>Lalita Tademy</td><td>32686</td><td>women</td><td>40</td></tr>",
                            "<tr><td>Last Chance Saloon</td><td>Marian Keyes</td><td>32686</td><td>women</td><td>40</td></tr>",
                            "<tr><td>Last Chance Saloon</td><td>Marian Keyes</td><td>32708</td><td>women-s-fiction</td><td>40</td></tr>",
                            "<tr><td>Last Chance Saloon</td><td>Marian Keyes</td><td>32726</td><td>womens-fiction</td><td>40</td></tr>",
                            "<tr><td>Nickel and Dimed: On (Not) Getting By in America</td><td>Barbara Ehrenreich</td><td>32686</td><td>women</td><td>40</td></tr>",
                            "<tr><td>Nickel and Dimed: On (Not) Getting By in America</td><td>Barbara Ehrenreich</td><td>32688</td><td>women-authors</td><td>40</td></tr>",
                            "<tr><td>Seven Up (Stephanie Plum, #7)</td><td>Janet Evanovich</td><td>32686</td><td>women</td><td>40</td></tr>",
                            "<tr><td>Interpreter of Maladies</td><td>Jhumpa Lahiri</td><td>32686</td><td>women</td><td>41</td></tr>",
                            "<tr><td>Interpreter of Maladies</td><td>Jhumpa Lahiri</td><td>32688</td><td>women-authors</td><td>41</td></tr>",
                            "<tr><td>Interpreter of Maladies</td><td>Jhumpa Lahiri</td><td>32724</td><td>women-writers</td><td>41</td></tr>",
                            "<tr><td>What Looks Like Crazy on an Ordinary Day (Idlewild, #1)</td><td>Pearl Cleage</td><td>32686</td><td>women</td><td>41</td></tr>",
                            "<tr><td>What Looks Like Crazy on an Ordinary Day (Idlewild, #1)</td><td>Pearl Cleage</td><td>32708</td><td>women-s-fiction</td><td>41</td></tr>",
                            "<tr><td>What Looks Like Crazy on an Ordinary Day (Idlewild, #1)</td><td>Pearl Cleage</td><td>32724</td><td>women-writers</td><td>41</td></tr>",
                            "<tr><td>What Looks Like Crazy on an Ordinary Day (Idlewild, #1)</td><td>Pearl Cleage</td><td>32725</td><td>womens</td><td>41</td></tr>",
                            "<tr><td>What Looks Like Crazy on an Ordinary Day (Idlewild, #1)</td><td>Pearl Cleage</td><td>32726</td><td>womens-fiction</td><td>41</td></tr>",
                            "<tr><td>Antigone (The Theban Plays, #3)</td><td>Sophocles, J.E. Thomas</td><td>32686</td><td>women</td><td>42</td></tr>",
                            "<tr><td>My Life in France</td><td>Julia Child, Alex Prud'Homme</td><td>32686</td><td>women</td><td>42</td></tr>",
                            "<tr><td>My Life in France</td><td>Julia Child, Alex Prud'Homme</td><td>32688</td><td>women-authors</td><td>42</td></tr>",
                            "<tr><td>Rachel's Holiday (Walsh Family, #2)</td><td>Marian Keyes</td><td>32686</td><td>women</td><td>42</td></tr>",
                            "<tr><td>Rachel's Holiday (Walsh Family, #2)</td><td>Marian Keyes</td><td>32708</td><td>women-s-fiction</td><td>42</td></tr>",
                            "<tr><td>Rachel's Holiday (Walsh Family, #2)</td><td>Marian Keyes</td><td>32726</td><td>womens-fiction</td><td>42</td></tr>",
                            "<tr><td>Anne Frank: Beyond the Diary - A Photographic Remembrance</td><td>Ruud van der Rol, Rian Verhoeven, Anna Quindlen, Anne Frank, Tony Langham, Plym Peters</td><td>28839</td><td>strong-women</td><td>43</td></tr>",
                            "<tr><td>Anne Frank: Beyond the Diary - A Photographic Remembrance</td><td>Ruud van der Rol, Rian Verhoeven, Anna Quindlen, Anne Frank, Tony Langham, Plym Peters</td><td>32686</td><td>women</td><td>43</td></tr>",
                            "<tr><td>High Five (Stephanie Plum, #5)</td><td>Janet Evanovich</td><td>32686</td><td>women</td><td>43</td></tr>",
                            "<tr><td>Sex and the City</td><td>Candace Bushnell</td><td>32686</td><td>women</td><td>43</td></tr>",
                            "<tr><td>Sex and the City</td><td>Candace Bushnell</td><td>32708</td><td>women-s-fiction</td><td>43</td></tr>",
                            "<tr><td>Sex and the City</td><td>Candace Bushnell</td><td>32726</td><td>womens-fiction</td><td>43</td></tr>",
                            "<tr><td>Shopaholic and Sister (Shopaholic, #4)</td><td>Sophie Kinsella</td><td>32708</td><td>women-s-fiction</td><td>43</td></tr>",
                            "<tr><td>Shopaholic and Sister (Shopaholic, #4)</td><td>Sophie Kinsella</td><td>32726</td><td>womens-fiction</td><td>43</td></tr>",
                            "<tr><td>The Bookseller of Kabul</td><td>Åsne Seierstad, Ingrid Christopherson</td><td>32688</td><td>women-authors</td><td>43</td></tr>",
                            "<tr><td>On Beauty</td><td>Zadie Smith</td><td>32686</td><td>women</td><td>44</td></tr>",
                            "<tr><td>On Beauty</td><td>Zadie Smith</td><td>32724</td><td>women-writers</td><td>44</td></tr>",
                            "<tr><td>The Bell Jar</td><td>Sylvia Plath</td><td>32688</td><td>women-authors</td><td>44</td></tr>",
                            "<tr><td>We Were the Mulvaneys</td><td>Joyce Carol Oates</td><td>32686</td><td>women</td><td>44</td></tr>",
                            "<tr><td>Drowning Ruth</td><td>Christina Schwarz</td><td>32686</td><td>women</td><td>45</td></tr>",
                            "<tr><td>Drowning Ruth</td><td>Christina Schwarz</td><td>32708</td><td>women-s-fiction</td><td>45</td></tr>",
                            "<tr><td>Hard Eight (Stephanie Plum, #8)</td><td>Janet Evanovich, Lorelei King</td><td>32686</td><td>women</td><td>47</td></tr>",
                            "<tr><td>Madame Bovary</td><td>Gustave Flaubert, Margaret Mauldon, Malcolm Bowie, Mark Overstall</td><td>32686</td><td>women</td><td>47</td></tr>",
                            "<tr><td>Women in Love (Brangwen Family, #2)</td><td>D.H. Lawrence</td><td>32686</td><td>women</td><td>47</td></tr>",
                            "<tr><td>Little Altars Everywhere</td><td>Rebecca Wells</td><td>32686</td><td>women</td><td>50</td></tr>",
                            "<tr><td>Little Altars Everywhere</td><td>Rebecca Wells</td><td>32708</td><td>women-s-fiction</td><td>50</td></tr>",
                            "<tr><td>Little Altars Everywhere</td><td>Rebecca Wells</td><td>32726</td><td>womens-fiction</td><td>50</td></tr>",
                            "<tr><td>The History of Sexuality, Volume 1: An Introduction</td><td>Michel Foucault, Robert Hurley</td><td>32720</td><td>women-s-studies</td><td>50</td></tr>",
                            "<tr><td>Four Blondes</td><td>Candace Bushnell</td><td>32708</td><td>women-s-fiction</td><td>51</td></tr>",
                            "<tr><td>Four Blondes</td><td>Candace Bushnell</td><td>32724</td><td>women-writers</td><td>51</td></tr>",
                            "<tr><td>The Atonement Child</td><td>Francine Rivers</td><td>32686</td><td>women</td><td>52</td></tr>",
                            "<tr><td>The Atonement Child</td><td>Francine Rivers</td><td>32708</td><td>women-s-fiction</td><td>52</td></tr>",
                            "<tr><td>Assassination Vacation</td><td>Sarah Vowell</td><td>32688</td><td>women-authors</td><td>53</td></tr>",
                            "<tr><td>First They Killed My Father: A Daughter of Cambodia Remembers</td><td>Loung Ung</td><td>32686</td><td>women</td><td>57</td></tr>",
                            "<tr><td>First They Killed My Father: A Daughter of Cambodia Remembers</td><td>Loung Ung</td><td>32688</td><td>women-authors</td><td>57</td></tr>",
                            "<tr><td>Tears of the Giraffe (No. 1 Ladies' Detective Agency, #2)</td><td>Alexander McCall Smith</td><td>32686</td><td>women</td><td>58</td></tr>",
                            "<tr><td>Men Are from Mars, Women Are from Venus</td><td>John Gray</td><td>32686</td><td>women</td><td>59</td></tr>",
                            "<tr><td>Loving What Is: Four Questions That Can Change Your Life</td><td>Byron Katie, Stephen Mitchell</td><td>11643</td><td>female-author</td><td>60</td></tr>",
                            "<tr><td>Girl with a Pearl Earring</td><td>Tracy Chevalier</td><td>32686</td><td>women</td><td>62</td></tr>",
                            "<tr><td>Girl with a Pearl Earring</td><td>Tracy Chevalier</td><td>32688</td><td>women-authors</td><td>62</td></tr>",
                            "<tr><td>The Bookseller of Kabul</td><td>Åsne Seierstad, Ingrid Christopherson</td><td>11643</td><td>female-author</td><td>74</td></tr>",
                            "<tr><td>Fried Green Tomatoes at the Whistle Stop Cafe</td><td>Fannie Flagg</td><td>11643</td><td>female-author</td><td>77</td></tr>",
                            "<tr><td>Fried Green Tomatoes at the Whistle Stop Cafe</td><td>Fannie Flagg</td><td>11644</td><td>female-authors</td><td>77</td></tr>",
                            "<tr><td>Rachel's Holiday (Walsh Family, #2)</td><td>Marian Keyes</td><td>11643</td><td>female-author</td><td>78</td></tr>",
                            "<tr><td>Rachel's Holiday (Walsh Family, #2)</td><td>Marian Keyes</td><td>11644</td><td>female-authors</td><td>78</td></tr>",
                            "<tr><td>By the Shores of Silver Lake  (Little House, #5)</td><td>Laura Ingalls Wilder, Garth Williams</td><td>11643</td><td>female-author</td><td>84</td></tr>",
                            "<tr><td>The House of the Spirits</td><td>Isabel Allende, Magda Bogin</td><td>11643</td><td>female-author</td><td>84</td></tr>",
                            "<tr><td>The House of the Spirits</td><td>Isabel Allende, Magda Bogin</td><td>11644</td><td>female-authors</td><td>84</td></tr>",
                            "<tr><td>Little Town on the Prairie  (Little House, #7)</td><td>Laura Ingalls Wilder, Garth Williams</td><td>11643</td><td>female-author</td><td>86</td></tr>",
                            "<tr><td>Persepolis 2: The Story of a Return (Persepolis, #2)</td><td>Marjane Satrapi, Anjali Singh</td><td>11643</td><td>female-author</td><td>87</td></tr>",
                            "<tr><td>Persepolis 2: The Story of a Return (Persepolis, #2)</td><td>Marjane Satrapi, Anjali Singh</td><td>11644</td><td>female-authors</td><td>87</td></tr>",
                            "<tr><td>Persepolis 2: The Story of a Return (Persepolis, #2)</td><td>Marjane Satrapi, Anjali Singh</td><td>11658</td><td>female-protagonist</td><td>87</td></tr>",
                            "<tr><td>The Joy Luck Club</td><td>Amy Tan</td><td>11643</td><td>female-author</td><td>87</td></tr>",
                            "<tr><td>The Joy Luck Club</td><td>Amy Tan</td><td>11644</td><td>female-authors</td><td>87</td></tr>",
                            "<tr><td>Persepolis, Volume 1</td><td>Marjane Satrapi</td><td>11643</td><td>female-author</td><td>90</td></tr>",
                            "<tr><td>Persepolis, Volume 1</td><td>Marjane Satrapi</td><td>11644</td><td>female-authors</td><td>90</td></tr>",
                            "<tr><td>Emma</td><td>Jane Austen, Fiona Stafford</td><td>11643</td><td>female-author</td><td>91</td></tr>",
                            "<tr><td>Emma</td><td>Jane Austen, Fiona Stafford</td><td>11644</td><td>female-authors</td><td>91</td></tr>",
                            "<tr><td>On the Banks of Plum Creek  (Little House, #4)</td><td>Laura Ingalls Wilder, Garth Williams</td><td>11643</td><td>female-author</td><td>91</td></tr>",
                            "<tr><td>Crow Lake</td><td>Mary Lawson</td><td>11643</td><td>female-author</td><td>92</td></tr>",
                            "<tr><td>Desert Flower</td><td>Waris Dirie, Cathleen Miller</td><td>11644</td><td>female-authors</td><td>92</td></tr>",
                            "<tr><td>Rachael Ray 365: No Repeats: A Year of Deliciously Different Dinners</td><td>Rachael Ray</td><td>11644</td><td>female-authors</td><td>92</td></tr>",
                            "<tr><td>A Map of the World</td><td>Jane Hamilton, Frank  Muller, C.J. Critt</td><td>11644</td><td>female-authors</td><td>93</td></tr>",
                            "<tr><td>Four Blondes</td><td>Candace Bushnell</td><td>11643</td><td>female-author</td><td>93</td></tr>",
                            "<tr><td>Four Blondes</td><td>Candace Bushnell</td><td>11644</td><td>female-authors</td><td>93</td></tr>",
                            "<tr><td>Prep</td><td>Curtis Sittenfeld</td><td>11643</td><td>female-author</td><td>93</td></tr>",
                            "<tr><td>Prep</td><td>Curtis Sittenfeld</td><td>11644</td><td>female-authors</td><td>93</td></tr>",
                            "<tr><td>Sunshine</td><td>Robin McKinley</td><td>11643</td><td>female-author</td><td>93</td></tr>",
                            "<tr><td>Sunshine</td><td>Robin McKinley</td><td>11658</td><td>female-protagonist</td><td>93</td></tr>",
                            "<tr><td>Beloved</td><td>Toni Morrison</td><td>11643</td><td>female-author</td><td>94</td></tr>",
                            "<tr><td>Beloved</td><td>Toni Morrison</td><td>11644</td><td>female-authors</td><td>94</td></tr>",
                            "<tr><td>Lucy Sullivan Is Getting Married</td><td>Marian Keyes</td><td>11643</td><td>female-author</td><td>94</td></tr>",
                            "<tr><td>Watermelon (Walsh Family, #1)</td><td>Marian Keyes</td><td>11644</td><td>female-authors</td><td>95</td></tr>",
                            "<tr><td>Tears of the Giraffe (No. 1 Ladies' Detective Agency, #2)</td><td>Alexander McCall Smith</td><td>11658</td><td>female-protagonist</td><td>96</td></tr>",
                            "<tr><td>Fear of Flying</td><td>Erica Jong</td><td>11643</td><td>female-author</td><td>97</td></tr>",
                            "<tr><td>Fear of Flying</td><td>Erica Jong</td><td>11644</td><td>female-authors</td><td>97</td></tr>",
                            "<tr><td>Fear of Flying</td><td>Erica Jong</td><td>11662</td><td>female-writers</td><td>97</td></tr>",
                            "<tr><td>From Potter's Field (Kay Scarpetta, #6)</td><td>Patricia Cornwell</td><td>11643</td><td>female-author</td><td>97</td></tr>",
                            "<tr><td>I Feel Bad about My Neck: And Other Thoughts on Being a Woman</td><td>Nora Ephron</td><td>11643</td><td>female-author</td><td>97</td></tr>",
                            "<tr><td>I Feel Bad about My Neck: And Other Thoughts on Being a Woman</td><td>Nora Ephron</td><td>11644</td><td>female-authors</td><td>97</td></tr>",
                            "<tr><td>Last Chance Saloon</td><td>Marian Keyes</td><td>11644</td><td>female-authors</td><td>97</td></tr>",
                            "<tr><td>Saving Fish from Drowning</td><td>Amy Tan</td><td>11644</td><td>female-authors</td><td>97</td></tr>",
                            "<tr><td>The God of Small Things</td><td>Arundhati Roy</td><td>11643</td><td>female-author</td><td>98</td></tr>",
                            "<tr><td>The God of Small Things</td><td>Arundhati Roy</td><td>11644</td><td>female-authors</td><td>98</td></tr>",
                            "<tr><td>Witches Abroad (Discworld, #12; Witches #3)</td><td>Terry Pratchett</td><td>11658</td><td>female-protagonist</td><td>98</td></tr>",
                            "<tr><td>How to Make Love Like a Porn Star: A Cautionary Tale</td><td>Jenna Jameson, Neil Strauss</td><td>11643</td><td>female-author</td><td>99</td></tr>",
                            "<tr><td>Messenger of Truth (Maisie Dobbs, #4)</td><td>Jacqueline Winspear</td><td>11643</td><td>female-author</td><td>99</td></tr>",
                            "<tr><td>Persepolis: The Story of a Childhood (Persepolis, #1)</td><td>Marjane Satrapi, Mattias Ripa</td><td>11643</td><td>female-author</td><td>99</td></tr>",
                            "<tr><td>Persepolis: The Story of a Childhood (Persepolis, #1)</td><td>Marjane Satrapi, Mattias Ripa</td><td>11644</td><td>female-authors</td><td>99</td></tr>",
                            "<tr><td>Reading Lolita in Tehran</td><td>Azar Nafisi</td><td>11643</td><td>female-author</td><td>99</td></tr>",
                            "<tr><td>Reading Lolita in Tehran</td><td>Azar Nafisi</td><td>11644</td><td>female-authors</td><td>99</td></tr>",
                            "<tr><td>Rose Daughter</td><td>Robin McKinley</td><td>11643</td><td>female-author</td><td>99</td></tr>",
                            "<tr><td>Rose Daughter</td><td>Robin McKinley</td><td>11658</td><td>female-protagonist</td><td>99</td></tr>",
                            "<tr><td>The Rapture of Canaan</td><td>Sheri Reynolds</td><td>11644</td><td>female-authors</td><td>99</td></tr>",
                            "<tr><td>The Year of Magical Thinking</td><td>Joan Didion</td><td>11643</td><td>female-author</td><td>99</td></tr>",
                            "<tr><td>The Year of Magical Thinking</td><td>Joan Didion</td><td>11644</td><td>female-authors</td><td>99</td></tr>",
                            "<tr><td>A History of God: The 4,000-Year Quest of Judaism, Christianity, and Islam</td><td>Karen Armstrong</td><td>11643</td><td>female-author</td><td>100</td></tr>",
                            "<tr><td>A Raisin in the Sun</td><td>Lorraine Hansberry</td><td>11643</td><td>female-author</td><td>100</td></tr>",
                            "<tr><td>A Raisin in the Sun</td><td>Lorraine Hansberry</td><td>11644</td><td>female-authors</td><td>100</td></tr>",
                            "<tr><td>A Virtuous Woman</td><td>Kaye Gibbons</td><td>32684</td><td>womans-literature</td><td>100</td></tr>",
                            "<tr><td>About a Boy</td><td>Nick Hornby</td><td>19038</td><td>man-woman</td><td>100</td></tr>",
                            "<tr><td>Ahab's Wife, or The Star-Gazer</td><td>Sena Jeter Naslund</td><td>11643</td><td>female-author</td><td>100</td></tr>",
                            "<tr><td>Anthem</td><td>Ayn Rand</td><td>11643</td><td>female-author</td><td>100</td></tr>",
                            "<tr><td>Anthem</td><td>Ayn Rand</td><td>11644</td><td>female-authors</td><td>100</td></tr>",
                            "<tr><td>Assassination Vacation</td><td>Sarah Vowell</td><td>11643</td><td>female-author</td><td>100</td></tr>",
                            "<tr><td>Assassination Vacation</td><td>Sarah Vowell</td><td>11644</td><td>female-authors</td><td>100</td></tr>",
                            "<tr><td>Bel Canto</td><td>Ann Patchett</td><td>11644</td><td>female-authors</td><td>100</td></tr>",
                            "<tr><td>Betsy-Tacy (Betsy-Tacy, #1)</td><td>Maud Hart Lovelace, Lois Lenski</td><td>11643</td><td>female-author</td><td>100</td></tr>",
                            "<tr><td>Black Beauty</td><td>Anna Sewell</td><td>11644</td><td>female-authors</td><td>100</td></tr>",
                            "<tr><td>Breath, Eyes, Memory</td><td>Edwidge Danticat</td><td>11643</td><td>female-author</td><td>100</td></tr>",
                            "<tr><td>Breath, Eyes, Memory</td><td>Edwidge Danticat</td><td>11644</td><td>female-authors</td><td>100</td></tr>",
                            "<tr><td>Brokeback Mountain</td><td>Annie Proulx</td><td>11643</td><td>female-author</td><td>100</td></tr>",
                            "<tr><td>Brokeback Mountain</td><td>Annie Proulx</td><td>11644</td><td>female-authors</td><td>100</td></tr>",
                            "<tr><td>Cause of Death (Kay Scarpetta, #7)</td><td>Patricia Cornwell</td><td>11643</td><td>female-author</td><td>100</td></tr>",
                            "<tr><td>City of the Beasts (Eagle and Jaguar, #1)</td><td>Isabel Allende, Margaret Sayers Peden</td><td>11643</td><td>female-author</td><td>100</td></tr>",
                            "<tr><td>Cover Her Face (Adam Dalgliesh #1)</td><td>P.D. James</td><td>11643</td><td>female-author</td><td>100</td></tr>",
                            "<tr><td>Cover Her Face (Adam Dalgliesh #1)</td><td>P.D. James</td><td>11644</td><td>female-authors</td><td>100</td></tr>",
                            "<tr><td>Daniel Deronda</td><td>George Eliot, Edmund White</td><td>11643</td><td>female-author</td><td>100</td></tr>",
                            "<tr><td>Daniel Deronda</td><td>George Eliot, Edmund White</td><td>11644</td><td>female-authors</td><td>100</td></tr>",
                            "<tr><td>Deerskin</td><td>Robin McKinley</td><td>11643</td><td>female-author</td><td>100</td></tr>",
                            "<tr><td>Deerskin</td><td>Robin McKinley</td><td>11658</td><td>female-protagonist</td><td>100</td></tr>",
                            "<tr><td>Drowning Ruth</td><td>Christina Schwarz</td><td>11643</td><td>female-author</td><td>100</td></tr>",
                            "<tr><td>Eats, Shoots &amp; Leaves: The Zero Tolerance Approach to Punctuation</td><td>Lynne Truss</td><td>11643</td><td>female-author</td><td>100</td></tr>",
                            "<tr><td>Embroideries</td><td>Marjane Satrapi, Anjali Singh</td><td>11643</td><td>female-author</td><td>100</td></tr>",
                            "<tr><td>Embroideries</td><td>Marjane Satrapi, Anjali Singh</td><td>11644</td><td>female-authors</td><td>100</td></tr>",
                            "<tr><td>Embroideries</td><td>Marjane Satrapi, Anjali Singh</td><td>11658</td><td>female-protagonist</td><td>100</td></tr>",
                            "<tr><td>Emily of New Moon (Emily, #1)</td><td>L.M. Montgomery</td><td>11643</td><td>female-author</td><td>100</td></tr>",
                            "<tr><td>Ethan Frome</td><td>Edith Wharton</td><td>11643</td><td>female-author</td><td>100</td></tr>",
                            "<tr><td>Ethan Frome</td><td>Edith Wharton</td><td>11644</td><td>female-authors</td><td>100</td></tr>",
                            "<tr><td>Fall on Your Knees</td><td>Ann-Marie MacDonald</td><td>11644</td><td>female-authors</td><td>100</td></tr>",
                            "<tr><td>Falling Angels</td><td>Tracy Chevalier</td><td>11643</td><td>female-author</td><td>100</td></tr>",
                            "<tr><td>Falling Angels</td><td>Tracy Chevalier</td><td>11644</td><td>female-authors</td><td>100</td></tr>",
                            "<tr><td>Farmer Boy (Little House, #3)</td><td>Laura Ingalls Wilder, Garth Williams</td><td>11643</td><td>female-author</td><td>100</td></tr>",
                            "<tr><td>Fire Sea (The Death Gate Cycle, #3)</td><td>Margaret Weis, Tracy Hickman</td><td>11643</td><td>female-author</td><td>100</td></tr>",
                            "<tr><td>First They Killed My Father: A Daughter of Cambodia Remembers</td><td>Loung Ung</td><td>11643</td><td>female-author</td><td>100</td></tr>",
                            "<tr><td>First They Killed My Father: A Daughter of Cambodia Remembers</td><td>Loung Ung</td><td>11644</td><td>female-authors</td><td>100</td></tr>",
                            "<tr><td>Forever Amber </td><td>Kathleen Winsor</td><td>11643</td><td>female-author</td><td>100</td></tr>",
                            "<tr><td>Fullmetal Alchemist, Vol. 1 (Fullmetal Alchemist, #1)</td><td>Hiromu Arakawa, Akira Watanabe</td><td>11644</td><td>female-authors</td><td>100</td></tr>",
                            "<tr><td>Girl with a Pearl Earring</td><td>Tracy Chevalier</td><td>11643</td><td>female-author</td><td>100</td></tr>",
                            "<tr><td>Girl with a Pearl Earring</td><td>Tracy Chevalier</td><td>11644</td><td>female-authors</td><td>100</td></tr>",
                            "<tr><td>Harry Potter and the Order of the Phoenix (Harry Potter, #5)</td><td>J.K. Rowling, Mary GrandPré</td><td>11643</td><td>female-author</td><td>100</td></tr>",
                            "<tr><td>Harry Potter Schoolbooks Box Set: Two Classic Books from the Library of Hogwarts School of Witchcraft and Wizardry</td><td>J.K. Rowling</td><td>11643</td><td>female-author</td><td>100</td></tr>",
                            "<tr><td>Heidi</td><td>Johanna Spyri, Angelo  Rinaldi, Beverly Cleary</td><td>11643</td><td>female-author</td><td>100</td></tr>",
                            "<tr><td>Heidi</td><td>Johanna Spyri, Angelo  Rinaldi, Beverly Cleary</td><td>11644</td><td>female-authors</td><td>100</td></tr>",
                            "<tr><td>Holy Cow: An Indian Adventure</td><td>Sarah Macdonald</td><td>11644</td><td>female-authors</td><td>100</td></tr>",
                            "<tr><td>Howl's Moving Castle (Howl's Moving Castle, #1)</td><td>Diana Wynne Jones</td><td>11643</td><td>female-author</td><td>100</td></tr>",
                            "<tr><td>Howl's Moving Castle (Howl's Moving Castle, #1)</td><td>Diana Wynne Jones</td><td>11644</td><td>female-authors</td><td>100</td></tr>",
                            "<tr><td>Howl's Moving Castle (Howl's Moving Castle, #1)</td><td>Diana Wynne Jones</td><td>11658</td><td>female-protagonist</td><td>100</td></tr>",
                            "<tr><td>I Hope They Serve Beer in Hell (Tucker Max, #1)</td><td>Tucker Max</td><td>19038</td><td>man-woman</td><td>100</td></tr>",
                            "<tr><td>I Like You: Hospitality Under the Influence</td><td>Amy Sedaris</td><td>11643</td><td>female-author</td><td>100</td></tr>",
                            "<tr><td>Icy Sparks</td><td>Gwyn Hyman Rubio</td><td>11644</td><td>female-authors</td><td>100</td></tr>",
                            "<tr><td>Inés of My Soul</td><td>Isabel Allende, Margaret Sayers Peden</td><td>11644</td><td>female-authors</td><td>100</td></tr>",
                            "<tr><td>Interpreter of Maladies</td><td>Jhumpa Lahiri</td><td>11643</td><td>female-author</td><td>100</td></tr>",
                            "<tr><td>Interpreter of Maladies</td><td>Jhumpa Lahiri</td><td>11644</td><td>female-authors</td><td>100</td></tr>",
                            "<tr><td>Jackdaws</td><td>Ken Follett</td><td>11642</td><td>female</td><td>100</td></tr>",
                            "<tr><td>Like Water for Chocolate</td><td>Laura Esquivel, Thomas  Christensen, Carol Christensen</td><td>11644</td><td>female-authors</td><td>100</td></tr>",
                            "<tr><td>Little Altars Everywhere</td><td>Rebecca Wells</td><td>11643</td><td>female-author</td><td>100</td></tr>",
                            "<tr><td>Little House in the Big Woods (Little House, #1)</td><td>Laura Ingalls Wilder, Garth Williams</td><td>11643</td><td>female-author</td><td>100</td></tr>",
                            "<tr><td>Little Women (Little Women, #1)</td><td>Louisa May Alcott</td><td>11644</td><td>female-authors</td><td>100</td></tr>",
                            "<tr><td>Longitude: The True Story of a Lone Genius Who Solved the Greatest Scientific Problem of His Time</td><td>Dava Sobel, Neil Armstrong</td><td>11643</td><td>female-author</td><td>100</td></tr>",
                            "<tr><td>Mother of Pearl</td><td>Melinda Haynes</td><td>11644</td><td>female-authors</td><td>100</td></tr>",
                            "<tr><td>Nickel and Dimed: On (Not) Getting By in America</td><td>Barbara Ehrenreich</td><td>11643</td><td>female-author</td><td>100</td></tr>",
                            "<tr><td>Nickel and Dimed: On (Not) Getting By in America</td><td>Barbara Ehrenreich</td><td>11644</td><td>female-authors</td><td>100</td></tr>",
                            "<tr><td>No Logo</td><td>Naomi Klein</td><td>11643</td><td>female-author</td><td>100</td></tr>",
                            "<tr><td>No Logo</td><td>Naomi Klein</td><td>11644</td><td>female-authors</td><td>100</td></tr>",
                            "<tr><td>Olivia Joules and the Overactive Imagination</td><td>Helen Fielding</td><td>11643</td><td>female-author</td><td>100</td></tr>",
                            "<tr><td>On Beauty</td><td>Zadie Smith</td><td>11643</td><td>female-author</td><td>100</td></tr>",
                            "<tr><td>On Beauty</td><td>Zadie Smith</td><td>11644</td><td>female-authors</td><td>100</td></tr>",
                            "<tr><td>Open House</td><td>Elizabeth Berg</td><td>11644</td><td>female-authors</td><td>100</td></tr>",
                            "<tr><td>Paradise</td><td>Toni Morrison</td><td>11643</td><td>female-author</td><td>100</td></tr>",
                            "<tr><td>Paradise</td><td>Toni Morrison</td><td>11644</td><td>female-authors</td><td>100</td></tr>",
                            "<tr><td>Persuasion</td><td>Jane Austen, James Kinsley, Deidre Shauna Lynch</td><td>11643</td><td>female-author</td><td>100</td></tr>",
                            "<tr><td>Persuasion</td><td>Jane Austen, James Kinsley, Deidre Shauna Lynch</td><td>11644</td><td>female-authors</td><td>100</td></tr>",
                            "<tr><td>Play It as It Lays</td><td>Joan Didion, David Thomson</td><td>11643</td><td>female-author</td><td>100</td></tr>",
                            "<tr><td>Play It as It Lays</td><td>Joan Didion, David Thomson</td><td>11644</td><td>female-authors</td><td>100</td></tr>",
                            "<tr><td>Play It as It Lays</td><td>Joan Didion, David Thomson</td><td>11662</td><td>female-writers</td><td>100</td></tr>",
                            "<tr><td>Point of Origin (Kay Scarpetta, #9)</td><td>Patricia Cornwell</td><td>11643</td><td>female-author</td><td>100</td></tr>",
                            "<tr><td>Postmortem (Kay Scarpetta, #1)</td><td>Patricia Cornwell</td><td>11643</td><td>female-author</td><td>100</td></tr>",
                            "<tr><td>Pygmalion &amp; My Fair Lady</td><td>George Bernard Shaw, Alan Jay Lerner</td><td>28832</td><td>strong-female-character-s</td><td>100</td></tr>",
                            "<tr><td>Regeneration (Regeneration, #1)</td><td>Pat Barker</td><td>11643</td><td>female-author</td><td>100</td></tr>",
                            "<tr><td>Regeneration (Regeneration, #1)</td><td>Pat Barker</td><td>11644</td><td>female-authors</td><td>100</td></tr>",
                            "<tr><td>Sex and the City</td><td>Candace Bushnell</td><td>11643</td><td>female-author</td><td>100</td></tr>",
                            "<tr><td>Sex and the City</td><td>Candace Bushnell</td><td>11644</td><td>female-authors</td><td>100</td></tr>",
                            "<tr><td>Sickened: The Memoir of a Munchausen by Proxy Childhood</td><td>Julie Gregory</td><td>11644</td><td>female-authors</td><td>100</td></tr>",
                            "<tr><td>Slouching Towards Bethlehem</td><td>Joan Didion</td><td>11643</td><td>female-author</td><td>100</td></tr>",
                            "<tr><td>Slouching Towards Bethlehem</td><td>Joan Didion</td><td>11644</td><td>female-authors</td><td>100</td></tr>",
                            "<tr><td>Slouching Towards Bethlehem</td><td>Joan Didion</td><td>11662</td><td>female-writers</td><td>100</td></tr>",
                            "<tr><td>Snow Flower and the Secret Fan</td><td>Lisa See</td><td>11643</td><td>female-author</td><td>100</td></tr>",
                            "<tr><td>Snow Flower and the Secret Fan</td><td>Lisa See</td><td>11644</td><td>female-authors</td><td>100</td></tr>",
                            "<tr><td>Special Topics in Calamity Physics</td><td>Marisha Pessl</td><td>11643</td><td>female-author</td><td>100</td></tr>",
                            "<tr><td>Special Topics in Calamity Physics</td><td>Marisha Pessl</td><td>11644</td><td>female-authors</td><td>100</td></tr>",
                            "<tr><td>Tara Road</td><td>Maeve Binchy</td><td>11643</td><td>female-author</td><td>100</td></tr>",
                            "<tr><td>The Autograph Man</td><td>Zadie Smith</td><td>11643</td><td>female-author</td><td>100</td></tr>",
                            "<tr><td>The Autograph Man</td><td>Zadie Smith</td><td>11644</td><td>female-authors</td><td>100</td></tr>",
                            "<tr><td>The Body Farm (Kay Scarpetta, #5)</td><td>Patricia Cornwell</td><td>11643</td><td>female-author</td><td>100</td></tr>",
                            "<tr><td>The Clan of the Cave Bear (Earth's Children, #1)</td><td>Jean M. Auel</td><td>11643</td><td>female-author</td><td>100</td></tr>",
                            "<tr><td>The Devil Wears Prada (The Devil Wears Prada, #1)</td><td>Lauren Weisberger</td><td>11643</td><td>female-author</td><td>100</td></tr>",
                            "<tr><td>The Drama of the Gifted Child: The Search for the True Self</td><td>Alice  Miller, Ruth Ward</td><td>11643</td><td>female-author</td><td>100</td></tr>",
                            "<tr><td>The Drama of the Gifted Child: The Search for the True Self</td><td>Alice  Miller, Ruth Ward</td><td>11644</td><td>female-authors</td><td>100</td></tr>",
                            "<tr><td>The Emperor's Children</td><td>Claire Messud</td><td>11643</td><td>female-author</td><td>100</td></tr>",
                            "<tr><td>The Emperor's Children</td><td>Claire Messud</td><td>11644</td><td>female-authors</td><td>100</td></tr>",
                            "<tr><td>The Fountainhead</td><td>Ayn Rand, Leonard Peikoff</td><td>11644</td><td>female-authors</td><td>100</td></tr>",
                            "<tr><td>The Giver (The Giver, #1)</td><td>Lois Lowry</td><td>11643</td><td>female-author</td><td>100</td></tr>",
                            "<tr><td>The Good Earth (House of Earth, #1)</td><td>Pearl S. Buck</td><td>11643</td><td>female-author</td><td>100</td></tr>",
                            "<tr><td>The Good Earth (House of Earth, #1)</td><td>Pearl S. Buck</td><td>11644</td><td>female-authors</td><td>100</td></tr>",
                            "<tr><td>The Heart of a Woman</td><td>Maya Angelou</td><td>11644</td><td>female-authors</td><td>100</td></tr>",
                            "<tr><td>The History of Love</td><td>Nicole Krauss</td><td>11643</td><td>female-author</td><td>100</td></tr>",
                            "<tr><td>The History of Love</td><td>Nicole Krauss</td><td>11644</td><td>female-authors</td><td>100</td></tr>",
                            "<tr><td>The Jane Austen Book Club</td><td>Karen Joy Fowler</td><td>11643</td><td>female-author</td><td>100</td></tr>",
                            "<tr><td>The Long Winter (Little House, #6)</td><td>Laura Ingalls Wilder, Garth Williams</td><td>11643</td><td>female-author</td><td>100</td></tr>",
                            "<tr><td>The Lover</td><td>Marguerite Duras, Barbara Bray, Maxine Hong Kingston</td><td>11643</td><td>female-author</td><td>100</td></tr>",
                            "<tr><td>The Lover</td><td>Marguerite Duras, Barbara Bray, Maxine Hong Kingston</td><td>11644</td><td>female-authors</td><td>100</td></tr>",
                            "<tr><td>The No. 1 Ladies' Detective Agency  (No. 1 Ladies' Detective Agency, #1)</td><td>Alexander McCall Smith</td><td>11658</td><td>female-protagonist</td><td>100</td></tr>",
                            "<tr><td>The Other Side of the Story</td><td>Marian Keyes</td><td>11644</td><td>female-authors</td><td>100</td></tr>",
                            "<tr><td>The Poisonwood Bible</td><td>Barbara Kingsolver</td><td>11643</td><td>female-author</td><td>100</td></tr>",
                            "<tr><td>The Poisonwood Bible</td><td>Barbara Kingsolver</td><td>11644</td><td>female-authors</td><td>100</td></tr>",
                            "<tr><td>The Red Tent</td><td>Anita Diamant</td><td>11643</td><td>female-author</td><td>100</td></tr>",
                            "<tr><td>The Shipping News</td><td>Annie Proulx</td><td>11643</td><td>female-author</td><td>100</td></tr>",
                            "<tr><td>The Shipping News</td><td>Annie Proulx</td><td>11644</td><td>female-authors</td><td>100</td></tr>",
                            "<tr><td>The Stories of Eva Luna</td><td>Isabel Allende</td><td>11644</td><td>female-authors</td><td>100</td></tr>",
                            "<tr><td>The Thorn Birds</td><td>Colleen McCullough</td><td>11644</td><td>female-authors</td><td>100</td></tr>",
                            "<tr><td>The Virgin Blue</td><td>Tracy Chevalier</td><td>11644</td><td>female-authors</td><td>100</td></tr>",
                            "<tr><td>The Virgin Blue</td><td>Tracy Chevalier</td><td>11658</td><td>female-protagonist</td><td>100</td></tr>",
                            "<tr><td>We the Living</td><td>Ayn Rand, Leonard Peikoff</td><td>11643</td><td>female-author</td><td>100</td></tr>",
                            "<tr><td>We Were the Mulvaneys</td><td>Joyce Carol Oates</td><td>11643</td><td>female-author</td><td>100</td></tr>",
                            "<tr><td>We Were the Mulvaneys</td><td>Joyce Carol Oates</td><td>11644</td><td>female-authors</td><td>100</td></tr>",
                            "<tr><td>West with the Night</td><td>Beryl Markham</td><td>11644</td><td>female-authors</td><td>100</td></tr>",
                            "<tr><td>What Looks Like Crazy on an Ordinary Day (Idlewild, #1)</td><td>Pearl Cleage</td><td>11644</td><td>female-authors</td><td>100</td></tr>",
                            "<tr><td>White Teeth</td><td>Zadie Smith</td><td>11643</td><td>female-author</td><td>100</td></tr>",
                            "<tr><td>White Teeth</td><td>Zadie Smith</td><td>11644</td><td>female-authors</td><td>100</td></tr>",
                            "<tr><td>Wild Swans: Three Daughters of China</td><td>Jung Chang</td><td>11643</td><td>female-author</td><td>100</td></tr>",
                            "<tr><td>Wild Swans: Three Daughters of China</td><td>Jung Chang</td><td>11644</td><td>female-authors</td><td>100</td></tr>",
                            "<tr><td>Wuthering Heights</td><td>Emily Brontë, Richard J. Dunn</td><td>11643</td><td>female-author</td><td>100</td></tr>",
                            "<tr><td>Wuthering Heights</td><td>Emily Brontë, Richard J. Dunn</td><td>11644</td><td>female-authors</td><td>100</td></tr>",
                            "<tr><td>Year of Wonders</td><td>Geraldine Brooks</td><td>11643</td><td>female-author</td><td>100</td></tr>",
                            "</table>"
                        ]
                    }
                }
            ],
            "execution_count": 38
        },
        {
            "cell_type": "markdown",
            "source": [
                "### **Record your thoughts about why you wrote the query the way you did.**"
            ],
            "metadata": {
                "azdata_cell_guid": "1e19a72c-1bca-446b-a0c7-a8efbc35dcf1"
            },
            "attachments": {}
        },
        {
            "cell_type": "markdown",
            "source": [
                "# Part 2: Choose Another Month\n",
                "\n",
                "Choose another month and plan at least 2 events / promotions and answer the following questions.\n",
                "\n",
                "Which month did you choose?  October\n",
                "\n",
                "What 2 events / promotions are you highlighting?\n",
                "\n",
                "> 1. Halloween\n",
                "\n",
                "> 2. Thanksgiving"
            ],
            "metadata": {
                "azdata_cell_guid": "3eaf376d-9de3-4553-a9d0-9caf74ee3d6a"
            },
            "attachments": {}
        },
        {
            "cell_type": "markdown",
            "source": [
                "# Part 3: Summarize your Work\n",
                "\n",
                "For each event write at least one query that joins any two tables in the BooksDB to support your choice and record you thoughts as to why you used the paticlular query. At least one of your queries needs to include a HAVING clause."
            ],
            "metadata": {
                "azdata_cell_guid": "1ba1363a-4f02-4962-a95a-93b80c5926b1"
            },
            "attachments": {}
        },
        {
            "cell_type": "code",
            "source": [
                "-- Event 1 Query\r\n",
                "select\r\n",
                "title,\r\n",
                "authors,\r\n",
                "bt.tag_id,\r\n",
                "tag_name,\r\n",
                "count(bt.tag_id) as tag_count\r\n",
                "\r\n",
                "from booksdb.dbo.books b\r\n",
                "join booksdb.dbo.book_tags bt on bt.goodreads_book_id=b.book_id\r\n",
                "join booksdb.dbo.tags t on t.tag_id=bt.tag_id\r\n",
                "join booksdb.dbo.ratings r on r.book_id=b.book_id\r\n",
                "\r\n",
                "where lower(tag_name) like '%halloween%' or lower(tag_name) like '%witch%' or lower(tag_name) like '%monster%'\r\n",
                "and rating=5\r\n",
                "\r\n",
                "group by title, bt.tag_id, tag_name, authors\r\n",
                "\r\n",
                "--having count(bt.tag_id) >150\r\n",
                "\r\n",
                "order by tag_count, title"
            ],
            "metadata": {
                "azdata_cell_guid": "f50d32ce-4cb2-4af2-acb1-607777a76cf8",
                "language": "sql"
            },
            "outputs": [
                {
                    "output_type": "display_data",
                    "data": {
                        "text/html": "(24 rows affected)"
                    },
                    "metadata": {}
                },
                {
                    "output_type": "display_data",
                    "data": {
                        "text/html": "Total execution time: 00:00:02.783"
                    },
                    "metadata": {}
                },
                {
                    "output_type": "execute_result",
                    "metadata": {},
                    "execution_count": 51,
                    "data": {
                        "application/vnd.dataresource+json": {
                            "schema": {
                                "fields": [
                                    {
                                        "name": "title"
                                    },
                                    {
                                        "name": "authors"
                                    },
                                    {
                                        "name": "tag_id"
                                    },
                                    {
                                        "name": "tag_name"
                                    },
                                    {
                                        "name": "tag_count"
                                    }
                                ]
                            },
                            "data": [
                                {
                                    "title": "Eaters of the Dead",
                                    "authors": "Michael Crichton",
                                    "tag_id": "20405",
                                    "tag_name": "monsters",
                                    "tag_count": "12"
                                },
                                {
                                    "title": "The Terror",
                                    "authors": "Dan Simmons",
                                    "tag_id": "20405",
                                    "tag_name": "monsters",
                                    "tag_count": "29"
                                },
                                {
                                    "title": "Bleach, Volume 15",
                                    "authors": "Tite Kubo",
                                    "tag_id": "20405",
                                    "tag_name": "monsters",
                                    "tag_count": "47"
                                },
                                {
                                    "title": "Suffer the Children",
                                    "authors": "John Saul",
                                    "tag_id": "13876",
                                    "tag_name": "halloween-reads",
                                    "tag_count": "76"
                                },
                                {
                                    "title": "Sunshine",
                                    "authors": "Robin McKinley",
                                    "tag_id": "32623",
                                    "tag_name": "witches",
                                    "tag_count": "93"
                                },
                                {
                                    "title": "Witches Abroad (Discworld, #12; Witches #3)",
                                    "authors": "Terry Pratchett",
                                    "tag_id": "9572",
                                    "tag_name": "discworld-witches",
                                    "tag_count": "98"
                                },
                                {
                                    "title": "Witches Abroad (Discworld, #12; Witches #3)",
                                    "authors": "Terry Pratchett",
                                    "tag_id": "32617",
                                    "tag_name": "witchcraft",
                                    "tag_count": "98"
                                },
                                {
                                    "title": "Witches Abroad (Discworld, #12; Witches #3)",
                                    "authors": "Terry Pratchett",
                                    "tag_id": "32623",
                                    "tag_name": "witches",
                                    "tag_count": "98"
                                },
                                {
                                    "title": "Macbeth",
                                    "authors": "William Shakespeare",
                                    "tag_id": "32623",
                                    "tag_name": "witches",
                                    "tag_count": "99"
                                },
                                {
                                    "title": "A Great and Terrible Beauty (Gemma Doyle, #1)",
                                    "authors": "Libba Bray",
                                    "tag_id": "32623",
                                    "tag_name": "witches",
                                    "tag_count": "100"
                                },
                                {
                                    "title": "Carrie / 'Salem's Lot / The Shining",
                                    "authors": "Stephen King",
                                    "tag_id": "13875",
                                    "tag_name": "halloween-reading",
                                    "tag_count": "100"
                                },
                                {
                                    "title": "Carrie / 'Salem's Lot / The Shining",
                                    "authors": "Stephen King",
                                    "tag_id": "28150",
                                    "tag_name": "sorcery-witches-magic-etc",
                                    "tag_count": "100"
                                },
                                {
                                    "title": "Enchantment",
                                    "authors": "Orson Scott Card",
                                    "tag_id": "32623",
                                    "tag_name": "witches",
                                    "tag_count": "100"
                                },
                                {
                                    "title": "Harry Potter and the Goblet of Fire (Harry Potter, #4)",
                                    "authors": "J.K. Rowling, Mary GrandPré",
                                    "tag_id": "32623",
                                    "tag_name": "witches",
                                    "tag_count": "100"
                                },
                                {
                                    "title": "Harry Potter and the Half-Blood Prince (Harry Potter, #6)",
                                    "authors": "J.K. Rowling, Mary GrandPré",
                                    "tag_id": "32623",
                                    "tag_name": "witches",
                                    "tag_count": "100"
                                },
                                {
                                    "title": "Harry Potter and the Order of the Phoenix (Harry Potter, #5)",
                                    "authors": "J.K. Rowling, Mary GrandPré",
                                    "tag_id": "32623",
                                    "tag_name": "witches",
                                    "tag_count": "100"
                                },
                                {
                                    "title": "Harry Potter and the Prisoner of Azkaban (Harry Potter, #3)",
                                    "authors": "J.K. Rowling, Mary GrandPré, Rufus Beck",
                                    "tag_id": "32623",
                                    "tag_name": "witches",
                                    "tag_count": "100"
                                },
                                {
                                    "title": "Harry Potter and the Sorcerer's Stone (Harry Potter, #1)",
                                    "authors": "J.K. Rowling, Mary GrandPré",
                                    "tag_id": "32623",
                                    "tag_name": "witches",
                                    "tag_count": "100"
                                },
                                {
                                    "title": "Harry Potter Boxed Set, Books 1-5 (Harry Potter, #1-5)",
                                    "authors": "J.K. Rowling, Mary GrandPré",
                                    "tag_id": "32623",
                                    "tag_name": "witches",
                                    "tag_count": "100"
                                },
                                {
                                    "title": "Harry Potter Collection (Harry Potter, #1-6)",
                                    "authors": "J.K. Rowling",
                                    "tag_id": "32623",
                                    "tag_name": "witches",
                                    "tag_count": "100"
                                },
                                {
                                    "title": "Harry Potter Schoolbooks Box Set: Two Classic Books from the Library of Hogwarts School of Witchcraft and Wizardry",
                                    "authors": "J.K. Rowling",
                                    "tag_id": "32623",
                                    "tag_name": "witches",
                                    "tag_count": "100"
                                },
                                {
                                    "title": "Harry Potter Schoolbooks Box Set: Two Classic Books from the Library of Hogwarts School of Witchcraft and Wizardry",
                                    "authors": "J.K. Rowling",
                                    "tag_id": "32631",
                                    "tag_name": "witches-wizards",
                                    "tag_count": "100"
                                },
                                {
                                    "title": "The Witches",
                                    "authors": "Roald Dahl, Quentin Blake",
                                    "tag_id": "30196",
                                    "tag_name": "the-witches",
                                    "tag_count": "100"
                                },
                                {
                                    "title": "The Witches",
                                    "authors": "Roald Dahl, Quentin Blake",
                                    "tag_id": "32623",
                                    "tag_name": "witches",
                                    "tag_count": "100"
                                }
                            ]
                        },
                        "text/html": [
                            "<table>",
                            "<tr><th>title</th><th>authors</th><th>tag_id</th><th>tag_name</th><th>tag_count</th></tr>",
                            "<tr><td>Eaters of the Dead</td><td>Michael Crichton</td><td>20405</td><td>monsters</td><td>12</td></tr>",
                            "<tr><td>The Terror</td><td>Dan Simmons</td><td>20405</td><td>monsters</td><td>29</td></tr>",
                            "<tr><td>Bleach, Volume 15</td><td>Tite Kubo</td><td>20405</td><td>monsters</td><td>47</td></tr>",
                            "<tr><td>Suffer the Children</td><td>John Saul</td><td>13876</td><td>halloween-reads</td><td>76</td></tr>",
                            "<tr><td>Sunshine</td><td>Robin McKinley</td><td>32623</td><td>witches</td><td>93</td></tr>",
                            "<tr><td>Witches Abroad (Discworld, #12; Witches #3)</td><td>Terry Pratchett</td><td>9572</td><td>discworld-witches</td><td>98</td></tr>",
                            "<tr><td>Witches Abroad (Discworld, #12; Witches #3)</td><td>Terry Pratchett</td><td>32617</td><td>witchcraft</td><td>98</td></tr>",
                            "<tr><td>Witches Abroad (Discworld, #12; Witches #3)</td><td>Terry Pratchett</td><td>32623</td><td>witches</td><td>98</td></tr>",
                            "<tr><td>Macbeth</td><td>William Shakespeare</td><td>32623</td><td>witches</td><td>99</td></tr>",
                            "<tr><td>A Great and Terrible Beauty (Gemma Doyle, #1)</td><td>Libba Bray</td><td>32623</td><td>witches</td><td>100</td></tr>",
                            "<tr><td>Carrie / 'Salem's Lot / The Shining</td><td>Stephen King</td><td>13875</td><td>halloween-reading</td><td>100</td></tr>",
                            "<tr><td>Carrie / 'Salem's Lot / The Shining</td><td>Stephen King</td><td>28150</td><td>sorcery-witches-magic-etc</td><td>100</td></tr>",
                            "<tr><td>Enchantment</td><td>Orson Scott Card</td><td>32623</td><td>witches</td><td>100</td></tr>",
                            "<tr><td>Harry Potter and the Goblet of Fire (Harry Potter, #4)</td><td>J.K. Rowling, Mary GrandPré</td><td>32623</td><td>witches</td><td>100</td></tr>",
                            "<tr><td>Harry Potter and the Half-Blood Prince (Harry Potter, #6)</td><td>J.K. Rowling, Mary GrandPré</td><td>32623</td><td>witches</td><td>100</td></tr>",
                            "<tr><td>Harry Potter and the Order of the Phoenix (Harry Potter, #5)</td><td>J.K. Rowling, Mary GrandPré</td><td>32623</td><td>witches</td><td>100</td></tr>",
                            "<tr><td>Harry Potter and the Prisoner of Azkaban (Harry Potter, #3)</td><td>J.K. Rowling, Mary GrandPré, Rufus Beck</td><td>32623</td><td>witches</td><td>100</td></tr>",
                            "<tr><td>Harry Potter and the Sorcerer's Stone (Harry Potter, #1)</td><td>J.K. Rowling, Mary GrandPré</td><td>32623</td><td>witches</td><td>100</td></tr>",
                            "<tr><td>Harry Potter Boxed Set, Books 1-5 (Harry Potter, #1-5)</td><td>J.K. Rowling, Mary GrandPré</td><td>32623</td><td>witches</td><td>100</td></tr>",
                            "<tr><td>Harry Potter Collection (Harry Potter, #1-6)</td><td>J.K. Rowling</td><td>32623</td><td>witches</td><td>100</td></tr>",
                            "<tr><td>Harry Potter Schoolbooks Box Set: Two Classic Books from the Library of Hogwarts School of Witchcraft and Wizardry</td><td>J.K. Rowling</td><td>32623</td><td>witches</td><td>100</td></tr>",
                            "<tr><td>Harry Potter Schoolbooks Box Set: Two Classic Books from the Library of Hogwarts School of Witchcraft and Wizardry</td><td>J.K. Rowling</td><td>32631</td><td>witches-wizards</td><td>100</td></tr>",
                            "<tr><td>The Witches</td><td>Roald Dahl, Quentin Blake</td><td>30196</td><td>the-witches</td><td>100</td></tr>",
                            "<tr><td>The Witches</td><td>Roald Dahl, Quentin Blake</td><td>32623</td><td>witches</td><td>100</td></tr>",
                            "</table>"
                        ]
                    }
                }
            ],
            "execution_count": 51
        },
        {
            "cell_type": "code",
            "source": [
                ""
            ],
            "metadata": {
                "azdata_cell_guid": "5606f7f2-c46b-42d3-ac64-7ae21c3394f8",
                "language": "sql"
            },
            "outputs": [],
            "execution_count": null
        },
        {
            "cell_type": "markdown",
            "source": [
                "### **Summary of event 1:**\n",
                "\n",
                "Pulled the titles with the most halloween related tags with a rating greater than 5. We can promote these ones as part of the Halloween event."
            ],
            "metadata": {
                "azdata_cell_guid": "3bc72d4c-077b-42d3-9528-9aff8e7b6cf3"
            },
            "attachments": {}
        },
        {
            "cell_type": "code",
            "source": [
                "-- Event 2 Query\r\n",
                "-- Event 1 Query\r\n",
                "select\r\n",
                "title,\r\n",
                "authors,\r\n",
                "bt.tag_id,\r\n",
                "tag_name,\r\n",
                "count(bt.tag_id) as tag_count\r\n",
                "\r\n",
                "from booksdb.dbo.books b\r\n",
                "join booksdb.dbo.book_tags bt on bt.goodreads_book_id=b.book_id\r\n",
                "join booksdb.dbo.tags t on t.tag_id=bt.tag_id\r\n",
                "join booksdb.dbo.ratings r on r.book_id=b.book_id\r\n",
                "\r\n",
                "where lower(tag_name) like '%thanksgiving%' or lower(tag_name) like '%pilgrims%' or lower(tag_name) like '%native%american%'\r\n",
                "and rating = 5\r\n",
                "\r\n",
                "group by title, bt.tag_id, tag_name, authors\r\n",
                "\r\n",
                "having count(bt.tag_id) >25\r\n",
                "\r\n",
                "order by title, tag_count, tag_name"
            ],
            "metadata": {
                "azdata_cell_guid": "dca0a98f-065f-4b0e-9d93-fcb01cad668c",
                "language": "sql"
            },
            "outputs": [
                {
                    "output_type": "display_data",
                    "data": {
                        "text/html": "(11 rows affected)"
                    },
                    "metadata": {}
                },
                {
                    "output_type": "display_data",
                    "data": {
                        "text/html": "Total execution time: 00:00:02.627"
                    },
                    "metadata": {}
                },
                {
                    "output_type": "execute_result",
                    "metadata": {},
                    "execution_count": 50,
                    "data": {
                        "application/vnd.dataresource+json": {
                            "schema": {
                                "fields": [
                                    {
                                        "name": "title"
                                    },
                                    {
                                        "name": "authors"
                                    },
                                    {
                                        "name": "tag_id"
                                    },
                                    {
                                        "name": "tag_name"
                                    },
                                    {
                                        "name": "tag_count"
                                    }
                                ]
                            },
                            "data": [
                                {
                                    "title": "Mayflower: A Story of Courage, Community, and War",
                                    "authors": "Nathaniel Philbrick",
                                    "tag_id": "23646",
                                    "tag_name": "pilgrims",
                                    "tag_count": "100"
                                },
                                {
                                    "title": "Mayflower: A Story of Courage, Community, and War",
                                    "authors": "Nathaniel Philbrick",
                                    "tag_id": "29599",
                                    "tag_name": "thanksgiving",
                                    "tag_count": "100"
                                },
                                {
                                    "title": "Red Prophet (Tales of Alvin Maker, #2)",
                                    "authors": "Orson Scott Card",
                                    "tag_id": "21166",
                                    "tag_name": "native-american",
                                    "tag_count": "26"
                                },
                                {
                                    "title": "Reservation Blues",
                                    "authors": "Sherman Alexie",
                                    "tag_id": "21166",
                                    "tag_name": "native-american",
                                    "tag_count": "41"
                                },
                                {
                                    "title": "Reservation Blues",
                                    "authors": "Sherman Alexie",
                                    "tag_id": "21167",
                                    "tag_name": "native-american-authors",
                                    "tag_count": "41"
                                },
                                {
                                    "title": "Reservation Blues",
                                    "authors": "Sherman Alexie",
                                    "tag_id": "21168",
                                    "tag_name": "native-american-culture",
                                    "tag_count": "41"
                                },
                                {
                                    "title": "Reservation Blues",
                                    "authors": "Sherman Alexie",
                                    "tag_id": "21169",
                                    "tag_name": "native-american-fiction",
                                    "tag_count": "41"
                                },
                                {
                                    "title": "Reservation Blues",
                                    "authors": "Sherman Alexie",
                                    "tag_id": "21172",
                                    "tag_name": "native-american-lit",
                                    "tag_count": "41"
                                },
                                {
                                    "title": "Reservation Blues",
                                    "authors": "Sherman Alexie",
                                    "tag_id": "21173",
                                    "tag_name": "native-american-literature",
                                    "tag_count": "41"
                                },
                                {
                                    "title": "Reservation Blues",
                                    "authors": "Sherman Alexie",
                                    "tag_id": "21175",
                                    "tag_name": "native-americans",
                                    "tag_count": "41"
                                },
                                {
                                    "title": "The Barefoot Contessa Cookbook",
                                    "authors": "Ina Garten, Melanie Acevedo",
                                    "tag_id": "29599",
                                    "tag_name": "thanksgiving",
                                    "tag_count": "100"
                                }
                            ]
                        },
                        "text/html": [
                            "<table>",
                            "<tr><th>title</th><th>authors</th><th>tag_id</th><th>tag_name</th><th>tag_count</th></tr>",
                            "<tr><td>Mayflower: A Story of Courage, Community, and War</td><td>Nathaniel Philbrick</td><td>23646</td><td>pilgrims</td><td>100</td></tr>",
                            "<tr><td>Mayflower: A Story of Courage, Community, and War</td><td>Nathaniel Philbrick</td><td>29599</td><td>thanksgiving</td><td>100</td></tr>",
                            "<tr><td>Red Prophet (Tales of Alvin Maker, #2)</td><td>Orson Scott Card</td><td>21166</td><td>native-american</td><td>26</td></tr>",
                            "<tr><td>Reservation Blues</td><td>Sherman Alexie</td><td>21166</td><td>native-american</td><td>41</td></tr>",
                            "<tr><td>Reservation Blues</td><td>Sherman Alexie</td><td>21167</td><td>native-american-authors</td><td>41</td></tr>",
                            "<tr><td>Reservation Blues</td><td>Sherman Alexie</td><td>21168</td><td>native-american-culture</td><td>41</td></tr>",
                            "<tr><td>Reservation Blues</td><td>Sherman Alexie</td><td>21169</td><td>native-american-fiction</td><td>41</td></tr>",
                            "<tr><td>Reservation Blues</td><td>Sherman Alexie</td><td>21172</td><td>native-american-lit</td><td>41</td></tr>",
                            "<tr><td>Reservation Blues</td><td>Sherman Alexie</td><td>21173</td><td>native-american-literature</td><td>41</td></tr>",
                            "<tr><td>Reservation Blues</td><td>Sherman Alexie</td><td>21175</td><td>native-americans</td><td>41</td></tr>",
                            "<tr><td>The Barefoot Contessa Cookbook</td><td>Ina Garten, Melanie Acevedo</td><td>29599</td><td>thanksgiving</td><td>100</td></tr>",
                            "</table>"
                        ]
                    }
                }
            ],
            "execution_count": 50
        },
        {
            "cell_type": "code",
            "source": [
                ""
            ],
            "metadata": {
                "azdata_cell_guid": "3aaae3a8-eff7-4b37-8970-2d913a67239b",
                "language": "sql"
            },
            "outputs": [],
            "execution_count": null
        },
        {
            "cell_type": "markdown",
            "source": [
                "### **Summary of event 2:**\n",
                "\n",
                "Pulled the books with the most tags related to Thanksgiving with ratings of 5."
            ],
            "metadata": {
                "azdata_cell_guid": "99d518dc-cd8b-42d6-9a9d-708771c9aa99"
            },
            "attachments": {}
        }
    ]
}